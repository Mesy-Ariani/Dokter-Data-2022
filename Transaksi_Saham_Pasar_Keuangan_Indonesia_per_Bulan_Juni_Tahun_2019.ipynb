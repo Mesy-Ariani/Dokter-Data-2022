{
  "cells": [
    {
      "cell_type": "code",
      "execution_count": null,
      "metadata": {
        "colab": {
          "base_uri": "https://localhost:8080/"
        },
        "id": "ZA_v5EGiSRTh",
        "outputId": "14804c26-cb45-44a6-e0f7-48aa2de9790d"
      },
      "outputs": [
        {
          "name": "stdout",
          "output_type": "stream",
          "text": [
            "Looking in indexes: https://pypi.org/simple, https://us-python.pkg.dev/colab-wheels/public/simple/\n",
            "Requirement already satisfied: xlrd in /usr/local/lib/python3.7/dist-packages (1.1.0)\n"
          ]
        }
      ],
      "source": [
        "!pip install xlrd"
      ]
    },
    {
      "cell_type": "code",
      "execution_count": null,
      "metadata": {
        "id": "Jkgn1HmBOQ6g"
      },
      "outputs": [],
      "source": [
        "import pandas as pd\n",
        "import numpy as np\n",
        "import scipy.stats\n",
        "import seaborn as sns # untuk visualisasi data\n",
        "import matplotlib.pyplot as plt # untuk visualisasi data\n",
        "import missingno as msno # untuk visualisasi data\n",
        "# untuk persiapan data\n",
        "from sklearn.model_selection import train_test_split\n",
        "from sklearn.preprocessing import RobustScaler\n",
        "from sklearn.preprocessing import MinMaxScaler\n",
        "#Modelling\n",
        "from sklearn.linear_model import Ridge as rid\n",
        "from sklearn.metrics import mean_squared_error\n",
        "from sklearn.metrics import mean_absolute_error\n",
        "from sklearn.metrics import mean_absolute_percentage_error\n",
        "from sklearn.metrics import r2_score\n",
        "\n"
      ]
    },
    {
      "cell_type": "code",
      "execution_count": null,
      "metadata": {
        "id": "dFl1WI0pRuOv"
      },
      "outputs": [],
      "source": [
        "data=pd.read_excel('/content/Juni 2019.xlsx')"
      ]
    },
    {
      "cell_type": "code",
      "execution_count": null,
      "metadata": {
        "id": "37qFCf-WjYxp"
      },
      "outputs": [],
      "source": [
        "np.random.seed(2022)"
      ]
    },
    {
      "cell_type": "markdown",
      "metadata": {
        "id": "Ue48E9x9T6YF"
      },
      "source": [
        "#Data Understanding"
      ]
    },
    {
      "cell_type": "code",
      "execution_count": null,
      "metadata": {
        "colab": {
          "base_uri": "https://localhost:8080/",
          "height": 887
        },
        "id": "kra5gijqSZfl",
        "outputId": "d9ae7200-9ad2-4dbb-8042-9498ffd56e59"
      },
      "outputs": [
        {
          "data": {
            "text/html": [
              "\n",
              "  <div id=\"df-b14c7b18-a50a-45d3-915f-86f6516aa2e7\">\n",
              "    <div class=\"colab-df-container\">\n",
              "      <div>\n",
              "<style scoped>\n",
              "    .dataframe tbody tr th:only-of-type {\n",
              "        vertical-align: middle;\n",
              "    }\n",
              "\n",
              "    .dataframe tbody tr th {\n",
              "        vertical-align: top;\n",
              "    }\n",
              "\n",
              "    .dataframe thead th {\n",
              "        text-align: right;\n",
              "    }\n",
              "</style>\n",
              "<table border=\"1\" class=\"dataframe\">\n",
              "  <thead>\n",
              "    <tr style=\"text-align: right;\">\n",
              "      <th></th>\n",
              "      <th>No.</th>\n",
              "      <th>Sector</th>\n",
              "      <th>Sub Sector Code</th>\n",
              "      <th>Sub Sector</th>\n",
              "      <th>Code</th>\n",
              "      <th>Stock Name</th>\n",
              "      <th>Sharia</th>\n",
              "      <th>Market Cap., b.IDR</th>\n",
              "      <th>Regular Volume, th.shares</th>\n",
              "      <th>Regular Value, m.IDR</th>\n",
              "      <th>Regular Freq, x</th>\n",
              "      <th>Regular Days</th>\n",
              "      <th>Total Volume, th.shares</th>\n",
              "      <th>Total Value, m.IDR</th>\n",
              "      <th>Total Freq, x</th>\n",
              "      <th>Total Days</th>\n",
              "    </tr>\n",
              "  </thead>\n",
              "  <tbody>\n",
              "    <tr>\n",
              "      <th>0</th>\n",
              "      <td>1</td>\n",
              "      <td>AGRICULTURE</td>\n",
              "      <td>11</td>\n",
              "      <td>Crops</td>\n",
              "      <td>BISI</td>\n",
              "      <td>Bisi International Tbk.</td>\n",
              "      <td>S</td>\n",
              "      <td>4425.000000</td>\n",
              "      <td>14320.6</td>\n",
              "      <td>21188.8290</td>\n",
              "      <td>3847</td>\n",
              "      <td>15</td>\n",
              "      <td>26570.108</td>\n",
              "      <td>39234.826980</td>\n",
              "      <td>3860</td>\n",
              "      <td>15</td>\n",
              "    </tr>\n",
              "    <tr>\n",
              "      <th>1</th>\n",
              "      <td>2</td>\n",
              "      <td>AGRICULTURE</td>\n",
              "      <td>12</td>\n",
              "      <td>Plantation</td>\n",
              "      <td>ANDI</td>\n",
              "      <td>Andira Agro Tbk.</td>\n",
              "      <td>-</td>\n",
              "      <td>3758.700000</td>\n",
              "      <td>1975.7</td>\n",
              "      <td>3773.9010</td>\n",
              "      <td>780</td>\n",
              "      <td>15</td>\n",
              "      <td>2711.000</td>\n",
              "      <td>4773.909000</td>\n",
              "      <td>781</td>\n",
              "      <td>15</td>\n",
              "    </tr>\n",
              "    <tr>\n",
              "      <th>2</th>\n",
              "      <td>3</td>\n",
              "      <td>AGRICULTURE</td>\n",
              "      <td>12</td>\n",
              "      <td>Plantation</td>\n",
              "      <td>AALI</td>\n",
              "      <td>Astra Agro Lestari Tbk.</td>\n",
              "      <td>S</td>\n",
              "      <td>20016.758663</td>\n",
              "      <td>8593.9</td>\n",
              "      <td>88918.2750</td>\n",
              "      <td>9706</td>\n",
              "      <td>15</td>\n",
              "      <td>9460.842</td>\n",
              "      <td>97873.369325</td>\n",
              "      <td>9721</td>\n",
              "      <td>15</td>\n",
              "    </tr>\n",
              "    <tr>\n",
              "      <th>3</th>\n",
              "      <td>4</td>\n",
              "      <td>AGRICULTURE</td>\n",
              "      <td>12</td>\n",
              "      <td>Plantation</td>\n",
              "      <td>ANJT</td>\n",
              "      <td>Austindo Nusantara Jaya Tbk.</td>\n",
              "      <td>S</td>\n",
              "      <td>3052.299250</td>\n",
              "      <td>778.4</td>\n",
              "      <td>701.6310</td>\n",
              "      <td>134</td>\n",
              "      <td>12</td>\n",
              "      <td>778.400</td>\n",
              "      <td>701.631000</td>\n",
              "      <td>134</td>\n",
              "      <td>12</td>\n",
              "    </tr>\n",
              "    <tr>\n",
              "      <th>4</th>\n",
              "      <td>5</td>\n",
              "      <td>AGRICULTURE</td>\n",
              "      <td>12</td>\n",
              "      <td>Plantation</td>\n",
              "      <td>UNSP</td>\n",
              "      <td>Bakrie Sumatera Plantations Tbk.</td>\n",
              "      <td>-</td>\n",
              "      <td>222.514449</td>\n",
              "      <td>27257.1</td>\n",
              "      <td>2389.4448</td>\n",
              "      <td>3506</td>\n",
              "      <td>15</td>\n",
              "      <td>27257.400</td>\n",
              "      <td>2389.471200</td>\n",
              "      <td>3508</td>\n",
              "      <td>15</td>\n",
              "    </tr>\n",
              "    <tr>\n",
              "      <th>...</th>\n",
              "      <td>...</td>\n",
              "      <td>...</td>\n",
              "      <td>...</td>\n",
              "      <td>...</td>\n",
              "      <td>...</td>\n",
              "      <td>...</td>\n",
              "      <td>...</td>\n",
              "      <td>...</td>\n",
              "      <td>...</td>\n",
              "      <td>...</td>\n",
              "      <td>...</td>\n",
              "      <td>...</td>\n",
              "      <td>...</td>\n",
              "      <td>...</td>\n",
              "      <td>...</td>\n",
              "      <td>...</td>\n",
              "    </tr>\n",
              "    <tr>\n",
              "      <th>633</th>\n",
              "      <td>634</td>\n",
              "      <td>TRADE AND SERVICES</td>\n",
              "      <td>99</td>\n",
              "      <td>Other not elsewhere classified</td>\n",
              "      <td>SIMA</td>\n",
              "      <td>Siwani Makmur Tbk.</td>\n",
              "      <td>-</td>\n",
              "      <td>41.160858</td>\n",
              "      <td>513369.6</td>\n",
              "      <td>51933.2526</td>\n",
              "      <td>35317</td>\n",
              "      <td>15</td>\n",
              "      <td>513701.713</td>\n",
              "      <td>51967.713250</td>\n",
              "      <td>35320</td>\n",
              "      <td>15</td>\n",
              "    </tr>\n",
              "    <tr>\n",
              "      <th>634</th>\n",
              "      <td>635</td>\n",
              "      <td>TRADE AND SERVICES</td>\n",
              "      <td>99</td>\n",
              "      <td>Other not elsewhere classified</td>\n",
              "      <td>ITMA</td>\n",
              "      <td>Sumber Energi Andalan Tbk.</td>\n",
              "      <td>S</td>\n",
              "      <td>523.600000</td>\n",
              "      <td>88.4</td>\n",
              "      <td>67.9835</td>\n",
              "      <td>107</td>\n",
              "      <td>14</td>\n",
              "      <td>88.400</td>\n",
              "      <td>67.983500</td>\n",
              "      <td>107</td>\n",
              "      <td>14</td>\n",
              "    </tr>\n",
              "    <tr>\n",
              "      <th>635</th>\n",
              "      <td>636</td>\n",
              "      <td>TRADE AND SERVICES</td>\n",
              "      <td>99</td>\n",
              "      <td>Other not elsewhere classified</td>\n",
              "      <td>SFAN</td>\n",
              "      <td>Surya Fajar Capital Tbk</td>\n",
              "      <td>-</td>\n",
              "      <td>637.500000</td>\n",
              "      <td>33290.1</td>\n",
              "      <td>20139.1928</td>\n",
              "      <td>5338</td>\n",
              "      <td>8</td>\n",
              "      <td>33290.100</td>\n",
              "      <td>20139.192800</td>\n",
              "      <td>5338</td>\n",
              "      <td>8</td>\n",
              "    </tr>\n",
              "    <tr>\n",
              "      <th>636</th>\n",
              "      <td>637</td>\n",
              "      <td>TRADE AND SERVICES</td>\n",
              "      <td>99</td>\n",
              "      <td>Other not elsewhere classified</td>\n",
              "      <td>INDX</td>\n",
              "      <td>Tanah Laut Tbk.</td>\n",
              "      <td>-</td>\n",
              "      <td>30.653951</td>\n",
              "      <td>2245.3</td>\n",
              "      <td>157.3933</td>\n",
              "      <td>837</td>\n",
              "      <td>15</td>\n",
              "      <td>2245.300</td>\n",
              "      <td>157.393300</td>\n",
              "      <td>837</td>\n",
              "      <td>15</td>\n",
              "    </tr>\n",
              "    <tr>\n",
              "      <th>637</th>\n",
              "      <td>638</td>\n",
              "      <td>TRADE AND SERVICES</td>\n",
              "      <td>99</td>\n",
              "      <td>Other not elsewhere classified</td>\n",
              "      <td>YELO</td>\n",
              "      <td>Yelooo Integra Datanet Tbk.</td>\n",
              "      <td>S</td>\n",
              "      <td>80.560004</td>\n",
              "      <td>57691.3</td>\n",
              "      <td>12825.8608</td>\n",
              "      <td>9302</td>\n",
              "      <td>15</td>\n",
              "      <td>58852.787</td>\n",
              "      <td>13097.470680</td>\n",
              "      <td>9305</td>\n",
              "      <td>15</td>\n",
              "    </tr>\n",
              "  </tbody>\n",
              "</table>\n",
              "<p>638 rows × 16 columns</p>\n",
              "</div>\n",
              "      <button class=\"colab-df-convert\" onclick=\"convertToInteractive('df-b14c7b18-a50a-45d3-915f-86f6516aa2e7')\"\n",
              "              title=\"Convert this dataframe to an interactive table.\"\n",
              "              style=\"display:none;\">\n",
              "        \n",
              "  <svg xmlns=\"http://www.w3.org/2000/svg\" height=\"24px\"viewBox=\"0 0 24 24\"\n",
              "       width=\"24px\">\n",
              "    <path d=\"M0 0h24v24H0V0z\" fill=\"none\"/>\n",
              "    <path d=\"M18.56 5.44l.94 2.06.94-2.06 2.06-.94-2.06-.94-.94-2.06-.94 2.06-2.06.94zm-11 1L8.5 8.5l.94-2.06 2.06-.94-2.06-.94L8.5 2.5l-.94 2.06-2.06.94zm10 10l.94 2.06.94-2.06 2.06-.94-2.06-.94-.94-2.06-.94 2.06-2.06.94z\"/><path d=\"M17.41 7.96l-1.37-1.37c-.4-.4-.92-.59-1.43-.59-.52 0-1.04.2-1.43.59L10.3 9.45l-7.72 7.72c-.78.78-.78 2.05 0 2.83L4 21.41c.39.39.9.59 1.41.59.51 0 1.02-.2 1.41-.59l7.78-7.78 2.81-2.81c.8-.78.8-2.07 0-2.86zM5.41 20L4 18.59l7.72-7.72 1.47 1.35L5.41 20z\"/>\n",
              "  </svg>\n",
              "      </button>\n",
              "      \n",
              "  <style>\n",
              "    .colab-df-container {\n",
              "      display:flex;\n",
              "      flex-wrap:wrap;\n",
              "      gap: 12px;\n",
              "    }\n",
              "\n",
              "    .colab-df-convert {\n",
              "      background-color: #E8F0FE;\n",
              "      border: none;\n",
              "      border-radius: 50%;\n",
              "      cursor: pointer;\n",
              "      display: none;\n",
              "      fill: #1967D2;\n",
              "      height: 32px;\n",
              "      padding: 0 0 0 0;\n",
              "      width: 32px;\n",
              "    }\n",
              "\n",
              "    .colab-df-convert:hover {\n",
              "      background-color: #E2EBFA;\n",
              "      box-shadow: 0px 1px 2px rgba(60, 64, 67, 0.3), 0px 1px 3px 1px rgba(60, 64, 67, 0.15);\n",
              "      fill: #174EA6;\n",
              "    }\n",
              "\n",
              "    [theme=dark] .colab-df-convert {\n",
              "      background-color: #3B4455;\n",
              "      fill: #D2E3FC;\n",
              "    }\n",
              "\n",
              "    [theme=dark] .colab-df-convert:hover {\n",
              "      background-color: #434B5C;\n",
              "      box-shadow: 0px 1px 3px 1px rgba(0, 0, 0, 0.15);\n",
              "      filter: drop-shadow(0px 1px 2px rgba(0, 0, 0, 0.3));\n",
              "      fill: #FFFFFF;\n",
              "    }\n",
              "  </style>\n",
              "\n",
              "      <script>\n",
              "        const buttonEl =\n",
              "          document.querySelector('#df-b14c7b18-a50a-45d3-915f-86f6516aa2e7 button.colab-df-convert');\n",
              "        buttonEl.style.display =\n",
              "          google.colab.kernel.accessAllowed ? 'block' : 'none';\n",
              "\n",
              "        async function convertToInteractive(key) {\n",
              "          const element = document.querySelector('#df-b14c7b18-a50a-45d3-915f-86f6516aa2e7');\n",
              "          const dataTable =\n",
              "            await google.colab.kernel.invokeFunction('convertToInteractive',\n",
              "                                                     [key], {});\n",
              "          if (!dataTable) return;\n",
              "\n",
              "          const docLinkHtml = 'Like what you see? Visit the ' +\n",
              "            '<a target=\"_blank\" href=https://colab.research.google.com/notebooks/data_table.ipynb>data table notebook</a>'\n",
              "            + ' to learn more about interactive tables.';\n",
              "          element.innerHTML = '';\n",
              "          dataTable['output_type'] = 'display_data';\n",
              "          await google.colab.output.renderOutput(dataTable, element);\n",
              "          const docLink = document.createElement('div');\n",
              "          docLink.innerHTML = docLinkHtml;\n",
              "          element.appendChild(docLink);\n",
              "        }\n",
              "      </script>\n",
              "    </div>\n",
              "  </div>\n",
              "  "
            ],
            "text/plain": [
              "     No.              Sector  Sub Sector Code                      Sub Sector  \\\n",
              "0      1         AGRICULTURE               11                           Crops   \n",
              "1      2         AGRICULTURE               12                      Plantation   \n",
              "2      3         AGRICULTURE               12                      Plantation   \n",
              "3      4         AGRICULTURE               12                      Plantation   \n",
              "4      5         AGRICULTURE               12                      Plantation   \n",
              "..   ...                 ...              ...                             ...   \n",
              "633  634  TRADE AND SERVICES               99  Other not elsewhere classified   \n",
              "634  635  TRADE AND SERVICES               99  Other not elsewhere classified   \n",
              "635  636  TRADE AND SERVICES               99  Other not elsewhere classified   \n",
              "636  637  TRADE AND SERVICES               99  Other not elsewhere classified   \n",
              "637  638  TRADE AND SERVICES               99  Other not elsewhere classified   \n",
              "\n",
              "     Code                         Stock Name Sharia  Market Cap., b.IDR  \\\n",
              "0    BISI            Bisi International Tbk.      S         4425.000000   \n",
              "1    ANDI                  Andira Agro Tbk.       -         3758.700000   \n",
              "2    AALI            Astra Agro Lestari Tbk.      S        20016.758663   \n",
              "3    ANJT       Austindo Nusantara Jaya Tbk.      S         3052.299250   \n",
              "4    UNSP  Bakrie Sumatera Plantations Tbk.       -          222.514449   \n",
              "..    ...                                ...    ...                 ...   \n",
              "633  SIMA                Siwani Makmur Tbk.       -           41.160858   \n",
              "634  ITMA         Sumber Energi Andalan Tbk.      S          523.600000   \n",
              "635  SFAN           Surya Fajar Capital Tbk       -          637.500000   \n",
              "636  INDX                   Tanah Laut Tbk.       -           30.653951   \n",
              "637  YELO        Yelooo Integra Datanet Tbk.      S           80.560004   \n",
              "\n",
              "     Regular Volume, th.shares  Regular Value, m.IDR  Regular Freq, x  \\\n",
              "0                      14320.6            21188.8290             3847   \n",
              "1                       1975.7             3773.9010              780   \n",
              "2                       8593.9            88918.2750             9706   \n",
              "3                        778.4              701.6310              134   \n",
              "4                      27257.1             2389.4448             3506   \n",
              "..                         ...                   ...              ...   \n",
              "633                   513369.6            51933.2526            35317   \n",
              "634                       88.4               67.9835              107   \n",
              "635                    33290.1            20139.1928             5338   \n",
              "636                     2245.3              157.3933              837   \n",
              "637                    57691.3            12825.8608             9302   \n",
              "\n",
              "     Regular Days  Total Volume, th.shares  Total Value, m.IDR  Total Freq, x  \\\n",
              "0              15                26570.108        39234.826980           3860   \n",
              "1              15                 2711.000         4773.909000            781   \n",
              "2              15                 9460.842        97873.369325           9721   \n",
              "3              12                  778.400          701.631000            134   \n",
              "4              15                27257.400         2389.471200           3508   \n",
              "..            ...                      ...                 ...            ...   \n",
              "633            15               513701.713        51967.713250          35320   \n",
              "634            14                   88.400           67.983500            107   \n",
              "635             8                33290.100        20139.192800           5338   \n",
              "636            15                 2245.300          157.393300            837   \n",
              "637            15                58852.787        13097.470680           9305   \n",
              "\n",
              "     Total Days  \n",
              "0            15  \n",
              "1            15  \n",
              "2            15  \n",
              "3            12  \n",
              "4            15  \n",
              "..          ...  \n",
              "633          15  \n",
              "634          14  \n",
              "635           8  \n",
              "636          15  \n",
              "637          15  \n",
              "\n",
              "[638 rows x 16 columns]"
            ]
          },
          "execution_count": 5,
          "metadata": {},
          "output_type": "execute_result"
        }
      ],
      "source": [
        "data"
      ]
    },
    {
      "cell_type": "code",
      "execution_count": null,
      "metadata": {
        "colab": {
          "base_uri": "https://localhost:8080/"
        },
        "id": "nkEkQhTyVpo-",
        "outputId": "bf7fd84f-6147-4661-ff41-935c7037face"
      },
      "outputs": [
        {
          "data": {
            "text/plain": [
              "0      BISI\n",
              "1      ANDI\n",
              "2      AALI\n",
              "3      ANJT\n",
              "4      UNSP\n",
              "       ... \n",
              "633    SIMA\n",
              "634    ITMA\n",
              "635    SFAN\n",
              "636    INDX\n",
              "637    YELO\n",
              "Name: Code, Length: 638, dtype: object"
            ]
          },
          "execution_count": 7,
          "metadata": {},
          "output_type": "execute_result"
        }
      ],
      "source": [
        "data['Code']"
      ]
    },
    {
      "cell_type": "code",
      "execution_count": null,
      "metadata": {
        "colab": {
          "base_uri": "https://localhost:8080/"
        },
        "id": "SGqY2PJgTg4K",
        "outputId": "8c84e9b7-b860-4f42-dbdc-3785ca1bf336"
      },
      "outputs": [
        {
          "data": {
            "text/plain": [
              "(638, 16)"
            ]
          },
          "execution_count": 8,
          "metadata": {},
          "output_type": "execute_result"
        }
      ],
      "source": [
        "data.shape"
      ]
    },
    {
      "cell_type": "code",
      "execution_count": null,
      "metadata": {
        "colab": {
          "base_uri": "https://localhost:8080/"
        },
        "id": "9WJNPoNlTqLs",
        "outputId": "6291481f-525e-48e2-b5f7-c9e20b87e98d"
      },
      "outputs": [
        {
          "data": {
            "text/plain": [
              "No.                            int64\n",
              "Sector                        object\n",
              "Sub Sector Code                int64\n",
              "Sub Sector                    object\n",
              "Code                          object\n",
              "Stock Name                    object\n",
              "Sharia                        object\n",
              "Market Cap., b.IDR           float64\n",
              "Regular Volume, th.shares    float64\n",
              "Regular Value, m.IDR         float64\n",
              "Regular Freq, x                int64\n",
              "Regular Days                   int64\n",
              "Total Volume, th.shares      float64\n",
              "Total Value, m.IDR           float64\n",
              "Total Freq, x                  int64\n",
              "Total Days                     int64\n",
              "dtype: object"
            ]
          },
          "execution_count": 9,
          "metadata": {},
          "output_type": "execute_result"
        }
      ],
      "source": [
        "data.dtypes"
      ]
    },
    {
      "cell_type": "markdown",
      "metadata": {
        "id": "ujEw0P1EUG27"
      },
      "source": [
        "#Missing Value\n"
      ]
    },
    {
      "cell_type": "code",
      "execution_count": null,
      "metadata": {
        "colab": {
          "base_uri": "https://localhost:8080/"
        },
        "id": "vm-eoiXRUKCZ",
        "outputId": "9ee3065b-3bf5-48ad-cba4-4851b274e752"
      },
      "outputs": [
        {
          "data": {
            "text/plain": [
              "No.                          0\n",
              "Sector                       0\n",
              "Sub Sector Code              0\n",
              "Sub Sector                   0\n",
              "Code                         0\n",
              "Stock Name                   0\n",
              "Sharia                       0\n",
              "Market Cap., b.IDR           0\n",
              "Regular Volume, th.shares    0\n",
              "Regular Value, m.IDR         0\n",
              "Regular Freq, x              0\n",
              "Regular Days                 0\n",
              "Total Volume, th.shares      0\n",
              "Total Value, m.IDR           0\n",
              "Total Freq, x                0\n",
              "Total Days                   0\n",
              "dtype: int64"
            ]
          },
          "execution_count": 6,
          "metadata": {},
          "output_type": "execute_result"
        }
      ],
      "source": [
        "data.isna().sum()"
      ]
    },
    {
      "cell_type": "code",
      "execution_count": null,
      "metadata": {
        "colab": {
          "base_uri": "https://localhost:8080/",
          "height": 489
        },
        "id": "9PeUdgvkVAKD",
        "outputId": "11bdb995-8d2a-4220-c35b-cbd1a096f3c2"
      },
      "outputs": [
        {
          "data": {
            "image/png": "[encoded data removed]",
            "text/plain": [
              "<Figure size 1800x720 with 2 Axes>"
            ]
          },
          "metadata": {},
          "output_type": "display_data"
        }
      ],
      "source": [
        "msno.matrix(data)\n",
        "plt.show()"
      ]
    },
    {
      "cell_type": "markdown",
      "metadata": {
        "id": "PkOaMi2yYBI6"
      },
      "source": [
        "#Eksplorasi dan Visualisasi Data"
      ]
    },
    {
      "cell_type": "code",
      "execution_count": null,
      "metadata": {
        "colab": {
          "base_uri": "https://localhost:8080/"
        },
        "id": "bVc4e11TVTVP",
        "outputId": "693b93c2-f4e6-46c9-dd0d-db41bf245d93"
      },
      "outputs": [
        {
          "data": {
            "text/plain": [
              "False    638\n",
              "dtype: int64"
            ]
          },
          "execution_count": 7,
          "metadata": {},
          "output_type": "execute_result"
        }
      ],
      "source": [
        "data.duplicated().value_counts()"
      ]
    },
    {
      "cell_type": "code",
      "execution_count": null,
      "metadata": {
        "colab": {
          "base_uri": "https://localhost:8080/",
          "height": 600
        },
        "id": "p8qqJZfAYGnO",
        "outputId": "a551435b-62bb-4485-8b1b-181c4b68073c"
      },
      "outputs": [
        {
          "name": "stderr",
          "output_type": "stream",
          "text": [
            "/usr/local/lib/python3.7/dist-packages/seaborn/_decorators.py:43: FutureWarning: Pass the following variable as a keyword arg: x. From version 0.12, the only valid positional argument will be `data`, and passing other arguments without an explicit keyword will result in an error or misinterpretation.\n",
            "  FutureWarning\n",
            "/usr/local/lib/python3.7/dist-packages/seaborn/_decorators.py:43: FutureWarning: Pass the following variable as a keyword arg: x. From version 0.12, the only valid positional argument will be `data`, and passing other arguments without an explicit keyword will result in an error or misinterpretation.\n",
            "  FutureWarning\n",
            "/usr/local/lib/python3.7/dist-packages/seaborn/_decorators.py:43: FutureWarning: Pass the following variable as a keyword arg: x. From version 0.12, the only valid positional argument will be `data`, and passing other arguments without an explicit keyword will result in an error or misinterpretation.\n",
            "  FutureWarning\n",
            "/usr/local/lib/python3.7/dist-packages/seaborn/_decorators.py:43: FutureWarning: Pass the following variable as a keyword arg: x. From version 0.12, the only valid positional argument will be `data`, and passing other arguments without an explicit keyword will result in an error or misinterpretation.\n",
            "  FutureWarning\n"
          ]
        },
        {
          "data": {
            "image/png": "[encoded data removed]",
            "text/plain": [
              "<Figure size 504x432 with 4 Axes>"
            ]
          },
          "metadata": {},
          "output_type": "display_data"
        }
      ],
      "source": [
        "fig, ax = plt.subplots(4, figsize = (7, 6))\n",
        "plot_market = sns.boxplot(data['Market Cap., b.IDR'], ax = ax[0])\n",
        "plot_rvolume = sns.boxplot(data['Regular Volume, th.shares'], ax = ax[1])\n",
        "plot_rvalue = sns.boxplot(data['Regular Value, m.IDR'], ax = ax[2])\n",
        "plot_rfreq = sns.boxplot(data['Regular Freq, x'], ax = ax[3])\n",
        "plt.tight_layout()"
      ]
    },
    {
      "cell_type": "code",
      "execution_count": null,
      "metadata": {
        "colab": {
          "base_uri": "https://localhost:8080/",
          "height": 635
        },
        "id": "jUzgODuUZIym",
        "outputId": "6dbe4779-1d71-4528-ff90-6ea3f62994bb"
      },
      "outputs": [
        {
          "name": "stderr",
          "output_type": "stream",
          "text": [
            "/usr/local/lib/python3.7/dist-packages/seaborn/_decorators.py:43: FutureWarning: Pass the following variable as a keyword arg: x. From version 0.12, the only valid positional argument will be `data`, and passing other arguments without an explicit keyword will result in an error or misinterpretation.\n",
            "  FutureWarning\n",
            "/usr/local/lib/python3.7/dist-packages/seaborn/_decorators.py:43: FutureWarning: Pass the following variable as a keyword arg: x. From version 0.12, the only valid positional argument will be `data`, and passing other arguments without an explicit keyword will result in an error or misinterpretation.\n",
            "  FutureWarning\n",
            "/usr/local/lib/python3.7/dist-packages/seaborn/_decorators.py:43: FutureWarning: Pass the following variable as a keyword arg: x. From version 0.12, the only valid positional argument will be `data`, and passing other arguments without an explicit keyword will result in an error or misinterpretation.\n",
            "  FutureWarning\n",
            "/usr/local/lib/python3.7/dist-packages/seaborn/_decorators.py:43: FutureWarning: Pass the following variable as a keyword arg: x. From version 0.12, the only valid positional argument will be `data`, and passing other arguments without an explicit keyword will result in an error or misinterpretation.\n",
            "  FutureWarning\n",
            "/usr/local/lib/python3.7/dist-packages/seaborn/_decorators.py:43: FutureWarning: Pass the following variable as a keyword arg: x. From version 0.12, the only valid positional argument will be `data`, and passing other arguments without an explicit keyword will result in an error or misinterpretation.\n",
            "  FutureWarning\n"
          ]
        },
        {
          "data": {
            "image/png": "[encoded data removed]",
            "text/plain": [
              "<Figure size 504x432 with 5 Axes>"
            ]
          },
          "metadata": {},
          "output_type": "display_data"
        }
      ],
      "source": [
        "fig, ax = plt.subplots(5, figsize = (7, 6))\n",
        "plot_rd = sns.boxplot(data['Regular Days'], ax = ax[0])\n",
        "plot_tvolume = sns.boxplot(data['Total Volume, th.shares'], ax = ax[1])\n",
        "plot_tvalue = sns.boxplot(data['Total Value, m.IDR'], ax = ax[2])\n",
        "plot_tfreq = sns.boxplot(data['Total Freq, x'], ax = ax[3])\n",
        "plot_tdays = sns.boxplot(data['Total Days'], ax = ax[4])\n",
        "plt.tight_layout()"
      ]
    },
    {
      "cell_type": "code",
      "execution_count": null,
      "metadata": {
        "colab": {
          "base_uri": "https://localhost:8080/"
        },
        "id": "ipVV7TKRal52",
        "outputId": "727cc2f6-f429-47b9-f325-524a738e8d4d"
      },
      "outputs": [
        {
          "data": {
            "text/plain": [
              "S    400\n",
              "-    238\n",
              "Name: Sharia, dtype: int64"
            ]
          },
          "execution_count": 10,
          "metadata": {},
          "output_type": "execute_result"
        }
      ],
      "source": [
        "data['Sharia'].value_counts()"
      ]
    },
    {
      "cell_type": "code",
      "execution_count": null,
      "metadata": {
        "colab": {
          "base_uri": "https://localhost:8080/",
          "height": 262
        },
        "id": "qUZGnsPmZPvu",
        "outputId": "8daa1c9c-fa82-4671-903c-8c5f68880d55"
      },
      "outputs": [
        {
          "data": {
            "image/png": "[encoded data removed]",
            "text/plain": [
              "<Figure size 432x288 with 1 Axes>"
            ]
          },
          "metadata": {},
          "output_type": "display_data"
        }
      ],
      "source": [
        "data['Sharia'].value_counts().plot(kind = 'bar')\n",
        "plt.show()"
      ]
    },
    {
      "cell_type": "markdown",
      "metadata": {
        "id": "_-ZvXkDEY0lC"
      },
      "source": []
    },
    {
      "cell_type": "markdown",
      "metadata": {
        "id": "m2m_v1xUatFV"
      },
      "source": [
        "Pemilihan Variabel"
      ]
    },
    {
      "cell_type": "code",
      "execution_count": null,
      "metadata": {
        "colab": {
          "background_save": true
        },
        "id": "8WOsoeLlapQ4"
      },
      "outputs": [],
      "source": [
        "data=data.drop(['No.', 'Sector', 'Sub Sector Code', 'Sub Sector','Stock Name','Total Days'],axis=1)"
      ]
    },
    {
      "cell_type": "code",
      "execution_count": null,
      "metadata": {
        "colab": {
          "background_save": true,
          "base_uri": "https://localhost:8080/",
          "height": 502
        },
        "id": "lhOQE3sPav3X",
        "outputId": "0bdb9b15-3d32-40ae-bc9c-ee5547f291ba"
      },
      "outputs": [
        {
          "data": {
            "text/html": [
              "\n",
              "  <div id=\"df-d7bda8dd-1f66-4427-9b13-151e27a177ce\">\n",
              "    <div class=\"colab-df-container\">\n",
              "      <div>\n",
              "<style scoped>\n",
              "    .dataframe tbody tr th:only-of-type {\n",
              "        vertical-align: middle;\n",
              "    }\n",
              "\n",
              "    .dataframe tbody tr th {\n",
              "        vertical-align: top;\n",
              "    }\n",
              "\n",
              "    .dataframe thead th {\n",
              "        text-align: right;\n",
              "    }\n",
              "</style>\n",
              "<table border=\"1\" class=\"dataframe\">\n",
              "  <thead>\n",
              "    <tr style=\"text-align: right;\">\n",
              "      <th></th>\n",
              "      <th>Code</th>\n",
              "      <th>Sharia</th>\n",
              "      <th>Market Cap., b.IDR</th>\n",
              "      <th>Regular Volume, th.shares</th>\n",
              "      <th>Regular Value, m.IDR</th>\n",
              "      <th>Regular Freq, x</th>\n",
              "      <th>Regular Days</th>\n",
              "      <th>Total Volume, th.shares</th>\n",
              "      <th>Total Value, m.IDR</th>\n",
              "      <th>Total Freq, x</th>\n",
              "    </tr>\n",
              "  </thead>\n",
              "  <tbody>\n",
              "    <tr>\n",
              "      <th>0</th>\n",
              "      <td>BISI</td>\n",
              "      <td>S</td>\n",
              "      <td>4425.000000</td>\n",
              "      <td>14320.6</td>\n",
              "      <td>21188.8290</td>\n",
              "      <td>3847</td>\n",
              "      <td>15</td>\n",
              "      <td>26570.108</td>\n",
              "      <td>39234.826980</td>\n",
              "      <td>3860</td>\n",
              "    </tr>\n",
              "    <tr>\n",
              "      <th>1</th>\n",
              "      <td>ANDI</td>\n",
              "      <td>-</td>\n",
              "      <td>3758.700000</td>\n",
              "      <td>1975.7</td>\n",
              "      <td>3773.9010</td>\n",
              "      <td>780</td>\n",
              "      <td>15</td>\n",
              "      <td>2711.000</td>\n",
              "      <td>4773.909000</td>\n",
              "      <td>781</td>\n",
              "    </tr>\n",
              "    <tr>\n",
              "      <th>2</th>\n",
              "      <td>AALI</td>\n",
              "      <td>S</td>\n",
              "      <td>20016.758663</td>\n",
              "      <td>8593.9</td>\n",
              "      <td>88918.2750</td>\n",
              "      <td>9706</td>\n",
              "      <td>15</td>\n",
              "      <td>9460.842</td>\n",
              "      <td>97873.369325</td>\n",
              "      <td>9721</td>\n",
              "    </tr>\n",
              "    <tr>\n",
              "      <th>3</th>\n",
              "      <td>ANJT</td>\n",
              "      <td>S</td>\n",
              "      <td>3052.299250</td>\n",
              "      <td>778.4</td>\n",
              "      <td>701.6310</td>\n",
              "      <td>134</td>\n",
              "      <td>12</td>\n",
              "      <td>778.400</td>\n",
              "      <td>701.631000</td>\n",
              "      <td>134</td>\n",
              "    </tr>\n",
              "    <tr>\n",
              "      <th>4</th>\n",
              "      <td>UNSP</td>\n",
              "      <td>-</td>\n",
              "      <td>222.514449</td>\n",
              "      <td>27257.1</td>\n",
              "      <td>2389.4448</td>\n",
              "      <td>3506</td>\n",
              "      <td>15</td>\n",
              "      <td>27257.400</td>\n",
              "      <td>2389.471200</td>\n",
              "      <td>3508</td>\n",
              "    </tr>\n",
              "    <tr>\n",
              "      <th>...</th>\n",
              "      <td>...</td>\n",
              "      <td>...</td>\n",
              "      <td>...</td>\n",
              "      <td>...</td>\n",
              "      <td>...</td>\n",
              "      <td>...</td>\n",
              "      <td>...</td>\n",
              "      <td>...</td>\n",
              "      <td>...</td>\n",
              "      <td>...</td>\n",
              "    </tr>\n",
              "    <tr>\n",
              "      <th>633</th>\n",
              "      <td>SIMA</td>\n",
              "      <td>-</td>\n",
              "      <td>41.160858</td>\n",
              "      <td>513369.6</td>\n",
              "      <td>51933.2526</td>\n",
              "      <td>35317</td>\n",
              "      <td>15</td>\n",
              "      <td>513701.713</td>\n",
              "      <td>51967.713250</td>\n",
              "      <td>35320</td>\n",
              "    </tr>\n",
              "    <tr>\n",
              "      <th>634</th>\n",
              "      <td>ITMA</td>\n",
              "      <td>S</td>\n",
              "      <td>523.600000</td>\n",
              "      <td>88.4</td>\n",
              "      <td>67.9835</td>\n",
              "      <td>107</td>\n",
              "      <td>14</td>\n",
              "      <td>88.400</td>\n",
              "      <td>67.983500</td>\n",
              "      <td>107</td>\n",
              "    </tr>\n",
              "    <tr>\n",
              "      <th>635</th>\n",
              "      <td>SFAN</td>\n",
              "      <td>-</td>\n",
              "      <td>637.500000</td>\n",
              "      <td>33290.1</td>\n",
              "      <td>20139.1928</td>\n",
              "      <td>5338</td>\n",
              "      <td>8</td>\n",
              "      <td>33290.100</td>\n",
              "      <td>20139.192800</td>\n",
              "      <td>5338</td>\n",
              "    </tr>\n",
              "    <tr>\n",
              "      <th>636</th>\n",
              "      <td>INDX</td>\n",
              "      <td>-</td>\n",
              "      <td>30.653951</td>\n",
              "      <td>2245.3</td>\n",
              "      <td>157.3933</td>\n",
              "      <td>837</td>\n",
              "      <td>15</td>\n",
              "      <td>2245.300</td>\n",
              "      <td>157.393300</td>\n",
              "      <td>837</td>\n",
              "    </tr>\n",
              "    <tr>\n",
              "      <th>637</th>\n",
              "      <td>YELO</td>\n",
              "      <td>S</td>\n",
              "      <td>80.560004</td>\n",
              "      <td>57691.3</td>\n",
              "      <td>12825.8608</td>\n",
              "      <td>9302</td>\n",
              "      <td>15</td>\n",
              "      <td>58852.787</td>\n",
              "      <td>13097.470680</td>\n",
              "      <td>9305</td>\n",
              "    </tr>\n",
              "  </tbody>\n",
              "</table>\n",
              "<p>638 rows × 10 columns</p>\n",
              "</div>\n",
              "      <button class=\"colab-df-convert\" onclick=\"convertToInteractive('df-d7bda8dd-1f66-4427-9b13-151e27a177ce')\"\n",
              "              title=\"Convert this dataframe to an interactive table.\"\n",
              "              style=\"display:none;\">\n",
              "        \n",
              "  <svg xmlns=\"http://www.w3.org/2000/svg\" height=\"24px\"viewBox=\"0 0 24 24\"\n",
              "       width=\"24px\">\n",
              "    <path d=\"M0 0h24v24H0V0z\" fill=\"none\"/>\n",
              "    <path d=\"M18.56 5.44l.94 2.06.94-2.06 2.06-.94-2.06-.94-.94-2.06-.94 2.06-2.06.94zm-11 1L8.5 8.5l.94-2.06 2.06-.94-2.06-.94L8.5 2.5l-.94 2.06-2.06.94zm10 10l.94 2.06.94-2.06 2.06-.94-2.06-.94-.94-2.06-.94 2.06-2.06.94z\"/><path d=\"M17.41 7.96l-1.37-1.37c-.4-.4-.92-.59-1.43-.59-.52 0-1.04.2-1.43.59L10.3 9.45l-7.72 7.72c-.78.78-.78 2.05 0 2.83L4 21.41c.39.39.9.59 1.41.59.51 0 1.02-.2 1.41-.59l7.78-7.78 2.81-2.81c.8-.78.8-2.07 0-2.86zM5.41 20L4 18.59l7.72-7.72 1.47 1.35L5.41 20z\"/>\n",
              "  </svg>\n",
              "      </button>\n",
              "      \n",
              "  <style>\n",
              "    .colab-df-container {\n",
              "      display:flex;\n",
              "      flex-wrap:wrap;\n",
              "      gap: 12px;\n",
              "    }\n",
              "\n",
              "    .colab-df-convert {\n",
              "      background-color: #E8F0FE;\n",
              "      border: none;\n",
              "      border-radius: 50%;\n",
              "      cursor: pointer;\n",
              "      display: none;\n",
              "      fill: #1967D2;\n",
              "      height: 32px;\n",
              "      padding: 0 0 0 0;\n",
              "      width: 32px;\n",
              "    }\n",
              "\n",
              "    .colab-df-convert:hover {\n",
              "      background-color: #E2EBFA;\n",
              "      box-shadow: 0px 1px 2px rgba(60, 64, 67, 0.3), 0px 1px 3px 1px rgba(60, 64, 67, 0.15);\n",
              "      fill: #174EA6;\n",
              "    }\n",
              "\n",
              "    [theme=dark] .colab-df-convert {\n",
              "      background-color: #3B4455;\n",
              "      fill: #D2E3FC;\n",
              "    }\n",
              "\n",
              "    [theme=dark] .colab-df-convert:hover {\n",
              "      background-color: #434B5C;\n",
              "      box-shadow: 0px 1px 3px 1px rgba(0, 0, 0, 0.15);\n",
              "      filter: drop-shadow(0px 1px 2px rgba(0, 0, 0, 0.3));\n",
              "      fill: #FFFFFF;\n",
              "    }\n",
              "  </style>\n",
              "\n",
              "      <script>\n",
              "        const buttonEl =\n",
              "          document.querySelector('#df-d7bda8dd-1f66-4427-9b13-151e27a177ce button.colab-df-convert');\n",
              "        buttonEl.style.display =\n",
              "          google.colab.kernel.accessAllowed ? 'block' : 'none';\n",
              "\n",
              "        async function convertToInteractive(key) {\n",
              "          const element = document.querySelector('#df-d7bda8dd-1f66-4427-9b13-151e27a177ce');\n",
              "          const dataTable =\n",
              "            await google.colab.kernel.invokeFunction('convertToInteractive',\n",
              "                                                     [key], {});\n",
              "          if (!dataTable) return;\n",
              "\n",
              "          const docLinkHtml = 'Like what you see? Visit the ' +\n",
              "            '<a target=\"_blank\" href=https://colab.research.google.com/notebooks/data_table.ipynb>data table notebook</a>'\n",
              "            + ' to learn more about interactive tables.';\n",
              "          element.innerHTML = '';\n",
              "          dataTable['output_type'] = 'display_data';\n",
              "          await google.colab.output.renderOutput(dataTable, element);\n",
              "          const docLink = document.createElement('div');\n",
              "          docLink.innerHTML = docLinkHtml;\n",
              "          element.appendChild(docLink);\n",
              "        }\n",
              "      </script>\n",
              "    </div>\n",
              "  </div>\n",
              "  "
            ],
            "text/plain": [
              "     Code Sharia  Market Cap., b.IDR  Regular Volume, th.shares  \\\n",
              "0    BISI      S         4425.000000                    14320.6   \n",
              "1    ANDI      -         3758.700000                     1975.7   \n",
              "2    AALI      S        20016.758663                     8593.9   \n",
              "3    ANJT      S         3052.299250                      778.4   \n",
              "4    UNSP      -          222.514449                    27257.1   \n",
              "..    ...    ...                 ...                        ...   \n",
              "633  SIMA      -           41.160858                   513369.6   \n",
              "634  ITMA      S          523.600000                       88.4   \n",
              "635  SFAN      -          637.500000                    33290.1   \n",
              "636  INDX      -           30.653951                     2245.3   \n",
              "637  YELO      S           80.560004                    57691.3   \n",
              "\n",
              "     Regular Value, m.IDR  Regular Freq, x  Regular Days  \\\n",
              "0              21188.8290             3847            15   \n",
              "1               3773.9010              780            15   \n",
              "2              88918.2750             9706            15   \n",
              "3                701.6310              134            12   \n",
              "4               2389.4448             3506            15   \n",
              "..                    ...              ...           ...   \n",
              "633            51933.2526            35317            15   \n",
              "634               67.9835              107            14   \n",
              "635            20139.1928             5338             8   \n",
              "636              157.3933              837            15   \n",
              "637            12825.8608             9302            15   \n",
              "\n",
              "     Total Volume, th.shares  Total Value, m.IDR  Total Freq, x  \n",
              "0                  26570.108        39234.826980           3860  \n",
              "1                   2711.000         4773.909000            781  \n",
              "2                   9460.842        97873.369325           9721  \n",
              "3                    778.400          701.631000            134  \n",
              "4                  27257.400         2389.471200           3508  \n",
              "..                       ...                 ...            ...  \n",
              "633               513701.713        51967.713250          35320  \n",
              "634                   88.400           67.983500            107  \n",
              "635                33290.100        20139.192800           5338  \n",
              "636                 2245.300          157.393300            837  \n",
              "637                58852.787        13097.470680           9305  \n",
              "\n",
              "[638 rows x 10 columns]"
            ]
          },
          "execution_count": 9,
          "metadata": {},
          "output_type": "execute_result"
        }
      ],
      "source": [
        "data"
      ]
    },
    {
      "cell_type": "markdown",
      "metadata": {
        "id": "w3mGbXk8bfU0"
      },
      "source": [
        "Pembentukan Dummy Variabel"
      ]
    },
    {
      "cell_type": "code",
      "execution_count": null,
      "metadata": {
        "id": "eVzGLx4KbUA6"
      },
      "outputs": [],
      "source": [
        "dms = pd.get_dummies(data[['Sharia']])\n",
        "data= pd.concat([data,dms], axis=1 )\n",
        "data = data.drop(['Sharia'],axis=1)"
      ]
    },
    {
      "cell_type": "code",
      "execution_count": null,
      "metadata": {
        "colab": {
          "base_uri": "https://localhost:8080/",
          "height": 502
        },
        "id": "9JAPIkNQcPm1",
        "outputId": "6ce12667-734a-44f3-ae42-37eb04d9f45e"
      },
      "outputs": [
        {
          "data": {
            "text/html": [
              "\n",
              "  <div id=\"df-5d06449a-42ad-4d7b-9396-6ad138eb1efc\">\n",
              "    <div class=\"colab-df-container\">\n",
              "      <div>\n",
              "<style scoped>\n",
              "    .dataframe tbody tr th:only-of-type {\n",
              "        vertical-align: middle;\n",
              "    }\n",
              "\n",
              "    .dataframe tbody tr th {\n",
              "        vertical-align: top;\n",
              "    }\n",
              "\n",
              "    .dataframe thead th {\n",
              "        text-align: right;\n",
              "    }\n",
              "</style>\n",
              "<table border=\"1\" class=\"dataframe\">\n",
              "  <thead>\n",
              "    <tr style=\"text-align: right;\">\n",
              "      <th></th>\n",
              "      <th>Code</th>\n",
              "      <th>Market Cap., b.IDR</th>\n",
              "      <th>Regular Volume, th.shares</th>\n",
              "      <th>Regular Value, m.IDR</th>\n",
              "      <th>Regular Freq, x</th>\n",
              "      <th>Regular Days</th>\n",
              "      <th>Total Volume, th.shares</th>\n",
              "      <th>Total Value, m.IDR</th>\n",
              "      <th>Total Freq, x</th>\n",
              "      <th>Sharia_-</th>\n",
              "      <th>Sharia_S</th>\n",
              "    </tr>\n",
              "  </thead>\n",
              "  <tbody>\n",
              "    <tr>\n",
              "      <th>0</th>\n",
              "      <td>BISI</td>\n",
              "      <td>4425.000000</td>\n",
              "      <td>14320.6</td>\n",
              "      <td>21188.8290</td>\n",
              "      <td>3847</td>\n",
              "      <td>15</td>\n",
              "      <td>26570.108</td>\n",
              "      <td>39234.826980</td>\n",
              "      <td>3860</td>\n",
              "      <td>0</td>\n",
              "      <td>1</td>\n",
              "    </tr>\n",
              "    <tr>\n",
              "      <th>1</th>\n",
              "      <td>ANDI</td>\n",
              "      <td>3758.700000</td>\n",
              "      <td>1975.7</td>\n",
              "      <td>3773.9010</td>\n",
              "      <td>780</td>\n",
              "      <td>15</td>\n",
              "      <td>2711.000</td>\n",
              "      <td>4773.909000</td>\n",
              "      <td>781</td>\n",
              "      <td>1</td>\n",
              "      <td>0</td>\n",
              "    </tr>\n",
              "    <tr>\n",
              "      <th>2</th>\n",
              "      <td>AALI</td>\n",
              "      <td>20016.758663</td>\n",
              "      <td>8593.9</td>\n",
              "      <td>88918.2750</td>\n",
              "      <td>9706</td>\n",
              "      <td>15</td>\n",
              "      <td>9460.842</td>\n",
              "      <td>97873.369325</td>\n",
              "      <td>9721</td>\n",
              "      <td>0</td>\n",
              "      <td>1</td>\n",
              "    </tr>\n",
              "    <tr>\n",
              "      <th>3</th>\n",
              "      <td>ANJT</td>\n",
              "      <td>3052.299250</td>\n",
              "      <td>778.4</td>\n",
              "      <td>701.6310</td>\n",
              "      <td>134</td>\n",
              "      <td>12</td>\n",
              "      <td>778.400</td>\n",
              "      <td>701.631000</td>\n",
              "      <td>134</td>\n",
              "      <td>0</td>\n",
              "      <td>1</td>\n",
              "    </tr>\n",
              "    <tr>\n",
              "      <th>4</th>\n",
              "      <td>UNSP</td>\n",
              "      <td>222.514449</td>\n",
              "      <td>27257.1</td>\n",
              "      <td>2389.4448</td>\n",
              "      <td>3506</td>\n",
              "      <td>15</td>\n",
              "      <td>27257.400</td>\n",
              "      <td>2389.471200</td>\n",
              "      <td>3508</td>\n",
              "      <td>1</td>\n",
              "      <td>0</td>\n",
              "    </tr>\n",
              "    <tr>\n",
              "      <th>...</th>\n",
              "      <td>...</td>\n",
              "      <td>...</td>\n",
              "      <td>...</td>\n",
              "      <td>...</td>\n",
              "      <td>...</td>\n",
              "      <td>...</td>\n",
              "      <td>...</td>\n",
              "      <td>...</td>\n",
              "      <td>...</td>\n",
              "      <td>...</td>\n",
              "      <td>...</td>\n",
              "    </tr>\n",
              "    <tr>\n",
              "      <th>633</th>\n",
              "      <td>SIMA</td>\n",
              "      <td>41.160858</td>\n",
              "      <td>513369.6</td>\n",
              "      <td>51933.2526</td>\n",
              "      <td>35317</td>\n",
              "      <td>15</td>\n",
              "      <td>513701.713</td>\n",
              "      <td>51967.713250</td>\n",
              "      <td>35320</td>\n",
              "      <td>1</td>\n",
              "      <td>0</td>\n",
              "    </tr>\n",
              "    <tr>\n",
              "      <th>634</th>\n",
              "      <td>ITMA</td>\n",
              "      <td>523.600000</td>\n",
              "      <td>88.4</td>\n",
              "      <td>67.9835</td>\n",
              "      <td>107</td>\n",
              "      <td>14</td>\n",
              "      <td>88.400</td>\n",
              "      <td>67.983500</td>\n",
              "      <td>107</td>\n",
              "      <td>0</td>\n",
              "      <td>1</td>\n",
              "    </tr>\n",
              "    <tr>\n",
              "      <th>635</th>\n",
              "      <td>SFAN</td>\n",
              "      <td>637.500000</td>\n",
              "      <td>33290.1</td>\n",
              "      <td>20139.1928</td>\n",
              "      <td>5338</td>\n",
              "      <td>8</td>\n",
              "      <td>33290.100</td>\n",
              "      <td>20139.192800</td>\n",
              "      <td>5338</td>\n",
              "      <td>1</td>\n",
              "      <td>0</td>\n",
              "    </tr>\n",
              "    <tr>\n",
              "      <th>636</th>\n",
              "      <td>INDX</td>\n",
              "      <td>30.653951</td>\n",
              "      <td>2245.3</td>\n",
              "      <td>157.3933</td>\n",
              "      <td>837</td>\n",
              "      <td>15</td>\n",
              "      <td>2245.300</td>\n",
              "      <td>157.393300</td>\n",
              "      <td>837</td>\n",
              "      <td>1</td>\n",
              "      <td>0</td>\n",
              "    </tr>\n",
              "    <tr>\n",
              "      <th>637</th>\n",
              "      <td>YELO</td>\n",
              "      <td>80.560004</td>\n",
              "      <td>57691.3</td>\n",
              "      <td>12825.8608</td>\n",
              "      <td>9302</td>\n",
              "      <td>15</td>\n",
              "      <td>58852.787</td>\n",
              "      <td>13097.470680</td>\n",
              "      <td>9305</td>\n",
              "      <td>0</td>\n",
              "      <td>1</td>\n",
              "    </tr>\n",
              "  </tbody>\n",
              "</table>\n",
              "<p>638 rows × 11 columns</p>\n",
              "</div>\n",
              "      <button class=\"colab-df-convert\" onclick=\"convertToInteractive('df-5d06449a-42ad-4d7b-9396-6ad138eb1efc')\"\n",
              "              title=\"Convert this dataframe to an interactive table.\"\n",
              "              style=\"display:none;\">\n",
              "        \n",
              "  <svg xmlns=\"http://www.w3.org/2000/svg\" height=\"24px\"viewBox=\"0 0 24 24\"\n",
              "       width=\"24px\">\n",
              "    <path d=\"M0 0h24v24H0V0z\" fill=\"none\"/>\n",
              "    <path d=\"M18.56 5.44l.94 2.06.94-2.06 2.06-.94-2.06-.94-.94-2.06-.94 2.06-2.06.94zm-11 1L8.5 8.5l.94-2.06 2.06-.94-2.06-.94L8.5 2.5l-.94 2.06-2.06.94zm10 10l.94 2.06.94-2.06 2.06-.94-2.06-.94-.94-2.06-.94 2.06-2.06.94z\"/><path d=\"M17.41 7.96l-1.37-1.37c-.4-.4-.92-.59-1.43-.59-.52 0-1.04.2-1.43.59L10.3 9.45l-7.72 7.72c-.78.78-.78 2.05 0 2.83L4 21.41c.39.39.9.59 1.41.59.51 0 1.02-.2 1.41-.59l7.78-7.78 2.81-2.81c.8-.78.8-2.07 0-2.86zM5.41 20L4 18.59l7.72-7.72 1.47 1.35L5.41 20z\"/>\n",
              "  </svg>\n",
              "      </button>\n",
              "      \n",
              "  <style>\n",
              "    .colab-df-container {\n",
              "      display:flex;\n",
              "      flex-wrap:wrap;\n",
              "      gap: 12px;\n",
              "    }\n",
              "\n",
              "    .colab-df-convert {\n",
              "      background-color: #E8F0FE;\n",
              "      border: none;\n",
              "      border-radius: 50%;\n",
              "      cursor: pointer;\n",
              "      display: none;\n",
              "      fill: #1967D2;\n",
              "      height: 32px;\n",
              "      padding: 0 0 0 0;\n",
              "      width: 32px;\n",
              "    }\n",
              "\n",
              "    .colab-df-convert:hover {\n",
              "      background-color: #E2EBFA;\n",
              "      box-shadow: 0px 1px 2px rgba(60, 64, 67, 0.3), 0px 1px 3px 1px rgba(60, 64, 67, 0.15);\n",
              "      fill: #174EA6;\n",
              "    }\n",
              "\n",
              "    [theme=dark] .colab-df-convert {\n",
              "      background-color: #3B4455;\n",
              "      fill: #D2E3FC;\n",
              "    }\n",
              "\n",
              "    [theme=dark] .colab-df-convert:hover {\n",
              "      background-color: #434B5C;\n",
              "      box-shadow: 0px 1px 3px 1px rgba(0, 0, 0, 0.15);\n",
              "      filter: drop-shadow(0px 1px 2px rgba(0, 0, 0, 0.3));\n",
              "      fill: #FFFFFF;\n",
              "    }\n",
              "  </style>\n",
              "\n",
              "      <script>\n",
              "        const buttonEl =\n",
              "          document.querySelector('#df-5d06449a-42ad-4d7b-9396-6ad138eb1efc button.colab-df-convert');\n",
              "        buttonEl.style.display =\n",
              "          google.colab.kernel.accessAllowed ? 'block' : 'none';\n",
              "\n",
              "        async function convertToInteractive(key) {\n",
              "          const element = document.querySelector('#df-5d06449a-42ad-4d7b-9396-6ad138eb1efc');\n",
              "          const dataTable =\n",
              "            await google.colab.kernel.invokeFunction('convertToInteractive',\n",
              "                                                     [key], {});\n",
              "          if (!dataTable) return;\n",
              "\n",
              "          const docLinkHtml = 'Like what you see? Visit the ' +\n",
              "            '<a target=\"_blank\" href=https://colab.research.google.com/notebooks/data_table.ipynb>data table notebook</a>'\n",
              "            + ' to learn more about interactive tables.';\n",
              "          element.innerHTML = '';\n",
              "          dataTable['output_type'] = 'display_data';\n",
              "          await google.colab.output.renderOutput(dataTable, element);\n",
              "          const docLink = document.createElement('div');\n",
              "          docLink.innerHTML = docLinkHtml;\n",
              "          element.appendChild(docLink);\n",
              "        }\n",
              "      </script>\n",
              "    </div>\n",
              "  </div>\n",
              "  "
            ],
            "text/plain": [
              "     Code  Market Cap., b.IDR  Regular Volume, th.shares  \\\n",
              "0    BISI         4425.000000                    14320.6   \n",
              "1    ANDI         3758.700000                     1975.7   \n",
              "2    AALI        20016.758663                     8593.9   \n",
              "3    ANJT         3052.299250                      778.4   \n",
              "4    UNSP          222.514449                    27257.1   \n",
              "..    ...                 ...                        ...   \n",
              "633  SIMA           41.160858                   513369.6   \n",
              "634  ITMA          523.600000                       88.4   \n",
              "635  SFAN          637.500000                    33290.1   \n",
              "636  INDX           30.653951                     2245.3   \n",
              "637  YELO           80.560004                    57691.3   \n",
              "\n",
              "     Regular Value, m.IDR  Regular Freq, x  Regular Days  \\\n",
              "0              21188.8290             3847            15   \n",
              "1               3773.9010              780            15   \n",
              "2              88918.2750             9706            15   \n",
              "3                701.6310              134            12   \n",
              "4               2389.4448             3506            15   \n",
              "..                    ...              ...           ...   \n",
              "633            51933.2526            35317            15   \n",
              "634               67.9835              107            14   \n",
              "635            20139.1928             5338             8   \n",
              "636              157.3933              837            15   \n",
              "637            12825.8608             9302            15   \n",
              "\n",
              "     Total Volume, th.shares  Total Value, m.IDR  Total Freq, x  Sharia_-  \\\n",
              "0                  26570.108        39234.826980           3860         0   \n",
              "1                   2711.000         4773.909000            781         1   \n",
              "2                   9460.842        97873.369325           9721         0   \n",
              "3                    778.400          701.631000            134         0   \n",
              "4                  27257.400         2389.471200           3508         1   \n",
              "..                       ...                 ...            ...       ...   \n",
              "633               513701.713        51967.713250          35320         1   \n",
              "634                   88.400           67.983500            107         0   \n",
              "635                33290.100        20139.192800           5338         1   \n",
              "636                 2245.300          157.393300            837         1   \n",
              "637                58852.787        13097.470680           9305         0   \n",
              "\n",
              "     Sharia_S  \n",
              "0           1  \n",
              "1           0  \n",
              "2           1  \n",
              "3           1  \n",
              "4           0  \n",
              "..        ...  \n",
              "633         0  \n",
              "634         1  \n",
              "635         0  \n",
              "636         0  \n",
              "637         1  \n",
              "\n",
              "[638 rows x 11 columns]"
            ]
          },
          "execution_count": 15,
          "metadata": {},
          "output_type": "execute_result"
        }
      ],
      "source": [
        "data"
      ]
    },
    {
      "cell_type": "code",
      "execution_count": null,
      "metadata": {
        "colab": {
          "base_uri": "https://localhost:8080/"
        },
        "id": "kIrBZmcAcve5",
        "outputId": "1dd96317-6cf3-4212-f940-6efc70a33056"
      },
      "outputs": [
        {
          "data": {
            "text/plain": [
              "Index(['Code', 'Market Cap., b.IDR', 'Regular Volume, th.shares',\n",
              "       'Regular Value, m.IDR', 'Regular Freq, x', 'Regular Days',\n",
              "       'Total Volume, th.shares', 'Total Value, m.IDR', 'Total Freq, x',\n",
              "       'Sharia_-', 'Sharia_S'],\n",
              "      dtype='object')"
            ]
          },
          "execution_count": 16,
          "metadata": {},
          "output_type": "execute_result"
        }
      ],
      "source": [
        "data.columns"
      ]
    },
    {
      "cell_type": "code",
      "execution_count": null,
      "metadata": {
        "colab": {
          "base_uri": "https://localhost:8080/",
          "height": 408
        },
        "id": "2geSoUpg0mbV",
        "outputId": "630c0650-77ac-465a-9fd4-883f4ccd7cce"
      },
      "outputs": [
        {
          "data": {
            "text/plain": [
              "<matplotlib.axes._subplots.AxesSubplot at 0x7fdfe3214f10>"
            ]
          },
          "execution_count": 17,
          "metadata": {},
          "output_type": "execute_result"
        },
        {
          "data": {
            "image/png": "[encoded data removed]",
            "text/plain": [
              "<Figure size 432x288 with 2 Axes>"
            ]
          },
          "metadata": {},
          "output_type": "display_data"
        }
      ],
      "source": [
        "sns.heatmap(data.corr(), cmap=\"YlGnBu\", annot=True)"
      ]
    },
    {
      "cell_type": "markdown",
      "metadata": {
        "id": "pqLmxwSBdVAu"
      },
      "source": [
        "Spilting Data"
      ]
    },
    {
      "cell_type": "code",
      "execution_count": null,
      "metadata": {
        "id": "p58zPsDMdX6K"
      },
      "outputs": [],
      "source": [
        "X = data.drop(['Total Volume, th.shares'], axis = 1)\n",
        "y = data['Total Volume, th.shares']"
      ]
    },
    {
      "cell_type": "code",
      "execution_count": null,
      "metadata": {
        "id": "fOVpxII1diO0"
      },
      "outputs": [],
      "source": [
        "X_train, X_test, y_train, y_test = train_test_split(X, y, test_size = 0.3)"
      ]
    },
    {
      "cell_type": "markdown",
      "metadata": {
        "id": "N738ogx2cZIf"
      },
      "source": [
        "Normalisasi"
      ]
    },
    {
      "cell_type": "code",
      "execution_count": null,
      "metadata": {
        "id": "CPlBdu01cbZK"
      },
      "outputs": [],
      "source": [
        "num=['Market Cap., b.IDR','Regular Volume, th.shares','Regular Value, m.IDR',\n",
        "     'Regular Freq, x','Regular Days', 'Total Value, m.IDR', 'Total Freq, x']"
      ]
    },
    {
      "cell_type": "code",
      "execution_count": null,
      "metadata": {
        "id": "wJ6p71IDdHvL"
      },
      "outputs": [],
      "source": [
        "scaler = MinMaxScaler()\n",
        "X_train = scaler.fit_transform(X_train[num])\n",
        "X_test = scaler.transform(X_test[num])"
      ]
    },
    {
      "cell_type": "markdown",
      "metadata": {
        "id": "DC3saiQwpq2N"
      },
      "source": [
        "#Linear Regression"
      ]
    },
    {
      "cell_type": "code",
      "execution_count": null,
      "metadata": {
        "id": "uSbmIXyIp-0T"
      },
      "outputs": [],
      "source": [
        "import sklearn\n",
        "from sklearn import linear_model\n",
        "import statsmodels.api as sm\n",
        "import numpy as np\n"
      ]
    },
    {
      "cell_type": "code",
      "execution_count": null,
      "metadata": {
        "id": "a1jC1uxpuakW"
      },
      "outputs": [],
      "source": [
        "# load statmodels functions\n",
        "from statsmodels.stats.outliers_influence import variance_inflation_factor\n",
        "from statsmodels.tools.tools import add_constant\n",
        "\n",
        "# compute the vif for all given features\n",
        "def compute_vif(considered_features):\n",
        "\n",
        "    X = X_train[considered_features]\n",
        "    # the calculation of variance inflation requires a constant\n",
        "    X['intercept'] = 1\n",
        "\n",
        "    # create dataframe to store vif values\n",
        "    vif = pd.DataFrame()\n",
        "    vif[\"Variable\"] = X.columns\n",
        "    vif[\"VIF\"] = [variance_inflation_factor(X.values, i) for i in range(X.shape[1])]\n",
        "    vif = vif[vif['Variable']!='intercept']\n",
        "    return vif"
      ]
    },
    {
      "cell_type": "code",
      "execution_count": null,
      "metadata": {
        "colab": {
          "base_uri": "https://localhost:8080/",
          "height": 393
        },
        "id": "3JkQqWMnuojV",
        "outputId": "80aa8a56-eabe-4dc1-b1d0-f4e34a1142c1"
      },
      "outputs": [
        {
          "name": "stderr",
          "output_type": "stream",
          "text": [
            "/usr/local/lib/python3.7/dist-packages/ipykernel_launcher.py:10: SettingWithCopyWarning: \n",
            "A value is trying to be set on a copy of a slice from a DataFrame.\n",
            "Try using .loc[row_indexer,col_indexer] = value instead\n",
            "\n",
            "See the caveats in the documentation: https://pandas.pydata.org/pandas-docs/stable/user_guide/indexing.html#returning-a-view-versus-a-copy\n",
            "  # Remove the CWD from sys.path while we load stuff.\n"
          ]
        },
        {
          "data": {
            "text/html": [
              "\n",
              "  <div id=\"df-10c782d0-6737-4c9e-b346-a16dface33f9\">\n",
              "    <div class=\"colab-df-container\">\n",
              "      <div>\n",
              "<style scoped>\n",
              "    .dataframe tbody tr th:only-of-type {\n",
              "        vertical-align: middle;\n",
              "    }\n",
              "\n",
              "    .dataframe tbody tr th {\n",
              "        vertical-align: top;\n",
              "    }\n",
              "\n",
              "    .dataframe thead th {\n",
              "        text-align: right;\n",
              "    }\n",
              "</style>\n",
              "<table border=\"1\" class=\"dataframe\">\n",
              "  <thead>\n",
              "    <tr style=\"text-align: right;\">\n",
              "      <th></th>\n",
              "      <th>Variable</th>\n",
              "      <th>VIF</th>\n",
              "    </tr>\n",
              "  </thead>\n",
              "  <tbody>\n",
              "    <tr>\n",
              "      <th>6</th>\n",
              "      <td>Total Freq, x</td>\n",
              "      <td>33904.823333</td>\n",
              "    </tr>\n",
              "    <tr>\n",
              "      <th>3</th>\n",
              "      <td>Regular Freq, x</td>\n",
              "      <td>33846.432372</td>\n",
              "    </tr>\n",
              "    <tr>\n",
              "      <th>2</th>\n",
              "      <td>Regular Value, m.IDR</td>\n",
              "      <td>6.566526</td>\n",
              "    </tr>\n",
              "    <tr>\n",
              "      <th>0</th>\n",
              "      <td>Market Cap., b.IDR</td>\n",
              "      <td>3.456096</td>\n",
              "    </tr>\n",
              "    <tr>\n",
              "      <th>5</th>\n",
              "      <td>Total Value, m.IDR</td>\n",
              "      <td>1.760831</td>\n",
              "    </tr>\n",
              "    <tr>\n",
              "      <th>1</th>\n",
              "      <td>Regular Volume, th.shares</td>\n",
              "      <td>1.270321</td>\n",
              "    </tr>\n",
              "    <tr>\n",
              "      <th>4</th>\n",
              "      <td>Regular Days</td>\n",
              "      <td>1.072573</td>\n",
              "    </tr>\n",
              "  </tbody>\n",
              "</table>\n",
              "</div>\n",
              "      <button class=\"colab-df-convert\" onclick=\"convertToInteractive('df-10c782d0-6737-4c9e-b346-a16dface33f9')\"\n",
              "              title=\"Convert this dataframe to an interactive table.\"\n",
              "              style=\"display:none;\">\n",
              "        \n",
              "  <svg xmlns=\"http://www.w3.org/2000/svg\" height=\"24px\"viewBox=\"0 0 24 24\"\n",
              "       width=\"24px\">\n",
              "    <path d=\"M0 0h24v24H0V0z\" fill=\"none\"/>\n",
              "    <path d=\"M18.56 5.44l.94 2.06.94-2.06 2.06-.94-2.06-.94-.94-2.06-.94 2.06-2.06.94zm-11 1L8.5 8.5l.94-2.06 2.06-.94-2.06-.94L8.5 2.5l-.94 2.06-2.06.94zm10 10l.94 2.06.94-2.06 2.06-.94-2.06-.94-.94-2.06-.94 2.06-2.06.94z\"/><path d=\"M17.41 7.96l-1.37-1.37c-.4-.4-.92-.59-1.43-.59-.52 0-1.04.2-1.43.59L10.3 9.45l-7.72 7.72c-.78.78-.78 2.05 0 2.83L4 21.41c.39.39.9.59 1.41.59.51 0 1.02-.2 1.41-.59l7.78-7.78 2.81-2.81c.8-.78.8-2.07 0-2.86zM5.41 20L4 18.59l7.72-7.72 1.47 1.35L5.41 20z\"/>\n",
              "  </svg>\n",
              "      </button>\n",
              "      \n",
              "  <style>\n",
              "    .colab-df-container {\n",
              "      display:flex;\n",
              "      flex-wrap:wrap;\n",
              "      gap: 12px;\n",
              "    }\n",
              "\n",
              "    .colab-df-convert {\n",
              "      background-color: #E8F0FE;\n",
              "      border: none;\n",
              "      border-radius: 50%;\n",
              "      cursor: pointer;\n",
              "      display: none;\n",
              "      fill: #1967D2;\n",
              "      height: 32px;\n",
              "      padding: 0 0 0 0;\n",
              "      width: 32px;\n",
              "    }\n",
              "\n",
              "    .colab-df-convert:hover {\n",
              "      background-color: #E2EBFA;\n",
              "      box-shadow: 0px 1px 2px rgba(60, 64, 67, 0.3), 0px 1px 3px 1px rgba(60, 64, 67, 0.15);\n",
              "      fill: #174EA6;\n",
              "    }\n",
              "\n",
              "    [theme=dark] .colab-df-convert {\n",
              "      background-color: #3B4455;\n",
              "      fill: #D2E3FC;\n",
              "    }\n",
              "\n",
              "    [theme=dark] .colab-df-convert:hover {\n",
              "      background-color: #434B5C;\n",
              "      box-shadow: 0px 1px 3px 1px rgba(0, 0, 0, 0.15);\n",
              "      filter: drop-shadow(0px 1px 2px rgba(0, 0, 0, 0.3));\n",
              "      fill: #FFFFFF;\n",
              "    }\n",
              "  </style>\n",
              "\n",
              "      <script>\n",
              "        const buttonEl =\n",
              "          document.querySelector('#df-10c782d0-6737-4c9e-b346-a16dface33f9 button.colab-df-convert');\n",
              "        buttonEl.style.display =\n",
              "          google.colab.kernel.accessAllowed ? 'block' : 'none';\n",
              "\n",
              "        async function convertToInteractive(key) {\n",
              "          const element = document.querySelector('#df-10c782d0-6737-4c9e-b346-a16dface33f9');\n",
              "          const dataTable =\n",
              "            await google.colab.kernel.invokeFunction('convertToInteractive',\n",
              "                                                     [key], {});\n",
              "          if (!dataTable) return;\n",
              "\n",
              "          const docLinkHtml = 'Like what you see? Visit the ' +\n",
              "            '<a target=\"_blank\" href=https://colab.research.google.com/notebooks/data_table.ipynb>data table notebook</a>'\n",
              "            + ' to learn more about interactive tables.';\n",
              "          element.innerHTML = '';\n",
              "          dataTable['output_type'] = 'display_data';\n",
              "          await google.colab.output.renderOutput(dataTable, element);\n",
              "          const docLink = document.createElement('div');\n",
              "          docLink.innerHTML = docLinkHtml;\n",
              "          element.appendChild(docLink);\n",
              "        }\n",
              "      </script>\n",
              "    </div>\n",
              "  </div>\n",
              "  "
            ],
            "text/plain": [
              "                    Variable           VIF\n",
              "6              Total Freq, x  33904.823333\n",
              "3            Regular Freq, x  33846.432372\n",
              "2       Regular Value, m.IDR      6.566526\n",
              "0         Market Cap., b.IDR      3.456096\n",
              "5         Total Value, m.IDR      1.760831\n",
              "1  Regular Volume, th.shares      1.270321\n",
              "4               Regular Days      1.072573"
            ]
          },
          "execution_count": 19,
          "metadata": {},
          "output_type": "execute_result"
        }
      ],
      "source": [
        "# features to consider removing\n",
        "considered_features = ['Market Cap., b.IDR','Regular Volume, th.shares','Regular Value, m.IDR',\n",
        "                       'Regular Freq, x','Regular Days', 'Total Value, m.IDR', 'Total Freq, x']\n",
        "\n",
        "\n",
        "# compute vif\n",
        "compute_vif(considered_features).sort_values('VIF', ascending=False)"
      ]
    },
    {
      "cell_type": "markdown",
      "metadata": {
        "id": "csErLIA-f1kt"
      },
      "source": [
        "#Modelling"
      ]
    },
    {
      "cell_type": "code",
      "execution_count": null,
      "metadata": {
        "colab": {
          "base_uri": "https://localhost:8080/"
        },
        "id": "piGLEzT0f3Iw",
        "outputId": "e4e34167-4c06-41d5-a797-32eb4438a6dc"
      },
      "outputs": [
        {
          "data": {
            "text/plain": [
              "KstestResult(statistic=0.9416559395304218, pvalue=0.0)"
            ]
          },
          "execution_count": 20,
          "metadata": {},
          "output_type": "execute_result"
        }
      ],
      "source": [
        "from scipy.stats import kstest\n",
        "#perform Kolmogorov-Smirnov test\n",
        "kstest(y_train, 'norm')"
      ]
    },
    {
      "cell_type": "code",
      "execution_count": null,
      "metadata": {
        "colab": {
          "base_uri": "https://localhost:8080/",
          "height": 276
        },
        "id": "yPQU6oa0hKpr",
        "outputId": "91f2bb8f-1ed3-40e1-f436-bf68a23e56f5"
      },
      "outputs": [
        {
          "data": {
            "image/png": "[encoded data removed]",
            "text/plain": [
              "<Figure size 432x288 with 1 Axes>"
            ]
          },
          "metadata": {},
          "output_type": "display_data"
        }
      ],
      "source": [
        "import matplotlib.pyplot as plt\n",
        "\n",
        "# Creating plot\n",
        "plt.boxplot(y_train)\n",
        "\n",
        "# show plot\n",
        "plt.show()"
      ]
    },
    {
      "cell_type": "code",
      "execution_count": null,
      "metadata": {
        "id": "JNAJ1grRk56I"
      },
      "outputs": [],
      "source": [
        "ridge_model= Ridge().fit(X_train, y_train)"
      ]
    },
    {
      "cell_type": "code",
      "execution_count": null,
      "metadata": {
        "id": "zKz47ryPqBEh"
      },
      "outputs": [],
      "source": [
        "y_pred= ridge_model.predict(X_test)"
      ]
    },
    {
      "cell_type": "code",
      "execution_count": null,
      "metadata": {
        "colab": {
          "base_uri": "https://localhost:8080/"
        },
        "id": "uaPE9JOWqHSN",
        "outputId": "e8c9ca17-7532-456f-fde4-1e72b590b416"
      },
      "outputs": [
        {
          "name": "stdout",
          "output_type": "stream",
          "text": [
            "Testing performance\n",
            "MAPE: 3810625925145859584.0000\n",
            "MAE: 162540.0364\n",
            "RMSE: 252243.7173\n",
            "R2: 0.8231\n"
          ]
        }
      ],
      "source": [
        "rmse = (np.sqrt(mean_squared_error(y_test, y_pred)))\n",
        "mape = mean_absolute_percentage_error(y_test, y_pred)\n",
        "mae = mean_absolute_error(y_test, y_pred)\n",
        "r2 = r2_score(y_test, y_pred)\n",
        "print('Testing performance')\n",
        "print('MAPE: {:.4f}'.format(mape))\n",
        "print('MAE: {:.4f}'.format(mae))\n",
        "print('RMSE: {:.4f}'.format(rmse))\n",
        "print('R2: {:.4f}'.format(r2))"
      ]
    }
  ],
  "metadata": {
    "colab": {
      "provenance": [],
      "toc_visible": true
    },
    "kernelspec": {
      "display_name": "Python 3",
      "name": "python3"
    },
    "language_info": {
      "name": "python"
    }
  },
  "nbformat": 4,
  "nbformat_minor": 0
}