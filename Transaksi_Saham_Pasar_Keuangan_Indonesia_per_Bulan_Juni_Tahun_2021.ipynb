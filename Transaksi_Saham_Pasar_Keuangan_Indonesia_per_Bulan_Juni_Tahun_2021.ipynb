{
  "cells": [
    {
      "cell_type": "code",
      "execution_count": null,
      "metadata": {
        "colab": {
          "base_uri": "https://localhost:8080/"
        },
        "id": "ZA_v5EGiSRTh",
        "outputId": "dc8ddcaf-0332-41d5-8750-206c68a35f96"
      },
      "outputs": [
        {
          "output_type": "stream",
          "name": "stdout",
          "text": [
            "Looking in indexes: https://pypi.org/simple, https://us-python.pkg.dev/colab-wheels/public/simple/\n",
            "Requirement already satisfied: xlrd in /usr/local/lib/python3.7/dist-packages (1.1.0)\n"
          ]
        }
      ],
      "source": [
        "!pip install xlrd"
      ]
    },
    {
      "cell_type": "code",
      "execution_count": null,
      "metadata": {
        "id": "Jkgn1HmBOQ6g"
      },
      "outputs": [],
      "source": [
        "import pandas as pd\n",
        "import numpy as np\n",
        "import scipy.stats\n",
        "import seaborn as sns # untuk visualisasi data\n",
        "import matplotlib.pyplot as plt # untuk visualisasi data\n",
        "import missingno as msno # untuk visualisasi data\n",
        "\n",
        "# untuk persiapan data\n",
        "from sklearn.model_selection import train_test_split\n",
        "from sklearn.preprocessing import RobustScaler\n",
        "from sklearn.preprocessing import MinMaxScaler\n",
        "#Modelling\n",
        "from sklearn.linear_model import Ridge\n",
        "from sklearn.metrics import mean_squared_error\n",
        "from sklearn.metrics import mean_absolute_error\n",
        "from sklearn.metrics import mean_absolute_percentage_error\n",
        "from sklearn.metrics import r2_score"
      ]
    },
    {
      "cell_type": "code",
      "execution_count": null,
      "metadata": {
        "id": "dFl1WI0pRuOv"
      },
      "outputs": [],
      "source": [
        "data=pd.read_excel(\"/content/2021.xlsx\")"
      ]
    },
    {
      "cell_type": "code",
      "source": [
        "np.random.seed(2022)"
      ],
      "metadata": {
        "id": "sTq91fW4jwUj"
      },
      "execution_count": null,
      "outputs": []
    },
    {
      "cell_type": "markdown",
      "metadata": {
        "id": "Ue48E9x9T6YF"
      },
      "source": [
        "#Data Understanding"
      ]
    },
    {
      "cell_type": "code",
      "execution_count": null,
      "metadata": {
        "colab": {
          "base_uri": "https://localhost:8080/",
          "height": 904
        },
        "id": "kra5gijqSZfl",
        "outputId": "89a44073-c95c-434b-a896-e8df2b17f664"
      },
      "outputs": [
        {
          "output_type": "execute_result",
          "data": {
            "text/plain": [
              "     No.                     Sector Sub Sector Code              Sub Sector  \\\n",
              "0      1            Basic Materials              B1         Basic Materials   \n",
              "1      2            Basic Materials              B1         Basic Materials   \n",
              "2      3            Basic Materials              B1         Basic Materials   \n",
              "3      4            Basic Materials              B1         Basic Materials   \n",
              "4      5            Basic Materials              B1         Basic Materials   \n",
              "..   ...                        ...             ...                     ...   \n",
              "733  734  Transportation & Logistic              K2  Logistics & Deliveries   \n",
              "734  735  Transportation & Logistic              K2  Logistics & Deliveries   \n",
              "735  736  Transportation & Logistic              K2  Logistics & Deliveries   \n",
              "736  737  Transportation & Logistic              K2  Logistics & Deliveries   \n",
              "737  738  Transportation & Logistic              K2  Logistics & Deliveries   \n",
              "\n",
              "     Code                         Stock Name Sharia  Market Cap., b.IDR  \\\n",
              "0    AYLS              Agro Yasa Lestari Tbk      S           61.446473   \n",
              "1    ALKA            Alakasa Industrindo Tbk      S          124.885604   \n",
              "2    ALDO               Alkindo Naratama Tbk      S          759.000000   \n",
              "3    ALMI  Alumindo Light Metal Industry Tbk      -          147.840000   \n",
              "4    OKAS     Ancora Indonesia Resources Tbk      -          148.337933   \n",
              "..    ...                                ...    ...                 ...   \n",
              "733  SAPX       PT Satria Antaran Prima Tbk.      S          908.333297   \n",
              "734  TMAS                      PT Temas Tbk.      -         1346.415400   \n",
              "735  TNCA       PT Trimuda Nuansa Citra Tbk.      S          139.141200   \n",
              "736  SMDR             Samudera Indonesia Tbk      S         1850.442800   \n",
              "737  SDMU              Sidomulyo Selaras Tbk      -           56.761250   \n",
              "\n",
              "    Regular Volume, th.shares Regular Value, m.IDR Regular Freq, x  \\\n",
              "0                   272218.60           24952.2299        28869.00   \n",
              "1                     3466.60              907.666         1323.00   \n",
              "2                   198377.20           181231.453        29170.00   \n",
              "3                      765.60             191.3324          279.00   \n",
              "4                    39666.10            3396.9271         3063.00   \n",
              "..                        ...                  ...             ...   \n",
              "733                   2897.50             3170.481         1685.00   \n",
              "734                 220870.20            78358.182        37139.00   \n",
              "735                  14957.20             5432.716         3205.00   \n",
              "736                 234493.20          130764.6175        32570.00   \n",
              "737                  51113.90            2627.1501         2624.00   \n",
              "\n",
              "     Regular Days Total Volume, th.shares Total Value, m.IDR Total Freq, x  \\\n",
              "0              21               272218.60         24952.2299      28869.00   \n",
              "1              21                 3466.60            907.666       1323.00   \n",
              "2              21               198377.20         181231.453      29170.00   \n",
              "3              21                  765.60           191.3324        279.00   \n",
              "4              21                39666.10          3396.9271       3063.00   \n",
              "..            ...                     ...                ...           ...   \n",
              "733            21                 2897.50           3170.481       1685.00   \n",
              "734            21               220920.20          78376.682      37140.00   \n",
              "735            21                14957.20           5432.716       3205.00   \n",
              "736            21               234493.20        130764.6175      32570.00   \n",
              "737            21                51113.90          2627.1501       2624.00   \n",
              "\n",
              "     Total Days  \n",
              "0            21  \n",
              "1            21  \n",
              "2            21  \n",
              "3            21  \n",
              "4            21  \n",
              "..          ...  \n",
              "733          21  \n",
              "734          21  \n",
              "735          21  \n",
              "736          21  \n",
              "737          21  \n",
              "\n",
              "[738 rows x 16 columns]"
            ],
            "text/html": [
              "\n",
              "  <div id=\"df-823010dc-34b0-4a63-bbe6-bc88d55a540e\">\n",
              "    <div class=\"colab-df-container\">\n",
              "      <div>\n",
              "<style scoped>\n",
              "    .dataframe tbody tr th:only-of-type {\n",
              "        vertical-align: middle;\n",
              "    }\n",
              "\n",
              "    .dataframe tbody tr th {\n",
              "        vertical-align: top;\n",
              "    }\n",
              "\n",
              "    .dataframe thead th {\n",
              "        text-align: right;\n",
              "    }\n",
              "</style>\n",
              "<table border=\"1\" class=\"dataframe\">\n",
              "  <thead>\n",
              "    <tr style=\"text-align: right;\">\n",
              "      <th></th>\n",
              "      <th>No.</th>\n",
              "      <th>Sector</th>\n",
              "      <th>Sub Sector Code</th>\n",
              "      <th>Sub Sector</th>\n",
              "      <th>Code</th>\n",
              "      <th>Stock Name</th>\n",
              "      <th>Sharia</th>\n",
              "      <th>Market Cap., b.IDR</th>\n",
              "      <th>Regular Volume, th.shares</th>\n",
              "      <th>Regular Value, m.IDR</th>\n",
              "      <th>Regular Freq, x</th>\n",
              "      <th>Regular Days</th>\n",
              "      <th>Total Volume, th.shares</th>\n",
              "      <th>Total Value, m.IDR</th>\n",
              "      <th>Total Freq, x</th>\n",
              "      <th>Total Days</th>\n",
              "    </tr>\n",
              "  </thead>\n",
              "  <tbody>\n",
              "    <tr>\n",
              "      <th>0</th>\n",
              "      <td>1</td>\n",
              "      <td>Basic Materials</td>\n",
              "      <td>B1</td>\n",
              "      <td>Basic Materials</td>\n",
              "      <td>AYLS</td>\n",
              "      <td>Agro Yasa Lestari Tbk</td>\n",
              "      <td>S</td>\n",
              "      <td>61.446473</td>\n",
              "      <td>272218.60</td>\n",
              "      <td>24952.2299</td>\n",
              "      <td>28869.00</td>\n",
              "      <td>21</td>\n",
              "      <td>272218.60</td>\n",
              "      <td>24952.2299</td>\n",
              "      <td>28869.00</td>\n",
              "      <td>21</td>\n",
              "    </tr>\n",
              "    <tr>\n",
              "      <th>1</th>\n",
              "      <td>2</td>\n",
              "      <td>Basic Materials</td>\n",
              "      <td>B1</td>\n",
              "      <td>Basic Materials</td>\n",
              "      <td>ALKA</td>\n",
              "      <td>Alakasa Industrindo Tbk</td>\n",
              "      <td>S</td>\n",
              "      <td>124.885604</td>\n",
              "      <td>3466.60</td>\n",
              "      <td>907.666</td>\n",
              "      <td>1323.00</td>\n",
              "      <td>21</td>\n",
              "      <td>3466.60</td>\n",
              "      <td>907.666</td>\n",
              "      <td>1323.00</td>\n",
              "      <td>21</td>\n",
              "    </tr>\n",
              "    <tr>\n",
              "      <th>2</th>\n",
              "      <td>3</td>\n",
              "      <td>Basic Materials</td>\n",
              "      <td>B1</td>\n",
              "      <td>Basic Materials</td>\n",
              "      <td>ALDO</td>\n",
              "      <td>Alkindo Naratama Tbk</td>\n",
              "      <td>S</td>\n",
              "      <td>759.000000</td>\n",
              "      <td>198377.20</td>\n",
              "      <td>181231.453</td>\n",
              "      <td>29170.00</td>\n",
              "      <td>21</td>\n",
              "      <td>198377.20</td>\n",
              "      <td>181231.453</td>\n",
              "      <td>29170.00</td>\n",
              "      <td>21</td>\n",
              "    </tr>\n",
              "    <tr>\n",
              "      <th>3</th>\n",
              "      <td>4</td>\n",
              "      <td>Basic Materials</td>\n",
              "      <td>B1</td>\n",
              "      <td>Basic Materials</td>\n",
              "      <td>ALMI</td>\n",
              "      <td>Alumindo Light Metal Industry Tbk</td>\n",
              "      <td>-</td>\n",
              "      <td>147.840000</td>\n",
              "      <td>765.60</td>\n",
              "      <td>191.3324</td>\n",
              "      <td>279.00</td>\n",
              "      <td>21</td>\n",
              "      <td>765.60</td>\n",
              "      <td>191.3324</td>\n",
              "      <td>279.00</td>\n",
              "      <td>21</td>\n",
              "    </tr>\n",
              "    <tr>\n",
              "      <th>4</th>\n",
              "      <td>5</td>\n",
              "      <td>Basic Materials</td>\n",
              "      <td>B1</td>\n",
              "      <td>Basic Materials</td>\n",
              "      <td>OKAS</td>\n",
              "      <td>Ancora Indonesia Resources Tbk</td>\n",
              "      <td>-</td>\n",
              "      <td>148.337933</td>\n",
              "      <td>39666.10</td>\n",
              "      <td>3396.9271</td>\n",
              "      <td>3063.00</td>\n",
              "      <td>21</td>\n",
              "      <td>39666.10</td>\n",
              "      <td>3396.9271</td>\n",
              "      <td>3063.00</td>\n",
              "      <td>21</td>\n",
              "    </tr>\n",
              "    <tr>\n",
              "      <th>...</th>\n",
              "      <td>...</td>\n",
              "      <td>...</td>\n",
              "      <td>...</td>\n",
              "      <td>...</td>\n",
              "      <td>...</td>\n",
              "      <td>...</td>\n",
              "      <td>...</td>\n",
              "      <td>...</td>\n",
              "      <td>...</td>\n",
              "      <td>...</td>\n",
              "      <td>...</td>\n",
              "      <td>...</td>\n",
              "      <td>...</td>\n",
              "      <td>...</td>\n",
              "      <td>...</td>\n",
              "      <td>...</td>\n",
              "    </tr>\n",
              "    <tr>\n",
              "      <th>733</th>\n",
              "      <td>734</td>\n",
              "      <td>Transportation &amp; Logistic</td>\n",
              "      <td>K2</td>\n",
              "      <td>Logistics &amp; Deliveries</td>\n",
              "      <td>SAPX</td>\n",
              "      <td>PT Satria Antaran Prima Tbk.</td>\n",
              "      <td>S</td>\n",
              "      <td>908.333297</td>\n",
              "      <td>2897.50</td>\n",
              "      <td>3170.481</td>\n",
              "      <td>1685.00</td>\n",
              "      <td>21</td>\n",
              "      <td>2897.50</td>\n",
              "      <td>3170.481</td>\n",
              "      <td>1685.00</td>\n",
              "      <td>21</td>\n",
              "    </tr>\n",
              "    <tr>\n",
              "      <th>734</th>\n",
              "      <td>735</td>\n",
              "      <td>Transportation &amp; Logistic</td>\n",
              "      <td>K2</td>\n",
              "      <td>Logistics &amp; Deliveries</td>\n",
              "      <td>TMAS</td>\n",
              "      <td>PT Temas Tbk.</td>\n",
              "      <td>-</td>\n",
              "      <td>1346.415400</td>\n",
              "      <td>220870.20</td>\n",
              "      <td>78358.182</td>\n",
              "      <td>37139.00</td>\n",
              "      <td>21</td>\n",
              "      <td>220920.20</td>\n",
              "      <td>78376.682</td>\n",
              "      <td>37140.00</td>\n",
              "      <td>21</td>\n",
              "    </tr>\n",
              "    <tr>\n",
              "      <th>735</th>\n",
              "      <td>736</td>\n",
              "      <td>Transportation &amp; Logistic</td>\n",
              "      <td>K2</td>\n",
              "      <td>Logistics &amp; Deliveries</td>\n",
              "      <td>TNCA</td>\n",
              "      <td>PT Trimuda Nuansa Citra Tbk.</td>\n",
              "      <td>S</td>\n",
              "      <td>139.141200</td>\n",
              "      <td>14957.20</td>\n",
              "      <td>5432.716</td>\n",
              "      <td>3205.00</td>\n",
              "      <td>21</td>\n",
              "      <td>14957.20</td>\n",
              "      <td>5432.716</td>\n",
              "      <td>3205.00</td>\n",
              "      <td>21</td>\n",
              "    </tr>\n",
              "    <tr>\n",
              "      <th>736</th>\n",
              "      <td>737</td>\n",
              "      <td>Transportation &amp; Logistic</td>\n",
              "      <td>K2</td>\n",
              "      <td>Logistics &amp; Deliveries</td>\n",
              "      <td>SMDR</td>\n",
              "      <td>Samudera Indonesia Tbk</td>\n",
              "      <td>S</td>\n",
              "      <td>1850.442800</td>\n",
              "      <td>234493.20</td>\n",
              "      <td>130764.6175</td>\n",
              "      <td>32570.00</td>\n",
              "      <td>21</td>\n",
              "      <td>234493.20</td>\n",
              "      <td>130764.6175</td>\n",
              "      <td>32570.00</td>\n",
              "      <td>21</td>\n",
              "    </tr>\n",
              "    <tr>\n",
              "      <th>737</th>\n",
              "      <td>738</td>\n",
              "      <td>Transportation &amp; Logistic</td>\n",
              "      <td>K2</td>\n",
              "      <td>Logistics &amp; Deliveries</td>\n",
              "      <td>SDMU</td>\n",
              "      <td>Sidomulyo Selaras Tbk</td>\n",
              "      <td>-</td>\n",
              "      <td>56.761250</td>\n",
              "      <td>51113.90</td>\n",
              "      <td>2627.1501</td>\n",
              "      <td>2624.00</td>\n",
              "      <td>21</td>\n",
              "      <td>51113.90</td>\n",
              "      <td>2627.1501</td>\n",
              "      <td>2624.00</td>\n",
              "      <td>21</td>\n",
              "    </tr>\n",
              "  </tbody>\n",
              "</table>\n",
              "<p>738 rows × 16 columns</p>\n",
              "</div>\n",
              "      <button class=\"colab-df-convert\" onclick=\"convertToInteractive('df-823010dc-34b0-4a63-bbe6-bc88d55a540e')\"\n",
              "              title=\"Convert this dataframe to an interactive table.\"\n",
              "              style=\"display:none;\">\n",
              "        \n",
              "  <svg xmlns=\"http://www.w3.org/2000/svg\" height=\"24px\"viewBox=\"0 0 24 24\"\n",
              "       width=\"24px\">\n",
              "    <path d=\"M0 0h24v24H0V0z\" fill=\"none\"/>\n",
              "    <path d=\"M18.56 5.44l.94 2.06.94-2.06 2.06-.94-2.06-.94-.94-2.06-.94 2.06-2.06.94zm-11 1L8.5 8.5l.94-2.06 2.06-.94-2.06-.94L8.5 2.5l-.94 2.06-2.06.94zm10 10l.94 2.06.94-2.06 2.06-.94-2.06-.94-.94-2.06-.94 2.06-2.06.94z\"/><path d=\"M17.41 7.96l-1.37-1.37c-.4-.4-.92-.59-1.43-.59-.52 0-1.04.2-1.43.59L10.3 9.45l-7.72 7.72c-.78.78-.78 2.05 0 2.83L4 21.41c.39.39.9.59 1.41.59.51 0 1.02-.2 1.41-.59l7.78-7.78 2.81-2.81c.8-.78.8-2.07 0-2.86zM5.41 20L4 18.59l7.72-7.72 1.47 1.35L5.41 20z\"/>\n",
              "  </svg>\n",
              "      </button>\n",
              "      \n",
              "  <style>\n",
              "    .colab-df-container {\n",
              "      display:flex;\n",
              "      flex-wrap:wrap;\n",
              "      gap: 12px;\n",
              "    }\n",
              "\n",
              "    .colab-df-convert {\n",
              "      background-color: #E8F0FE;\n",
              "      border: none;\n",
              "      border-radius: 50%;\n",
              "      cursor: pointer;\n",
              "      display: none;\n",
              "      fill: #1967D2;\n",
              "      height: 32px;\n",
              "      padding: 0 0 0 0;\n",
              "      width: 32px;\n",
              "    }\n",
              "\n",
              "    .colab-df-convert:hover {\n",
              "      background-color: #E2EBFA;\n",
              "      box-shadow: 0px 1px 2px rgba(60, 64, 67, 0.3), 0px 1px 3px 1px rgba(60, 64, 67, 0.15);\n",
              "      fill: #174EA6;\n",
              "    }\n",
              "\n",
              "    [theme=dark] .colab-df-convert {\n",
              "      background-color: #3B4455;\n",
              "      fill: #D2E3FC;\n",
              "    }\n",
              "\n",
              "    [theme=dark] .colab-df-convert:hover {\n",
              "      background-color: #434B5C;\n",
              "      box-shadow: 0px 1px 3px 1px rgba(0, 0, 0, 0.15);\n",
              "      filter: drop-shadow(0px 1px 2px rgba(0, 0, 0, 0.3));\n",
              "      fill: #FFFFFF;\n",
              "    }\n",
              "  </style>\n",
              "\n",
              "      <script>\n",
              "        const buttonEl =\n",
              "          document.querySelector('#df-823010dc-34b0-4a63-bbe6-bc88d55a540e button.colab-df-convert');\n",
              "        buttonEl.style.display =\n",
              "          google.colab.kernel.accessAllowed ? 'block' : 'none';\n",
              "\n",
              "        async function convertToInteractive(key) {\n",
              "          const element = document.querySelector('#df-823010dc-34b0-4a63-bbe6-bc88d55a540e');\n",
              "          const dataTable =\n",
              "            await google.colab.kernel.invokeFunction('convertToInteractive',\n",
              "                                                     [key], {});\n",
              "          if (!dataTable) return;\n",
              "\n",
              "          const docLinkHtml = 'Like what you see? Visit the ' +\n",
              "            '<a target=\"_blank\" href=https://colab.research.google.com/notebooks/data_table.ipynb>data table notebook</a>'\n",
              "            + ' to learn more about interactive tables.';\n",
              "          element.innerHTML = '';\n",
              "          dataTable['output_type'] = 'display_data';\n",
              "          await google.colab.output.renderOutput(dataTable, element);\n",
              "          const docLink = document.createElement('div');\n",
              "          docLink.innerHTML = docLinkHtml;\n",
              "          element.appendChild(docLink);\n",
              "        }\n",
              "      </script>\n",
              "    </div>\n",
              "  </div>\n",
              "  "
            ]
          },
          "metadata": {},
          "execution_count": 7
        }
      ],
      "source": [
        "data"
      ]
    },
    {
      "cell_type": "code",
      "execution_count": null,
      "metadata": {
        "colab": {
          "base_uri": "https://localhost:8080/"
        },
        "id": "nkEkQhTyVpo-",
        "outputId": "2ecebb04-edf1-41f6-b9f5-7c9ed96be6ad"
      },
      "outputs": [
        {
          "output_type": "execute_result",
          "data": {
            "text/plain": [
              "0      AYLS\n",
              "1      ALKA\n",
              "2      ALDO\n",
              "3      ALMI\n",
              "4      OKAS\n",
              "       ... \n",
              "733    SAPX\n",
              "734    TMAS\n",
              "735    TNCA\n",
              "736    SMDR\n",
              "737    SDMU\n",
              "Name: Code, Length: 738, dtype: object"
            ]
          },
          "metadata": {},
          "execution_count": 8
        }
      ],
      "source": [
        "data['Code']"
      ]
    },
    {
      "cell_type": "code",
      "execution_count": null,
      "metadata": {
        "colab": {
          "base_uri": "https://localhost:8080/"
        },
        "id": "SGqY2PJgTg4K",
        "outputId": "8ee79203-9deb-401f-e735-d2f8c7eca548"
      },
      "outputs": [
        {
          "output_type": "execute_result",
          "data": {
            "text/plain": [
              "(738, 16)"
            ]
          },
          "metadata": {},
          "execution_count": 9
        }
      ],
      "source": [
        "data.shape"
      ]
    },
    {
      "cell_type": "code",
      "execution_count": null,
      "metadata": {
        "colab": {
          "base_uri": "https://localhost:8080/"
        },
        "id": "9WJNPoNlTqLs",
        "outputId": "26d7ec06-6b71-426f-a465-84ead9827dd9"
      },
      "outputs": [
        {
          "output_type": "execute_result",
          "data": {
            "text/plain": [
              "No.                            int64\n",
              "Sector                        object\n",
              "Sub Sector Code               object\n",
              "Sub Sector                    object\n",
              "Code                          object\n",
              "Stock Name                    object\n",
              "Sharia                        object\n",
              "Market Cap., b.IDR           float64\n",
              "Regular Volume, th.shares     object\n",
              "Regular Value, m.IDR          object\n",
              "Regular Freq, x               object\n",
              "Regular Days                   int64\n",
              "Total Volume, th.shares       object\n",
              "Total Value, m.IDR            object\n",
              "Total Freq, x                 object\n",
              "Total Days                     int64\n",
              "dtype: object"
            ]
          },
          "metadata": {},
          "execution_count": 10
        }
      ],
      "source": [
        "data.dtypes"
      ]
    },
    {
      "cell_type": "code",
      "source": [
        "data['Regular Volume, th.shares'][data['Regular Volume, th.shares']=='-'].value_counts()"
      ],
      "metadata": {
        "colab": {
          "base_uri": "https://localhost:8080/"
        },
        "id": "nGff_wSmmFrW",
        "outputId": "01196702-c702-4bf8-8861-810f2fe4dbed"
      },
      "execution_count": null,
      "outputs": [
        {
          "output_type": "execute_result",
          "data": {
            "text/plain": [
              "-    53\n",
              "Name: Regular Volume, th.shares, dtype: int64"
            ]
          },
          "metadata": {},
          "execution_count": 11
        }
      ]
    },
    {
      "cell_type": "code",
      "source": [
        "data = data.loc[data['Regular Volume, th.shares'] != '-']"
      ],
      "metadata": {
        "id": "1iE1saqFnVCY"
      },
      "execution_count": null,
      "outputs": []
    },
    {
      "cell_type": "code",
      "source": [
        "data.shape"
      ],
      "metadata": {
        "colab": {
          "base_uri": "https://localhost:8080/"
        },
        "id": "iXzVcdUqpXJr",
        "outputId": "5e992122-f2e5-4c38-cd43-c05d15db5d28"
      },
      "execution_count": null,
      "outputs": [
        {
          "output_type": "execute_result",
          "data": {
            "text/plain": [
              "(685, 16)"
            ]
          },
          "metadata": {},
          "execution_count": 13
        }
      ]
    },
    {
      "cell_type": "code",
      "source": [
        "data['Regular Value, m.IDR'][data['Regular Value, m.IDR']!='-'].value_counts()"
      ],
      "metadata": {
        "colab": {
          "base_uri": "https://localhost:8080/"
        },
        "id": "_Oy_coyfqg0F",
        "outputId": "25713e14-f3c5-4fbe-f880-aa8225d98998"
      },
      "execution_count": null,
      "outputs": [
        {
          "output_type": "execute_result",
          "data": {
            "text/plain": [
              "24952.2299     1\n",
              "130981.078     1\n",
              "2100247.87     1\n",
              "142070.285     1\n",
              "58191.7594     1\n",
              "              ..\n",
              "101728.4105    1\n",
              "8.58           1\n",
              "1049595.645    1\n",
              "1011204.505    1\n",
              "2627.1501      1\n",
              "Name: Regular Value, m.IDR, Length: 685, dtype: int64"
            ]
          },
          "metadata": {},
          "execution_count": 14
        }
      ]
    },
    {
      "cell_type": "code",
      "source": [
        "data['Regular Freq, x'][data['Regular Freq, x']!='-'].value_counts()"
      ],
      "metadata": {
        "colab": {
          "base_uri": "https://localhost:8080/"
        },
        "id": "_P-7vePwrET5",
        "outputId": "309c9d23-c14f-4ba3-b5c2-5b6519ec7e7e"
      },
      "execution_count": null,
      "outputs": [
        {
          "output_type": "execute_result",
          "data": {
            "text/plain": [
              "137.00       3\n",
              "16.00        3\n",
              "2.00         2\n",
              "103.00       2\n",
              "2304.00      2\n",
              "            ..\n",
              "68169.00     1\n",
              "114921.00    1\n",
              "48569.00     1\n",
              "25263.00     1\n",
              "2624.00      1\n",
              "Name: Regular Freq, x, Length: 653, dtype: int64"
            ]
          },
          "metadata": {},
          "execution_count": 15
        }
      ]
    },
    {
      "cell_type": "code",
      "source": [
        "data['Regular Volume, th.shares'] = data['Regular Volume, th.shares'].astype(float)\n",
        "data['Regular Value, m.IDR'] = data['Regular Value, m.IDR'].astype(float)\n",
        "data['Regular Freq, x'] = data['Regular Freq, x'].astype(float)\n",
        "data['Total Volume, th.shares'] = data['Total Volume, th.shares'].astype(float)\n",
        "data['Total Value, m.IDR'] = data['Total Value, m.IDR'].astype(float)\n",
        "data['Total Freq, x'] = data['Total Freq, x'].astype(float)"
      ],
      "metadata": {
        "colab": {
          "base_uri": "https://localhost:8080/"
        },
        "id": "NeSHqlQFir6u",
        "outputId": "7b8c14ab-1ed9-47f9-d6ea-e998729d842a"
      },
      "execution_count": null,
      "outputs": [
        {
          "output_type": "stream",
          "name": "stderr",
          "text": [
            "/usr/local/lib/python3.7/dist-packages/ipykernel_launcher.py:1: SettingWithCopyWarning: \n",
            "A value is trying to be set on a copy of a slice from a DataFrame.\n",
            "Try using .loc[row_indexer,col_indexer] = value instead\n",
            "\n",
            "See the caveats in the documentation: https://pandas.pydata.org/pandas-docs/stable/user_guide/indexing.html#returning-a-view-versus-a-copy\n",
            "  \"\"\"Entry point for launching an IPython kernel.\n",
            "/usr/local/lib/python3.7/dist-packages/ipykernel_launcher.py:2: SettingWithCopyWarning: \n",
            "A value is trying to be set on a copy of a slice from a DataFrame.\n",
            "Try using .loc[row_indexer,col_indexer] = value instead\n",
            "\n",
            "See the caveats in the documentation: https://pandas.pydata.org/pandas-docs/stable/user_guide/indexing.html#returning-a-view-versus-a-copy\n",
            "  \n",
            "/usr/local/lib/python3.7/dist-packages/ipykernel_launcher.py:3: SettingWithCopyWarning: \n",
            "A value is trying to be set on a copy of a slice from a DataFrame.\n",
            "Try using .loc[row_indexer,col_indexer] = value instead\n",
            "\n",
            "See the caveats in the documentation: https://pandas.pydata.org/pandas-docs/stable/user_guide/indexing.html#returning-a-view-versus-a-copy\n",
            "  This is separate from the ipykernel package so we can avoid doing imports until\n",
            "/usr/local/lib/python3.7/dist-packages/ipykernel_launcher.py:4: SettingWithCopyWarning: \n",
            "A value is trying to be set on a copy of a slice from a DataFrame.\n",
            "Try using .loc[row_indexer,col_indexer] = value instead\n",
            "\n",
            "See the caveats in the documentation: https://pandas.pydata.org/pandas-docs/stable/user_guide/indexing.html#returning-a-view-versus-a-copy\n",
            "  after removing the cwd from sys.path.\n",
            "/usr/local/lib/python3.7/dist-packages/ipykernel_launcher.py:5: SettingWithCopyWarning: \n",
            "A value is trying to be set on a copy of a slice from a DataFrame.\n",
            "Try using .loc[row_indexer,col_indexer] = value instead\n",
            "\n",
            "See the caveats in the documentation: https://pandas.pydata.org/pandas-docs/stable/user_guide/indexing.html#returning-a-view-versus-a-copy\n",
            "  \"\"\"\n",
            "/usr/local/lib/python3.7/dist-packages/ipykernel_launcher.py:6: SettingWithCopyWarning: \n",
            "A value is trying to be set on a copy of a slice from a DataFrame.\n",
            "Try using .loc[row_indexer,col_indexer] = value instead\n",
            "\n",
            "See the caveats in the documentation: https://pandas.pydata.org/pandas-docs/stable/user_guide/indexing.html#returning-a-view-versus-a-copy\n",
            "  \n"
          ]
        }
      ]
    },
    {
      "cell_type": "code",
      "source": [
        "data.dtypes"
      ],
      "metadata": {
        "colab": {
          "base_uri": "https://localhost:8080/"
        },
        "id": "woOTPIWPp7O3",
        "outputId": "80b8d080-369e-4f67-a459-a83bb9b97fa4"
      },
      "execution_count": null,
      "outputs": [
        {
          "output_type": "execute_result",
          "data": {
            "text/plain": [
              "No.                            int64\n",
              "Sector                        object\n",
              "Sub Sector Code               object\n",
              "Sub Sector                    object\n",
              "Code                          object\n",
              "Stock Name                    object\n",
              "Sharia                        object\n",
              "Market Cap., b.IDR           float64\n",
              "Regular Volume, th.shares    float64\n",
              "Regular Value, m.IDR         float64\n",
              "Regular Freq, x              float64\n",
              "Regular Days                   int64\n",
              "Total Volume, th.shares      float64\n",
              "Total Value, m.IDR           float64\n",
              "Total Freq, x                float64\n",
              "Total Days                     int64\n",
              "dtype: object"
            ]
          },
          "metadata": {},
          "execution_count": 47
        }
      ]
    },
    {
      "cell_type": "markdown",
      "metadata": {
        "id": "ujEw0P1EUG27"
      },
      "source": [
        "#Missing Value\n"
      ]
    },
    {
      "cell_type": "code",
      "execution_count": null,
      "metadata": {
        "colab": {
          "base_uri": "https://localhost:8080/"
        },
        "id": "vm-eoiXRUKCZ",
        "outputId": "16900416-eebd-4a7e-93f1-3a374861a28c"
      },
      "outputs": [
        {
          "output_type": "execute_result",
          "data": {
            "text/plain": [
              "No.                          0\n",
              "Sector                       0\n",
              "Sub Sector Code              0\n",
              "Sub Sector                   0\n",
              "Code                         0\n",
              "Stock Name                   0\n",
              "Sharia                       0\n",
              "Market Cap., b.IDR           0\n",
              "Regular Volume, th.shares    0\n",
              "Regular Value, m.IDR         0\n",
              "Regular Freq, x              0\n",
              "Regular Days                 0\n",
              "Total Volume, th.shares      0\n",
              "Total Value, m.IDR           0\n",
              "Total Freq, x                0\n",
              "Total Days                   0\n",
              "dtype: int64"
            ]
          },
          "metadata": {},
          "execution_count": 48
        }
      ],
      "source": [
        "data.isna().sum()"
      ]
    },
    {
      "cell_type": "code",
      "execution_count": null,
      "metadata": {
        "colab": {
          "base_uri": "https://localhost:8080/",
          "height": 446
        },
        "id": "9PeUdgvkVAKD",
        "outputId": "370f58d4-3c99-4109-a548-5ad2e2167b6f"
      },
      "outputs": [
        {
          "output_type": "display_data",
          "data": {
            "text/plain": [
              "<Figure size 1800x720 with 2 Axes>"
            ],
            "image/png": "[encoded data removed]"
          },
          "metadata": {
            "needs_background": "light"
          }
        }
      ],
      "source": [
        "msno.matrix(data)\n",
        "plt.show()"
      ]
    },
    {
      "cell_type": "markdown",
      "metadata": {
        "id": "PkOaMi2yYBI6"
      },
      "source": [
        "#Eksplorasi dan Visualisasi Data"
      ]
    },
    {
      "cell_type": "code",
      "execution_count": null,
      "metadata": {
        "colab": {
          "base_uri": "https://localhost:8080/"
        },
        "id": "bVc4e11TVTVP",
        "outputId": "62407997-ff4a-44d2-a6e0-a17064d6a8bc"
      },
      "outputs": [
        {
          "output_type": "execute_result",
          "data": {
            "text/plain": [
              "False    685\n",
              "dtype: int64"
            ]
          },
          "metadata": {},
          "execution_count": 17
        }
      ],
      "source": [
        "data.duplicated().value_counts()"
      ]
    },
    {
      "cell_type": "code",
      "execution_count": null,
      "metadata": {
        "colab": {
          "base_uri": "https://localhost:8080/",
          "height": 1000
        },
        "id": "p8qqJZfAYGnO",
        "outputId": "76631ec2-7160-4275-810e-1ede52bef26b"
      },
      "outputs": [
        {
          "output_type": "stream",
          "name": "stderr",
          "text": [
            "/usr/local/lib/python3.7/dist-packages/seaborn/_decorators.py:43: FutureWarning: Pass the following variable as a keyword arg: x. From version 0.12, the only valid positional argument will be `data`, and passing other arguments without an explicit keyword will result in an error or misinterpretation.\n",
            "  FutureWarning\n",
            "/usr/local/lib/python3.7/dist-packages/seaborn/_decorators.py:43: FutureWarning: Pass the following variable as a keyword arg: x. From version 0.12, the only valid positional argument will be `data`, and passing other arguments without an explicit keyword will result in an error or misinterpretation.\n",
            "  FutureWarning\n",
            "/usr/local/lib/python3.7/dist-packages/seaborn/_decorators.py:43: FutureWarning: Pass the following variable as a keyword arg: x. From version 0.12, the only valid positional argument will be `data`, and passing other arguments without an explicit keyword will result in an error or misinterpretation.\n",
            "  FutureWarning\n",
            "/usr/local/lib/python3.7/dist-packages/seaborn/_decorators.py:43: FutureWarning: Pass the following variable as a keyword arg: x. From version 0.12, the only valid positional argument will be `data`, and passing other arguments without an explicit keyword will result in an error or misinterpretation.\n",
            "  FutureWarning\n",
            "/usr/local/lib/python3.7/dist-packages/seaborn/_decorators.py:43: FutureWarning: Pass the following variable as a keyword arg: x. From version 0.12, the only valid positional argument will be `data`, and passing other arguments without an explicit keyword will result in an error or misinterpretation.\n",
            "  FutureWarning\n",
            "/usr/local/lib/python3.7/dist-packages/seaborn/_decorators.py:43: FutureWarning: Pass the following variable as a keyword arg: x. From version 0.12, the only valid positional argument will be `data`, and passing other arguments without an explicit keyword will result in an error or misinterpretation.\n",
            "  FutureWarning\n",
            "/usr/local/lib/python3.7/dist-packages/seaborn/_decorators.py:43: FutureWarning: Pass the following variable as a keyword arg: x. From version 0.12, the only valid positional argument will be `data`, and passing other arguments without an explicit keyword will result in an error or misinterpretation.\n",
            "  FutureWarning\n",
            "/usr/local/lib/python3.7/dist-packages/seaborn/_decorators.py:43: FutureWarning: Pass the following variable as a keyword arg: x. From version 0.12, the only valid positional argument will be `data`, and passing other arguments without an explicit keyword will result in an error or misinterpretation.\n",
            "  FutureWarning\n",
            "/usr/local/lib/python3.7/dist-packages/seaborn/_decorators.py:43: FutureWarning: Pass the following variable as a keyword arg: x. From version 0.12, the only valid positional argument will be `data`, and passing other arguments without an explicit keyword will result in an error or misinterpretation.\n",
            "  FutureWarning\n"
          ]
        },
        {
          "output_type": "display_data",
          "data": {
            "text/plain": [
              "<Figure size 576x1080 with 9 Axes>"
            ],
            "image/png": "[encoded data removed]"
          },
          "metadata": {
            "needs_background": "light"
          }
        }
      ],
      "source": [
        "fig, ax = plt.subplots(9, figsize = (8, 15))\n",
        "plot_market = sns.boxplot(data['Market Cap., b.IDR'], ax = ax[0])\n",
        "plot_rvolume = sns.boxplot(data['Regular Volume, th.shares'], ax = ax[1])\n",
        "plot_rvalue = sns.boxplot(data['Regular Value, m.IDR'], ax = ax[2])\n",
        "plot_rfreq = sns.boxplot(data['Regular Freq, x'], ax = ax[3])\n",
        "plot_rd = sns.boxplot(data['Regular Days'], ax = ax[4])\n",
        "plot_tvolume = sns.boxplot(data['Total Volume, th.shares'], ax = ax[5])\n",
        "plot_tvalue = sns.boxplot(data['Total Value, m.IDR'], ax = ax[6])\n",
        "plot_tfreq = sns.boxplot(data['Total Freq, x'], ax = ax[7])\n",
        "plot_tdays = sns.boxplot(data['Total Days'], ax = ax[8])\n",
        "plt.tight_layout()"
      ]
    },
    {
      "cell_type": "code",
      "source": [
        "data['Sharia'].value_counts()"
      ],
      "metadata": {
        "colab": {
          "base_uri": "https://localhost:8080/"
        },
        "id": "FlE5fug9VdpX",
        "outputId": "28a61cd1-29e3-415a-fcaf-3bb34ef8571e"
      },
      "execution_count": null,
      "outputs": [
        {
          "output_type": "execute_result",
          "data": {
            "text/plain": [
              "S    423\n",
              "-    262\n",
              "Name: Sharia, dtype: int64"
            ]
          },
          "metadata": {},
          "execution_count": 52
        }
      ]
    },
    {
      "cell_type": "code",
      "source": [
        "data['Sharia'].value_counts().plot(kind = 'bar')\n",
        "plt.show()"
      ],
      "metadata": {
        "colab": {
          "base_uri": "https://localhost:8080/",
          "height": 262
        },
        "id": "zK87wQ4LusD6",
        "outputId": "2cd0c743-746d-4a6d-a8b9-48da39483a64"
      },
      "execution_count": null,
      "outputs": [
        {
          "output_type": "display_data",
          "data": {
            "text/plain": [
              "<Figure size 432x288 with 1 Axes>"
            ],
            "image/png": "[encoded data removed]"
          },
          "metadata": {
            "needs_background": "light"
          }
        }
      ]
    },
    {
      "cell_type": "markdown",
      "source": [
        "Pemilihan Variabel"
      ],
      "metadata": {
        "id": "ROnAFUOqu8E_"
      }
    },
    {
      "cell_type": "code",
      "source": [
        "data=data.drop(['No.', 'Sector', 'Sub Sector Code', 'Sub Sector','Stock Name','Total Days'],axis=1)\n",
        "data"
      ],
      "metadata": {
        "colab": {
          "base_uri": "https://localhost:8080/",
          "height": 502
        },
        "id": "J7FYcblNu4ty",
        "outputId": "3a764b30-9eff-463d-d9a8-5c7c77db6919"
      },
      "execution_count": null,
      "outputs": [
        {
          "output_type": "execute_result",
          "data": {
            "text/plain": [
              "     Code Sharia  Market Cap., b.IDR  Regular Volume, th.shares  \\\n",
              "0    AYLS      S           61.446473                   272218.6   \n",
              "1    ALKA      S          124.885604                     3466.6   \n",
              "2    ALDO      S          759.000000                   198377.2   \n",
              "3    ALMI      -          147.840000                      765.6   \n",
              "4    OKAS      -          148.337933                    39666.1   \n",
              "..    ...    ...                 ...                        ...   \n",
              "733  SAPX      S          908.333297                     2897.5   \n",
              "734  TMAS      -         1346.415400                   220870.2   \n",
              "735  TNCA      S          139.141200                    14957.2   \n",
              "736  SMDR      S         1850.442800                   234493.2   \n",
              "737  SDMU      -           56.761250                    51113.9   \n",
              "\n",
              "     Regular Value, m.IDR  Regular Freq, x  Regular Days  \\\n",
              "0              24952.2299          28869.0            21   \n",
              "1                907.6660           1323.0            21   \n",
              "2             181231.4530          29170.0            21   \n",
              "3                191.3324            279.0            21   \n",
              "4               3396.9271           3063.0            21   \n",
              "..                    ...              ...           ...   \n",
              "733             3170.4810           1685.0            21   \n",
              "734            78358.1820          37139.0            21   \n",
              "735             5432.7160           3205.0            21   \n",
              "736           130764.6175          32570.0            21   \n",
              "737             2627.1501           2624.0            21   \n",
              "\n",
              "     Total Volume, th.shares  Total Value, m.IDR  Total Freq, x  \n",
              "0                   272218.6          24952.2299        28869.0  \n",
              "1                     3466.6            907.6660         1323.0  \n",
              "2                   198377.2         181231.4530        29170.0  \n",
              "3                      765.6            191.3324          279.0  \n",
              "4                    39666.1           3396.9271         3063.0  \n",
              "..                       ...                 ...            ...  \n",
              "733                   2897.5           3170.4810         1685.0  \n",
              "734                 220920.2          78376.6820        37140.0  \n",
              "735                  14957.2           5432.7160         3205.0  \n",
              "736                 234493.2         130764.6175        32570.0  \n",
              "737                  51113.9           2627.1501         2624.0  \n",
              "\n",
              "[685 rows x 10 columns]"
            ],
            "text/html": [
              "\n",
              "  <div id=\"df-0cb41c81-ed38-418b-ae7a-fa21f7536c7c\">\n",
              "    <div class=\"colab-df-container\">\n",
              "      <div>\n",
              "<style scoped>\n",
              "    .dataframe tbody tr th:only-of-type {\n",
              "        vertical-align: middle;\n",
              "    }\n",
              "\n",
              "    .dataframe tbody tr th {\n",
              "        vertical-align: top;\n",
              "    }\n",
              "\n",
              "    .dataframe thead th {\n",
              "        text-align: right;\n",
              "    }\n",
              "</style>\n",
              "<table border=\"1\" class=\"dataframe\">\n",
              "  <thead>\n",
              "    <tr style=\"text-align: right;\">\n",
              "      <th></th>\n",
              "      <th>Code</th>\n",
              "      <th>Sharia</th>\n",
              "      <th>Market Cap., b.IDR</th>\n",
              "      <th>Regular Volume, th.shares</th>\n",
              "      <th>Regular Value, m.IDR</th>\n",
              "      <th>Regular Freq, x</th>\n",
              "      <th>Regular Days</th>\n",
              "      <th>Total Volume, th.shares</th>\n",
              "      <th>Total Value, m.IDR</th>\n",
              "      <th>Total Freq, x</th>\n",
              "    </tr>\n",
              "  </thead>\n",
              "  <tbody>\n",
              "    <tr>\n",
              "      <th>0</th>\n",
              "      <td>AYLS</td>\n",
              "      <td>S</td>\n",
              "      <td>61.446473</td>\n",
              "      <td>272218.6</td>\n",
              "      <td>24952.2299</td>\n",
              "      <td>28869.0</td>\n",
              "      <td>21</td>\n",
              "      <td>272218.6</td>\n",
              "      <td>24952.2299</td>\n",
              "      <td>28869.0</td>\n",
              "    </tr>\n",
              "    <tr>\n",
              "      <th>1</th>\n",
              "      <td>ALKA</td>\n",
              "      <td>S</td>\n",
              "      <td>124.885604</td>\n",
              "      <td>3466.6</td>\n",
              "      <td>907.6660</td>\n",
              "      <td>1323.0</td>\n",
              "      <td>21</td>\n",
              "      <td>3466.6</td>\n",
              "      <td>907.6660</td>\n",
              "      <td>1323.0</td>\n",
              "    </tr>\n",
              "    <tr>\n",
              "      <th>2</th>\n",
              "      <td>ALDO</td>\n",
              "      <td>S</td>\n",
              "      <td>759.000000</td>\n",
              "      <td>198377.2</td>\n",
              "      <td>181231.4530</td>\n",
              "      <td>29170.0</td>\n",
              "      <td>21</td>\n",
              "      <td>198377.2</td>\n",
              "      <td>181231.4530</td>\n",
              "      <td>29170.0</td>\n",
              "    </tr>\n",
              "    <tr>\n",
              "      <th>3</th>\n",
              "      <td>ALMI</td>\n",
              "      <td>-</td>\n",
              "      <td>147.840000</td>\n",
              "      <td>765.6</td>\n",
              "      <td>191.3324</td>\n",
              "      <td>279.0</td>\n",
              "      <td>21</td>\n",
              "      <td>765.6</td>\n",
              "      <td>191.3324</td>\n",
              "      <td>279.0</td>\n",
              "    </tr>\n",
              "    <tr>\n",
              "      <th>4</th>\n",
              "      <td>OKAS</td>\n",
              "      <td>-</td>\n",
              "      <td>148.337933</td>\n",
              "      <td>39666.1</td>\n",
              "      <td>3396.9271</td>\n",
              "      <td>3063.0</td>\n",
              "      <td>21</td>\n",
              "      <td>39666.1</td>\n",
              "      <td>3396.9271</td>\n",
              "      <td>3063.0</td>\n",
              "    </tr>\n",
              "    <tr>\n",
              "      <th>...</th>\n",
              "      <td>...</td>\n",
              "      <td>...</td>\n",
              "      <td>...</td>\n",
              "      <td>...</td>\n",
              "      <td>...</td>\n",
              "      <td>...</td>\n",
              "      <td>...</td>\n",
              "      <td>...</td>\n",
              "      <td>...</td>\n",
              "      <td>...</td>\n",
              "    </tr>\n",
              "    <tr>\n",
              "      <th>733</th>\n",
              "      <td>SAPX</td>\n",
              "      <td>S</td>\n",
              "      <td>908.333297</td>\n",
              "      <td>2897.5</td>\n",
              "      <td>3170.4810</td>\n",
              "      <td>1685.0</td>\n",
              "      <td>21</td>\n",
              "      <td>2897.5</td>\n",
              "      <td>3170.4810</td>\n",
              "      <td>1685.0</td>\n",
              "    </tr>\n",
              "    <tr>\n",
              "      <th>734</th>\n",
              "      <td>TMAS</td>\n",
              "      <td>-</td>\n",
              "      <td>1346.415400</td>\n",
              "      <td>220870.2</td>\n",
              "      <td>78358.1820</td>\n",
              "      <td>37139.0</td>\n",
              "      <td>21</td>\n",
              "      <td>220920.2</td>\n",
              "      <td>78376.6820</td>\n",
              "      <td>37140.0</td>\n",
              "    </tr>\n",
              "    <tr>\n",
              "      <th>735</th>\n",
              "      <td>TNCA</td>\n",
              "      <td>S</td>\n",
              "      <td>139.141200</td>\n",
              "      <td>14957.2</td>\n",
              "      <td>5432.7160</td>\n",
              "      <td>3205.0</td>\n",
              "      <td>21</td>\n",
              "      <td>14957.2</td>\n",
              "      <td>5432.7160</td>\n",
              "      <td>3205.0</td>\n",
              "    </tr>\n",
              "    <tr>\n",
              "      <th>736</th>\n",
              "      <td>SMDR</td>\n",
              "      <td>S</td>\n",
              "      <td>1850.442800</td>\n",
              "      <td>234493.2</td>\n",
              "      <td>130764.6175</td>\n",
              "      <td>32570.0</td>\n",
              "      <td>21</td>\n",
              "      <td>234493.2</td>\n",
              "      <td>130764.6175</td>\n",
              "      <td>32570.0</td>\n",
              "    </tr>\n",
              "    <tr>\n",
              "      <th>737</th>\n",
              "      <td>SDMU</td>\n",
              "      <td>-</td>\n",
              "      <td>56.761250</td>\n",
              "      <td>51113.9</td>\n",
              "      <td>2627.1501</td>\n",
              "      <td>2624.0</td>\n",
              "      <td>21</td>\n",
              "      <td>51113.9</td>\n",
              "      <td>2627.1501</td>\n",
              "      <td>2624.0</td>\n",
              "    </tr>\n",
              "  </tbody>\n",
              "</table>\n",
              "<p>685 rows × 10 columns</p>\n",
              "</div>\n",
              "      <button class=\"colab-df-convert\" onclick=\"convertToInteractive('df-0cb41c81-ed38-418b-ae7a-fa21f7536c7c')\"\n",
              "              title=\"Convert this dataframe to an interactive table.\"\n",
              "              style=\"display:none;\">\n",
              "        \n",
              "  <svg xmlns=\"http://www.w3.org/2000/svg\" height=\"24px\"viewBox=\"0 0 24 24\"\n",
              "       width=\"24px\">\n",
              "    <path d=\"M0 0h24v24H0V0z\" fill=\"none\"/>\n",
              "    <path d=\"M18.56 5.44l.94 2.06.94-2.06 2.06-.94-2.06-.94-.94-2.06-.94 2.06-2.06.94zm-11 1L8.5 8.5l.94-2.06 2.06-.94-2.06-.94L8.5 2.5l-.94 2.06-2.06.94zm10 10l.94 2.06.94-2.06 2.06-.94-2.06-.94-.94-2.06-.94 2.06-2.06.94z\"/><path d=\"M17.41 7.96l-1.37-1.37c-.4-.4-.92-.59-1.43-.59-.52 0-1.04.2-1.43.59L10.3 9.45l-7.72 7.72c-.78.78-.78 2.05 0 2.83L4 21.41c.39.39.9.59 1.41.59.51 0 1.02-.2 1.41-.59l7.78-7.78 2.81-2.81c.8-.78.8-2.07 0-2.86zM5.41 20L4 18.59l7.72-7.72 1.47 1.35L5.41 20z\"/>\n",
              "  </svg>\n",
              "      </button>\n",
              "      \n",
              "  <style>\n",
              "    .colab-df-container {\n",
              "      display:flex;\n",
              "      flex-wrap:wrap;\n",
              "      gap: 12px;\n",
              "    }\n",
              "\n",
              "    .colab-df-convert {\n",
              "      background-color: #E8F0FE;\n",
              "      border: none;\n",
              "      border-radius: 50%;\n",
              "      cursor: pointer;\n",
              "      display: none;\n",
              "      fill: #1967D2;\n",
              "      height: 32px;\n",
              "      padding: 0 0 0 0;\n",
              "      width: 32px;\n",
              "    }\n",
              "\n",
              "    .colab-df-convert:hover {\n",
              "      background-color: #E2EBFA;\n",
              "      box-shadow: 0px 1px 2px rgba(60, 64, 67, 0.3), 0px 1px 3px 1px rgba(60, 64, 67, 0.15);\n",
              "      fill: #174EA6;\n",
              "    }\n",
              "\n",
              "    [theme=dark] .colab-df-convert {\n",
              "      background-color: #3B4455;\n",
              "      fill: #D2E3FC;\n",
              "    }\n",
              "\n",
              "    [theme=dark] .colab-df-convert:hover {\n",
              "      background-color: #434B5C;\n",
              "      box-shadow: 0px 1px 3px 1px rgba(0, 0, 0, 0.15);\n",
              "      filter: drop-shadow(0px 1px 2px rgba(0, 0, 0, 0.3));\n",
              "      fill: #FFFFFF;\n",
              "    }\n",
              "  </style>\n",
              "\n",
              "      <script>\n",
              "        const buttonEl =\n",
              "          document.querySelector('#df-0cb41c81-ed38-418b-ae7a-fa21f7536c7c button.colab-df-convert');\n",
              "        buttonEl.style.display =\n",
              "          google.colab.kernel.accessAllowed ? 'block' : 'none';\n",
              "\n",
              "        async function convertToInteractive(key) {\n",
              "          const element = document.querySelector('#df-0cb41c81-ed38-418b-ae7a-fa21f7536c7c');\n",
              "          const dataTable =\n",
              "            await google.colab.kernel.invokeFunction('convertToInteractive',\n",
              "                                                     [key], {});\n",
              "          if (!dataTable) return;\n",
              "\n",
              "          const docLinkHtml = 'Like what you see? Visit the ' +\n",
              "            '<a target=\"_blank\" href=https://colab.research.google.com/notebooks/data_table.ipynb>data table notebook</a>'\n",
              "            + ' to learn more about interactive tables.';\n",
              "          element.innerHTML = '';\n",
              "          dataTable['output_type'] = 'display_data';\n",
              "          await google.colab.output.renderOutput(dataTable, element);\n",
              "          const docLink = document.createElement('div');\n",
              "          docLink.innerHTML = docLinkHtml;\n",
              "          element.appendChild(docLink);\n",
              "        }\n",
              "      </script>\n",
              "    </div>\n",
              "  </div>\n",
              "  "
            ]
          },
          "metadata": {},
          "execution_count": 19
        }
      ]
    },
    {
      "cell_type": "markdown",
      "source": [
        "Pembentukan Dummy Variabel"
      ],
      "metadata": {
        "id": "wGw--ZB5vosi"
      }
    },
    {
      "cell_type": "code",
      "source": [
        "dms = pd.get_dummies(data[['Sharia']])\n",
        "data= pd.concat([data,dms], axis=1 )\n",
        "data = data.drop(['Sharia'],axis=1)"
      ],
      "metadata": {
        "id": "LZ5uYru4vs8A"
      },
      "execution_count": null,
      "outputs": []
    },
    {
      "cell_type": "code",
      "source": [
        "data"
      ],
      "metadata": {
        "colab": {
          "base_uri": "https://localhost:8080/",
          "height": 502
        },
        "id": "HBIQgcowvw7m",
        "outputId": "a9450266-368e-404e-c84f-56d756902d00"
      },
      "execution_count": null,
      "outputs": [
        {
          "output_type": "execute_result",
          "data": {
            "text/plain": [
              "     Code  Market Cap., b.IDR  Regular Volume, th.shares  \\\n",
              "0    AYLS           61.446473                   272218.6   \n",
              "1    ALKA          124.885604                     3466.6   \n",
              "2    ALDO          759.000000                   198377.2   \n",
              "3    ALMI          147.840000                      765.6   \n",
              "4    OKAS          148.337933                    39666.1   \n",
              "..    ...                 ...                        ...   \n",
              "733  SAPX          908.333297                     2897.5   \n",
              "734  TMAS         1346.415400                   220870.2   \n",
              "735  TNCA          139.141200                    14957.2   \n",
              "736  SMDR         1850.442800                   234493.2   \n",
              "737  SDMU           56.761250                    51113.9   \n",
              "\n",
              "     Regular Value, m.IDR  Regular Freq, x  Regular Days  \\\n",
              "0              24952.2299          28869.0            21   \n",
              "1                907.6660           1323.0            21   \n",
              "2             181231.4530          29170.0            21   \n",
              "3                191.3324            279.0            21   \n",
              "4               3396.9271           3063.0            21   \n",
              "..                    ...              ...           ...   \n",
              "733             3170.4810           1685.0            21   \n",
              "734            78358.1820          37139.0            21   \n",
              "735             5432.7160           3205.0            21   \n",
              "736           130764.6175          32570.0            21   \n",
              "737             2627.1501           2624.0            21   \n",
              "\n",
              "     Total Volume, th.shares  Total Value, m.IDR  Total Freq, x  Sharia_-  \\\n",
              "0                   272218.6          24952.2299        28869.0         0   \n",
              "1                     3466.6            907.6660         1323.0         0   \n",
              "2                   198377.2         181231.4530        29170.0         0   \n",
              "3                      765.6            191.3324          279.0         1   \n",
              "4                    39666.1           3396.9271         3063.0         1   \n",
              "..                       ...                 ...            ...       ...   \n",
              "733                   2897.5           3170.4810         1685.0         0   \n",
              "734                 220920.2          78376.6820        37140.0         1   \n",
              "735                  14957.2           5432.7160         3205.0         0   \n",
              "736                 234493.2         130764.6175        32570.0         0   \n",
              "737                  51113.9           2627.1501         2624.0         1   \n",
              "\n",
              "     Sharia_S  \n",
              "0           1  \n",
              "1           1  \n",
              "2           1  \n",
              "3           0  \n",
              "4           0  \n",
              "..        ...  \n",
              "733         1  \n",
              "734         0  \n",
              "735         1  \n",
              "736         1  \n",
              "737         0  \n",
              "\n",
              "[685 rows x 11 columns]"
            ],
            "text/html": [
              "\n",
              "  <div id=\"df-ba5bc836-9fe3-4a2d-bed2-9bb989b4734b\">\n",
              "    <div class=\"colab-df-container\">\n",
              "      <div>\n",
              "<style scoped>\n",
              "    .dataframe tbody tr th:only-of-type {\n",
              "        vertical-align: middle;\n",
              "    }\n",
              "\n",
              "    .dataframe tbody tr th {\n",
              "        vertical-align: top;\n",
              "    }\n",
              "\n",
              "    .dataframe thead th {\n",
              "        text-align: right;\n",
              "    }\n",
              "</style>\n",
              "<table border=\"1\" class=\"dataframe\">\n",
              "  <thead>\n",
              "    <tr style=\"text-align: right;\">\n",
              "      <th></th>\n",
              "      <th>Code</th>\n",
              "      <th>Market Cap., b.IDR</th>\n",
              "      <th>Regular Volume, th.shares</th>\n",
              "      <th>Regular Value, m.IDR</th>\n",
              "      <th>Regular Freq, x</th>\n",
              "      <th>Regular Days</th>\n",
              "      <th>Total Volume, th.shares</th>\n",
              "      <th>Total Value, m.IDR</th>\n",
              "      <th>Total Freq, x</th>\n",
              "      <th>Sharia_-</th>\n",
              "      <th>Sharia_S</th>\n",
              "    </tr>\n",
              "  </thead>\n",
              "  <tbody>\n",
              "    <tr>\n",
              "      <th>0</th>\n",
              "      <td>AYLS</td>\n",
              "      <td>61.446473</td>\n",
              "      <td>272218.6</td>\n",
              "      <td>24952.2299</td>\n",
              "      <td>28869.0</td>\n",
              "      <td>21</td>\n",
              "      <td>272218.6</td>\n",
              "      <td>24952.2299</td>\n",
              "      <td>28869.0</td>\n",
              "      <td>0</td>\n",
              "      <td>1</td>\n",
              "    </tr>\n",
              "    <tr>\n",
              "      <th>1</th>\n",
              "      <td>ALKA</td>\n",
              "      <td>124.885604</td>\n",
              "      <td>3466.6</td>\n",
              "      <td>907.6660</td>\n",
              "      <td>1323.0</td>\n",
              "      <td>21</td>\n",
              "      <td>3466.6</td>\n",
              "      <td>907.6660</td>\n",
              "      <td>1323.0</td>\n",
              "      <td>0</td>\n",
              "      <td>1</td>\n",
              "    </tr>\n",
              "    <tr>\n",
              "      <th>2</th>\n",
              "      <td>ALDO</td>\n",
              "      <td>759.000000</td>\n",
              "      <td>198377.2</td>\n",
              "      <td>181231.4530</td>\n",
              "      <td>29170.0</td>\n",
              "      <td>21</td>\n",
              "      <td>198377.2</td>\n",
              "      <td>181231.4530</td>\n",
              "      <td>29170.0</td>\n",
              "      <td>0</td>\n",
              "      <td>1</td>\n",
              "    </tr>\n",
              "    <tr>\n",
              "      <th>3</th>\n",
              "      <td>ALMI</td>\n",
              "      <td>147.840000</td>\n",
              "      <td>765.6</td>\n",
              "      <td>191.3324</td>\n",
              "      <td>279.0</td>\n",
              "      <td>21</td>\n",
              "      <td>765.6</td>\n",
              "      <td>191.3324</td>\n",
              "      <td>279.0</td>\n",
              "      <td>1</td>\n",
              "      <td>0</td>\n",
              "    </tr>\n",
              "    <tr>\n",
              "      <th>4</th>\n",
              "      <td>OKAS</td>\n",
              "      <td>148.337933</td>\n",
              "      <td>39666.1</td>\n",
              "      <td>3396.9271</td>\n",
              "      <td>3063.0</td>\n",
              "      <td>21</td>\n",
              "      <td>39666.1</td>\n",
              "      <td>3396.9271</td>\n",
              "      <td>3063.0</td>\n",
              "      <td>1</td>\n",
              "      <td>0</td>\n",
              "    </tr>\n",
              "    <tr>\n",
              "      <th>...</th>\n",
              "      <td>...</td>\n",
              "      <td>...</td>\n",
              "      <td>...</td>\n",
              "      <td>...</td>\n",
              "      <td>...</td>\n",
              "      <td>...</td>\n",
              "      <td>...</td>\n",
              "      <td>...</td>\n",
              "      <td>...</td>\n",
              "      <td>...</td>\n",
              "      <td>...</td>\n",
              "    </tr>\n",
              "    <tr>\n",
              "      <th>733</th>\n",
              "      <td>SAPX</td>\n",
              "      <td>908.333297</td>\n",
              "      <td>2897.5</td>\n",
              "      <td>3170.4810</td>\n",
              "      <td>1685.0</td>\n",
              "      <td>21</td>\n",
              "      <td>2897.5</td>\n",
              "      <td>3170.4810</td>\n",
              "      <td>1685.0</td>\n",
              "      <td>0</td>\n",
              "      <td>1</td>\n",
              "    </tr>\n",
              "    <tr>\n",
              "      <th>734</th>\n",
              "      <td>TMAS</td>\n",
              "      <td>1346.415400</td>\n",
              "      <td>220870.2</td>\n",
              "      <td>78358.1820</td>\n",
              "      <td>37139.0</td>\n",
              "      <td>21</td>\n",
              "      <td>220920.2</td>\n",
              "      <td>78376.6820</td>\n",
              "      <td>37140.0</td>\n",
              "      <td>1</td>\n",
              "      <td>0</td>\n",
              "    </tr>\n",
              "    <tr>\n",
              "      <th>735</th>\n",
              "      <td>TNCA</td>\n",
              "      <td>139.141200</td>\n",
              "      <td>14957.2</td>\n",
              "      <td>5432.7160</td>\n",
              "      <td>3205.0</td>\n",
              "      <td>21</td>\n",
              "      <td>14957.2</td>\n",
              "      <td>5432.7160</td>\n",
              "      <td>3205.0</td>\n",
              "      <td>0</td>\n",
              "      <td>1</td>\n",
              "    </tr>\n",
              "    <tr>\n",
              "      <th>736</th>\n",
              "      <td>SMDR</td>\n",
              "      <td>1850.442800</td>\n",
              "      <td>234493.2</td>\n",
              "      <td>130764.6175</td>\n",
              "      <td>32570.0</td>\n",
              "      <td>21</td>\n",
              "      <td>234493.2</td>\n",
              "      <td>130764.6175</td>\n",
              "      <td>32570.0</td>\n",
              "      <td>0</td>\n",
              "      <td>1</td>\n",
              "    </tr>\n",
              "    <tr>\n",
              "      <th>737</th>\n",
              "      <td>SDMU</td>\n",
              "      <td>56.761250</td>\n",
              "      <td>51113.9</td>\n",
              "      <td>2627.1501</td>\n",
              "      <td>2624.0</td>\n",
              "      <td>21</td>\n",
              "      <td>51113.9</td>\n",
              "      <td>2627.1501</td>\n",
              "      <td>2624.0</td>\n",
              "      <td>1</td>\n",
              "      <td>0</td>\n",
              "    </tr>\n",
              "  </tbody>\n",
              "</table>\n",
              "<p>685 rows × 11 columns</p>\n",
              "</div>\n",
              "      <button class=\"colab-df-convert\" onclick=\"convertToInteractive('df-ba5bc836-9fe3-4a2d-bed2-9bb989b4734b')\"\n",
              "              title=\"Convert this dataframe to an interactive table.\"\n",
              "              style=\"display:none;\">\n",
              "        \n",
              "  <svg xmlns=\"http://www.w3.org/2000/svg\" height=\"24px\"viewBox=\"0 0 24 24\"\n",
              "       width=\"24px\">\n",
              "    <path d=\"M0 0h24v24H0V0z\" fill=\"none\"/>\n",
              "    <path d=\"M18.56 5.44l.94 2.06.94-2.06 2.06-.94-2.06-.94-.94-2.06-.94 2.06-2.06.94zm-11 1L8.5 8.5l.94-2.06 2.06-.94-2.06-.94L8.5 2.5l-.94 2.06-2.06.94zm10 10l.94 2.06.94-2.06 2.06-.94-2.06-.94-.94-2.06-.94 2.06-2.06.94z\"/><path d=\"M17.41 7.96l-1.37-1.37c-.4-.4-.92-.59-1.43-.59-.52 0-1.04.2-1.43.59L10.3 9.45l-7.72 7.72c-.78.78-.78 2.05 0 2.83L4 21.41c.39.39.9.59 1.41.59.51 0 1.02-.2 1.41-.59l7.78-7.78 2.81-2.81c.8-.78.8-2.07 0-2.86zM5.41 20L4 18.59l7.72-7.72 1.47 1.35L5.41 20z\"/>\n",
              "  </svg>\n",
              "      </button>\n",
              "      \n",
              "  <style>\n",
              "    .colab-df-container {\n",
              "      display:flex;\n",
              "      flex-wrap:wrap;\n",
              "      gap: 12px;\n",
              "    }\n",
              "\n",
              "    .colab-df-convert {\n",
              "      background-color: #E8F0FE;\n",
              "      border: none;\n",
              "      border-radius: 50%;\n",
              "      cursor: pointer;\n",
              "      display: none;\n",
              "      fill: #1967D2;\n",
              "      height: 32px;\n",
              "      padding: 0 0 0 0;\n",
              "      width: 32px;\n",
              "    }\n",
              "\n",
              "    .colab-df-convert:hover {\n",
              "      background-color: #E2EBFA;\n",
              "      box-shadow: 0px 1px 2px rgba(60, 64, 67, 0.3), 0px 1px 3px 1px rgba(60, 64, 67, 0.15);\n",
              "      fill: #174EA6;\n",
              "    }\n",
              "\n",
              "    [theme=dark] .colab-df-convert {\n",
              "      background-color: #3B4455;\n",
              "      fill: #D2E3FC;\n",
              "    }\n",
              "\n",
              "    [theme=dark] .colab-df-convert:hover {\n",
              "      background-color: #434B5C;\n",
              "      box-shadow: 0px 1px 3px 1px rgba(0, 0, 0, 0.15);\n",
              "      filter: drop-shadow(0px 1px 2px rgba(0, 0, 0, 0.3));\n",
              "      fill: #FFFFFF;\n",
              "    }\n",
              "  </style>\n",
              "\n",
              "      <script>\n",
              "        const buttonEl =\n",
              "          document.querySelector('#df-ba5bc836-9fe3-4a2d-bed2-9bb989b4734b button.colab-df-convert');\n",
              "        buttonEl.style.display =\n",
              "          google.colab.kernel.accessAllowed ? 'block' : 'none';\n",
              "\n",
              "        async function convertToInteractive(key) {\n",
              "          const element = document.querySelector('#df-ba5bc836-9fe3-4a2d-bed2-9bb989b4734b');\n",
              "          const dataTable =\n",
              "            await google.colab.kernel.invokeFunction('convertToInteractive',\n",
              "                                                     [key], {});\n",
              "          if (!dataTable) return;\n",
              "\n",
              "          const docLinkHtml = 'Like what you see? Visit the ' +\n",
              "            '<a target=\"_blank\" href=https://colab.research.google.com/notebooks/data_table.ipynb>data table notebook</a>'\n",
              "            + ' to learn more about interactive tables.';\n",
              "          element.innerHTML = '';\n",
              "          dataTable['output_type'] = 'display_data';\n",
              "          await google.colab.output.renderOutput(dataTable, element);\n",
              "          const docLink = document.createElement('div');\n",
              "          docLink.innerHTML = docLinkHtml;\n",
              "          element.appendChild(docLink);\n",
              "        }\n",
              "      </script>\n",
              "    </div>\n",
              "  </div>\n",
              "  "
            ]
          },
          "metadata": {},
          "execution_count": 21
        }
      ]
    },
    {
      "cell_type": "code",
      "source": [
        "data.dtypes"
      ],
      "metadata": {
        "colab": {
          "base_uri": "https://localhost:8080/"
        },
        "id": "GyGA1UHev0f0",
        "outputId": "262fe94c-c7e0-49da-efcb-a4a11673179c"
      },
      "execution_count": null,
      "outputs": [
        {
          "output_type": "execute_result",
          "data": {
            "text/plain": [
              "Code                          object\n",
              "Market Cap., b.IDR           float64\n",
              "Regular Volume, th.shares    float64\n",
              "Regular Value, m.IDR         float64\n",
              "Regular Freq, x              float64\n",
              "Regular Days                   int64\n",
              "Total Volume, th.shares      float64\n",
              "Total Value, m.IDR           float64\n",
              "Total Freq, x                float64\n",
              "Sharia_-                       uint8\n",
              "Sharia_S                       uint8\n",
              "dtype: object"
            ]
          },
          "metadata": {},
          "execution_count": 22
        }
      ]
    },
    {
      "cell_type": "code",
      "source": [
        "%matplotlib inline\n",
        "sns.heatmap(data.corr(),cmap=\"YlGnBu\",annot=True)"
      ],
      "metadata": {
        "colab": {
          "base_uri": "https://localhost:8080/",
          "height": 408
        },
        "id": "oVOYaf021rCx",
        "outputId": "20b15e6b-2814-424f-fbbb-0314bc48e824"
      },
      "execution_count": null,
      "outputs": [
        {
          "output_type": "execute_result",
          "data": {
            "text/plain": [
              "<matplotlib.axes._subplots.AxesSubplot at 0x7f3480456d50>"
            ]
          },
          "metadata": {},
          "execution_count": 23
        },
        {
          "output_type": "display_data",
          "data": {
            "text/plain": [
              "<Figure size 432x288 with 2 Axes>"
            ],
            "image/png": "[encoded data removed]"
          },
          "metadata": {
            "needs_background": "light"
          }
        }
      ]
    },
    {
      "cell_type": "markdown",
      "source": [
        "Spilting Data"
      ],
      "metadata": {
        "id": "axTCB_UGwO5w"
      }
    },
    {
      "cell_type": "code",
      "source": [
        "X = data.drop(['Total Volume, th.shares'], axis = 1)\n",
        "y = data['Total Volume, th.shares']"
      ],
      "metadata": {
        "id": "MWsYsuccwT5b"
      },
      "execution_count": null,
      "outputs": []
    },
    {
      "cell_type": "code",
      "source": [
        "X_train, X_test, y_train, y_test = train_test_split(X, y, test_size = 0.3)"
      ],
      "metadata": {
        "id": "vU9rmAlowZXY"
      },
      "execution_count": null,
      "outputs": []
    },
    {
      "cell_type": "markdown",
      "source": [
        "Normalisasi"
      ],
      "metadata": {
        "id": "7kACGCHlwgao"
      }
    },
    {
      "cell_type": "code",
      "source": [
        "num=['Market Cap., b.IDR','Regular Volume, th.shares','Regular Value, m.IDR',\n",
        "     'Regular Freq, x','Regular Days', 'Total Value, m.IDR', 'Total Freq, x']"
      ],
      "metadata": {
        "id": "mZK4qa1KwcLA"
      },
      "execution_count": null,
      "outputs": []
    },
    {
      "cell_type": "code",
      "source": [
        "scaler = MinMaxScaler()\n",
        "X_train = scaler.fit_transform(X_train[num])\n",
        "X_test = scaler.transform(X_test[num])"
      ],
      "metadata": {
        "id": "ff4LL41_wnjc"
      },
      "execution_count": null,
      "outputs": []
    },
    {
      "cell_type": "markdown",
      "source": [
        "#Linera Regression"
      ],
      "metadata": {
        "id": "7xxgCllD0j12"
      }
    },
    {
      "cell_type": "code",
      "source": [
        "# load statmodels functions\n",
        "from statsmodels.stats.outliers_influence import variance_inflation_factor\n",
        "from statsmodels.tools.tools import add_constant\n",
        "\n",
        "# compute the vif for all given features\n",
        "def compute_vif(considered_features):\n",
        "\n",
        "    X = X_train[considered_features]\n",
        "    # the calculation of variance inflation requires a constant\n",
        "    X['intercept'] = 1\n",
        "\n",
        "    # create dataframe to store vif values\n",
        "    vif = pd.DataFrame()\n",
        "    vif[\"Variable\"] = X.columns\n",
        "    vif[\"VIF\"] = [variance_inflation_factor(X.values, i) for i in range(X.shape[1])]\n",
        "    vif = vif[vif['Variable']!='intercept']\n",
        "    return vif"
      ],
      "metadata": {
        "id": "Pof48FTM0qWa"
      },
      "execution_count": null,
      "outputs": []
    },
    {
      "cell_type": "code",
      "source": [
        "# features to consider removing\n",
        "considered_features = ['Market Cap., b.IDR','Regular Volume, th.shares','Regular Value, m.IDR',\n",
        "                       'Regular Freq, x','Regular Days', 'Total Value, m.IDR', 'Total Freq, x']\n",
        "\n",
        "\n",
        "# compute vif\n",
        "compute_vif(considered_features).sort_values('VIF', ascending=False)"
      ],
      "metadata": {
        "colab": {
          "base_uri": "https://localhost:8080/",
          "height": 393
        },
        "id": "mVLP4_x_0x2m",
        "outputId": "476995af-098d-4bef-a94a-7c8870e9d23d"
      },
      "execution_count": null,
      "outputs": [
        {
          "output_type": "stream",
          "name": "stderr",
          "text": [
            "/usr/local/lib/python3.7/dist-packages/ipykernel_launcher.py:10: SettingWithCopyWarning: \n",
            "A value is trying to be set on a copy of a slice from a DataFrame.\n",
            "Try using .loc[row_indexer,col_indexer] = value instead\n",
            "\n",
            "See the caveats in the documentation: https://pandas.pydata.org/pandas-docs/stable/user_guide/indexing.html#returning-a-view-versus-a-copy\n",
            "  # Remove the CWD from sys.path while we load stuff.\n"
          ]
        },
        {
          "output_type": "execute_result",
          "data": {
            "text/plain": [
              "                    Variable           VIF\n",
              "6              Total Freq, x  3.630772e+06\n",
              "3            Regular Freq, x  3.625860e+06\n",
              "2       Regular Value, m.IDR  3.052629e+01\n",
              "5         Total Value, m.IDR  2.719194e+01\n",
              "0         Market Cap., b.IDR  4.523860e+00\n",
              "1  Regular Volume, th.shares  1.767852e+00\n",
              "4               Regular Days  1.002579e+00"
            ],
            "text/html": [
              "\n",
              "  <div id=\"df-6884e903-af96-4e5b-9740-87fdb956ea35\">\n",
              "    <div class=\"colab-df-container\">\n",
              "      <div>\n",
              "<style scoped>\n",
              "    .dataframe tbody tr th:only-of-type {\n",
              "        vertical-align: middle;\n",
              "    }\n",
              "\n",
              "    .dataframe tbody tr th {\n",
              "        vertical-align: top;\n",
              "    }\n",
              "\n",
              "    .dataframe thead th {\n",
              "        text-align: right;\n",
              "    }\n",
              "</style>\n",
              "<table border=\"1\" class=\"dataframe\">\n",
              "  <thead>\n",
              "    <tr style=\"text-align: right;\">\n",
              "      <th></th>\n",
              "      <th>Variable</th>\n",
              "      <th>VIF</th>\n",
              "    </tr>\n",
              "  </thead>\n",
              "  <tbody>\n",
              "    <tr>\n",
              "      <th>6</th>\n",
              "      <td>Total Freq, x</td>\n",
              "      <td>3.630772e+06</td>\n",
              "    </tr>\n",
              "    <tr>\n",
              "      <th>3</th>\n",
              "      <td>Regular Freq, x</td>\n",
              "      <td>3.625860e+06</td>\n",
              "    </tr>\n",
              "    <tr>\n",
              "      <th>2</th>\n",
              "      <td>Regular Value, m.IDR</td>\n",
              "      <td>3.052629e+01</td>\n",
              "    </tr>\n",
              "    <tr>\n",
              "      <th>5</th>\n",
              "      <td>Total Value, m.IDR</td>\n",
              "      <td>2.719194e+01</td>\n",
              "    </tr>\n",
              "    <tr>\n",
              "      <th>0</th>\n",
              "      <td>Market Cap., b.IDR</td>\n",
              "      <td>4.523860e+00</td>\n",
              "    </tr>\n",
              "    <tr>\n",
              "      <th>1</th>\n",
              "      <td>Regular Volume, th.shares</td>\n",
              "      <td>1.767852e+00</td>\n",
              "    </tr>\n",
              "    <tr>\n",
              "      <th>4</th>\n",
              "      <td>Regular Days</td>\n",
              "      <td>1.002579e+00</td>\n",
              "    </tr>\n",
              "  </tbody>\n",
              "</table>\n",
              "</div>\n",
              "      <button class=\"colab-df-convert\" onclick=\"convertToInteractive('df-6884e903-af96-4e5b-9740-87fdb956ea35')\"\n",
              "              title=\"Convert this dataframe to an interactive table.\"\n",
              "              style=\"display:none;\">\n",
              "        \n",
              "  <svg xmlns=\"http://www.w3.org/2000/svg\" height=\"24px\"viewBox=\"0 0 24 24\"\n",
              "       width=\"24px\">\n",
              "    <path d=\"M0 0h24v24H0V0z\" fill=\"none\"/>\n",
              "    <path d=\"M18.56 5.44l.94 2.06.94-2.06 2.06-.94-2.06-.94-.94-2.06-.94 2.06-2.06.94zm-11 1L8.5 8.5l.94-2.06 2.06-.94-2.06-.94L8.5 2.5l-.94 2.06-2.06.94zm10 10l.94 2.06.94-2.06 2.06-.94-2.06-.94-.94-2.06-.94 2.06-2.06.94z\"/><path d=\"M17.41 7.96l-1.37-1.37c-.4-.4-.92-.59-1.43-.59-.52 0-1.04.2-1.43.59L10.3 9.45l-7.72 7.72c-.78.78-.78 2.05 0 2.83L4 21.41c.39.39.9.59 1.41.59.51 0 1.02-.2 1.41-.59l7.78-7.78 2.81-2.81c.8-.78.8-2.07 0-2.86zM5.41 20L4 18.59l7.72-7.72 1.47 1.35L5.41 20z\"/>\n",
              "  </svg>\n",
              "      </button>\n",
              "      \n",
              "  <style>\n",
              "    .colab-df-container {\n",
              "      display:flex;\n",
              "      flex-wrap:wrap;\n",
              "      gap: 12px;\n",
              "    }\n",
              "\n",
              "    .colab-df-convert {\n",
              "      background-color: #E8F0FE;\n",
              "      border: none;\n",
              "      border-radius: 50%;\n",
              "      cursor: pointer;\n",
              "      display: none;\n",
              "      fill: #1967D2;\n",
              "      height: 32px;\n",
              "      padding: 0 0 0 0;\n",
              "      width: 32px;\n",
              "    }\n",
              "\n",
              "    .colab-df-convert:hover {\n",
              "      background-color: #E2EBFA;\n",
              "      box-shadow: 0px 1px 2px rgba(60, 64, 67, 0.3), 0px 1px 3px 1px rgba(60, 64, 67, 0.15);\n",
              "      fill: #174EA6;\n",
              "    }\n",
              "\n",
              "    [theme=dark] .colab-df-convert {\n",
              "      background-color: #3B4455;\n",
              "      fill: #D2E3FC;\n",
              "    }\n",
              "\n",
              "    [theme=dark] .colab-df-convert:hover {\n",
              "      background-color: #434B5C;\n",
              "      box-shadow: 0px 1px 3px 1px rgba(0, 0, 0, 0.15);\n",
              "      filter: drop-shadow(0px 1px 2px rgba(0, 0, 0, 0.3));\n",
              "      fill: #FFFFFF;\n",
              "    }\n",
              "  </style>\n",
              "\n",
              "      <script>\n",
              "        const buttonEl =\n",
              "          document.querySelector('#df-6884e903-af96-4e5b-9740-87fdb956ea35 button.colab-df-convert');\n",
              "        buttonEl.style.display =\n",
              "          google.colab.kernel.accessAllowed ? 'block' : 'none';\n",
              "\n",
              "        async function convertToInteractive(key) {\n",
              "          const element = document.querySelector('#df-6884e903-af96-4e5b-9740-87fdb956ea35');\n",
              "          const dataTable =\n",
              "            await google.colab.kernel.invokeFunction('convertToInteractive',\n",
              "                                                     [key], {});\n",
              "          if (!dataTable) return;\n",
              "\n",
              "          const docLinkHtml = 'Like what you see? Visit the ' +\n",
              "            '<a target=\"_blank\" href=https://colab.research.google.com/notebooks/data_table.ipynb>data table notebook</a>'\n",
              "            + ' to learn more about interactive tables.';\n",
              "          element.innerHTML = '';\n",
              "          dataTable['output_type'] = 'display_data';\n",
              "          await google.colab.output.renderOutput(dataTable, element);\n",
              "          const docLink = document.createElement('div');\n",
              "          docLink.innerHTML = docLinkHtml;\n",
              "          element.appendChild(docLink);\n",
              "        }\n",
              "      </script>\n",
              "    </div>\n",
              "  </div>\n",
              "  "
            ]
          },
          "metadata": {},
          "execution_count": 28
        }
      ]
    },
    {
      "cell_type": "markdown",
      "source": [
        "#Modelling"
      ],
      "metadata": {
        "id": "R7slJ59ywtHv"
      }
    },
    {
      "cell_type": "code",
      "source": [
        "from scipy.stats import kstest\n",
        "#perform Kolmogorov-Smirnov test\n",
        "kstest(y_train, 'norm')"
      ],
      "metadata": {
        "colab": {
          "base_uri": "https://localhost:8080/"
        },
        "id": "UmFSwXA_wvWA",
        "outputId": "99e8a938-7243-4a1d-dc05-7cc1c85e7a49"
      },
      "execution_count": null,
      "outputs": [
        {
          "output_type": "execute_result",
          "data": {
            "text/plain": [
              "KstestResult(statistic=0.9960465040273822, pvalue=0.0)"
            ]
          },
          "metadata": {},
          "execution_count": 64
        }
      ]
    },
    {
      "cell_type": "code",
      "source": [
        "# Creating plot\n",
        "plt.boxplot(y_train)\n",
        "\n",
        "# show plot\n",
        "plt.show()"
      ],
      "metadata": {
        "colab": {
          "base_uri": "https://localhost:8080/",
          "height": 276
        },
        "id": "QaTs1rEnw1ZJ",
        "outputId": "3cdf1a3a-4c72-4c95-e0f6-b0c1837414fb"
      },
      "execution_count": null,
      "outputs": [
        {
          "output_type": "display_data",
          "data": {
            "text/plain": [
              "<Figure size 432x288 with 1 Axes>"
            ],
            "image/png": "[encoded data removed]"
          },
          "metadata": {
            "needs_background": "light"
          }
        }
      ]
    },
    {
      "cell_type": "code",
      "source": [
        "ridge_model= Ridge().fit(X_train, y_train)"
      ],
      "metadata": {
        "id": "Yp4__lWnxBDP"
      },
      "execution_count": null,
      "outputs": []
    },
    {
      "cell_type": "code",
      "source": [
        "y_pred= ridge_model.predict(X_test)"
      ],
      "metadata": {
        "id": "sEKM92cIxDr_"
      },
      "execution_count": null,
      "outputs": []
    },
    {
      "cell_type": "code",
      "source": [
        "rmse = (np.sqrt(mean_squared_error(y_test, y_pred)))\n",
        "mape = mean_absolute_percentage_error(y_test, y_pred)\n",
        "mae = mean_absolute_error(y_test, y_pred)\n",
        "r2 = r2_score(y_test, y_pred)\n",
        "print('Testing performance')\n",
        "print('MAPE: {:.4f}'.format(mape))\n",
        "print('MAE: {:.4f}'.format(mae))\n",
        "print('RMSE: {:.4f}'.format(rmse))\n",
        "print('R2: {:.4f}'.format(r2))"
      ],
      "metadata": {
        "colab": {
          "base_uri": "https://localhost:8080/"
        },
        "id": "1QfL-1AtxFeH",
        "outputId": "e45ed970-eb42-4d8f-a054-405b8f2042a6"
      },
      "execution_count": null,
      "outputs": [
        {
          "output_type": "stream",
          "name": "stdout",
          "text": [
            "Testing performance\n",
            "MAPE: 3136.0949\n",
            "MAE: 326781.4678\n",
            "RMSE: 789202.6966\n",
            "R2: 0.9244\n"
          ]
        }
      ]
    }
  ],
  "metadata": {
    "colab": {
      "provenance": [],
      "toc_visible": true
    },
    "kernelspec": {
      "display_name": "Python 3",
      "name": "python3"
    },
    "language_info": {
      "name": "python"
    }
  },
  "nbformat": 4,
  "nbformat_minor": 0
}