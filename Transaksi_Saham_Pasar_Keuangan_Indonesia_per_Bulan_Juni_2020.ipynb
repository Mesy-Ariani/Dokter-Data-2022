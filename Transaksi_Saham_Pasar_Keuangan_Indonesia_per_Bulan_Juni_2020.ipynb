{
  "cells": [
    {
      "cell_type": "code",
      "execution_count": null,
      "metadata": {
        "colab": {
          "base_uri": "https://localhost:8080/"
        },
        "id": "ZA_v5EGiSRTh",
        "outputId": "776eb5d1-81ae-4b2e-b4a0-045e8ad8c4a7"
      },
      "outputs": [
        {
          "output_type": "stream",
          "name": "stdout",
          "text": [
            "Looking in indexes: https://pypi.org/simple, https://us-python.pkg.dev/colab-wheels/public/simple/\n",
            "Requirement already satisfied: xlrd in /usr/local/lib/python3.7/dist-packages (1.1.0)\n"
          ]
        }
      ],
      "source": [
        "!pip install xlrd"
      ]
    },
    {
      "cell_type": "code",
      "execution_count": null,
      "metadata": {
        "id": "Jkgn1HmBOQ6g"
      },
      "outputs": [],
      "source": [
        "import pandas as pd\n",
        "import numpy as np\n",
        "import scipy.stats\n",
        "import seaborn as sns # untuk visualisasi data\n",
        "import matplotlib.pyplot as plt # untuk visualisasi data\n",
        "import missingno as msno # untuk visualisasi data\n",
        "\n",
        "# untuk persiapan data\n",
        "from sklearn.model_selection import train_test_split\n",
        "from sklearn.preprocessing import RobustScaler\n",
        "from sklearn.preprocessing import MinMaxScaler\n",
        "#Modelling\n",
        "from sklearn.linear_model import Ridge\n",
        "from sklearn.metrics import mean_squared_error\n",
        "from sklearn.metrics import mean_absolute_error\n",
        "from sklearn.metrics import mean_absolute_percentage_error\n",
        "from sklearn.metrics import r2_score"
      ]
    },
    {
      "cell_type": "code",
      "execution_count": null,
      "metadata": {
        "id": "dFl1WI0pRuOv"
      },
      "outputs": [],
      "source": [
        "data=pd.read_excel('/content/2020.xlsx')"
      ]
    },
    {
      "cell_type": "code",
      "source": [
        "np.random.seed(2022)"
      ],
      "metadata": {
        "id": "sTq91fW4jwUj"
      },
      "execution_count": null,
      "outputs": []
    },
    {
      "cell_type": "markdown",
      "metadata": {
        "id": "Ue48E9x9T6YF"
      },
      "source": [
        "#Data Understanding"
      ]
    },
    {
      "cell_type": "code",
      "execution_count": null,
      "metadata": {
        "colab": {
          "base_uri": "https://localhost:8080/",
          "height": 818
        },
        "id": "kra5gijqSZfl",
        "outputId": "25229e69-20cc-4eaf-d603-57ed97deac3c"
      },
      "outputs": [
        {
          "output_type": "execute_result",
          "data": {
            "text/plain": [
              "     No.              Sector  Sub Sector Code                      Sub Sector  \\\n",
              "0      1         AGRICULTURE               11                           Crops   \n",
              "1      2         AGRICULTURE               12                      Plantation   \n",
              "2      3         AGRICULTURE               12                      Plantation   \n",
              "3      4         AGRICULTURE               12                      Plantation   \n",
              "4      5         AGRICULTURE               12                      Plantation   \n",
              "..   ...                 ...              ...                             ...   \n",
              "690  691  TRADE AND SERVICES               99  Other not elsewhere classified   \n",
              "691  692  TRADE AND SERVICES               99  Other not elsewhere classified   \n",
              "692  693  TRADE AND SERVICES               99  Other not elsewhere classified   \n",
              "693  694  TRADE AND SERVICES               99  Other not elsewhere classified   \n",
              "694  695  TRADE AND SERVICES               99  Other not elsewhere classified   \n",
              "\n",
              "     Code                        Stock Name Sharia  Market Cap., b.IDR  \\\n",
              "0    BISI            BISI INTERNATIONAL Tbk      S         2475.000000   \n",
              "1    AALI            Astra Agro Lestari Tbk      S        15830.561539   \n",
              "2    ANDI                PT Andira Agro Tbk      S          467.500000   \n",
              "3    ANJT   PT Austindo Nusantara Jaya Tbk.      S         1636.837400   \n",
              "4    BWPT        Eagle High Plantations Tbk      -         2805.750899   \n",
              "..    ...                               ...    ...                 ...   \n",
              "690  RONY  PT Aesler Grup Internasional Tbk      S          225.000000   \n",
              "691  SFAN           Surya Fajar Capital Tbk      -         1353.134351   \n",
              "692  SIMA                 Siwani Makmur Tbk      -           22.129494   \n",
              "693  SOSS             Shield on Service Tbk      S          244.059716   \n",
              "694  YELO    PT Yelooo Integra Datanet Tbk.      S           19.002180   \n",
              "\n",
              "    Regular Volume, th.shares Regular Value, m.IDR Regular Freq, x  \\\n",
              "0                     1850.60             1613.625          871.00   \n",
              "1                    43079.40           357751.625        32336.00   \n",
              "2                      688.30               34.415          252.00   \n",
              "3                      344.60             164.3274          139.00   \n",
              "4                  1271933.40          118059.2422        40032.00   \n",
              "..                        ...                  ...             ...   \n",
              "690                    961.10             171.5825          734.00   \n",
              "691                    379.70              259.015          295.00   \n",
              "692                         -                    -               -   \n",
              "693                    369.80             139.8784          299.00   \n",
              "694                   5792.10             289.6318          401.00   \n",
              "\n",
              "     Regular Days Total Volume, th.shares Total Value, m.IDR Total Freq, x  \\\n",
              "0              21                7071.198        6422.550325        876.00   \n",
              "1              21                43088.67      357839.291975      32346.00   \n",
              "2              21                 1225.10             50.085        258.00   \n",
              "3              21                  467.80           223.9099        141.00   \n",
              "4              21              1272683.40        118136.9922      40034.00   \n",
              "..            ...                     ...                ...           ...   \n",
              "690            21                  961.10           171.5825        734.00   \n",
              "691            21                 8384.90           5537.917        302.00   \n",
              "692            21                21130.00             908.59          1.00   \n",
              "693            21                  369.80           139.8784        299.00   \n",
              "694            21                 5792.10           289.6318        401.00   \n",
              "\n",
              "     Total Days  \n",
              "0            21  \n",
              "1            21  \n",
              "2            21  \n",
              "3            21  \n",
              "4            21  \n",
              "..          ...  \n",
              "690          21  \n",
              "691          21  \n",
              "692          21  \n",
              "693          21  \n",
              "694          21  \n",
              "\n",
              "[695 rows x 16 columns]"
            ],
            "text/html": [
              "\n",
              "  <div id=\"df-16dfe20d-5a72-42dc-8b30-37c670b76bd7\">\n",
              "    <div class=\"colab-df-container\">\n",
              "      <div>\n",
              "<style scoped>\n",
              "    .dataframe tbody tr th:only-of-type {\n",
              "        vertical-align: middle;\n",
              "    }\n",
              "\n",
              "    .dataframe tbody tr th {\n",
              "        vertical-align: top;\n",
              "    }\n",
              "\n",
              "    .dataframe thead th {\n",
              "        text-align: right;\n",
              "    }\n",
              "</style>\n",
              "<table border=\"1\" class=\"dataframe\">\n",
              "  <thead>\n",
              "    <tr style=\"text-align: right;\">\n",
              "      <th></th>\n",
              "      <th>No.</th>\n",
              "      <th>Sector</th>\n",
              "      <th>Sub Sector Code</th>\n",
              "      <th>Sub Sector</th>\n",
              "      <th>Code</th>\n",
              "      <th>Stock Name</th>\n",
              "      <th>Sharia</th>\n",
              "      <th>Market Cap., b.IDR</th>\n",
              "      <th>Regular Volume, th.shares</th>\n",
              "      <th>Regular Value, m.IDR</th>\n",
              "      <th>Regular Freq, x</th>\n",
              "      <th>Regular Days</th>\n",
              "      <th>Total Volume, th.shares</th>\n",
              "      <th>Total Value, m.IDR</th>\n",
              "      <th>Total Freq, x</th>\n",
              "      <th>Total Days</th>\n",
              "    </tr>\n",
              "  </thead>\n",
              "  <tbody>\n",
              "    <tr>\n",
              "      <th>0</th>\n",
              "      <td>1</td>\n",
              "      <td>AGRICULTURE</td>\n",
              "      <td>11</td>\n",
              "      <td>Crops</td>\n",
              "      <td>BISI</td>\n",
              "      <td>BISI INTERNATIONAL Tbk</td>\n",
              "      <td>S</td>\n",
              "      <td>2475.000000</td>\n",
              "      <td>1850.60</td>\n",
              "      <td>1613.625</td>\n",
              "      <td>871.00</td>\n",
              "      <td>21</td>\n",
              "      <td>7071.198</td>\n",
              "      <td>6422.550325</td>\n",
              "      <td>876.00</td>\n",
              "      <td>21</td>\n",
              "    </tr>\n",
              "    <tr>\n",
              "      <th>1</th>\n",
              "      <td>2</td>\n",
              "      <td>AGRICULTURE</td>\n",
              "      <td>12</td>\n",
              "      <td>Plantation</td>\n",
              "      <td>AALI</td>\n",
              "      <td>Astra Agro Lestari Tbk</td>\n",
              "      <td>S</td>\n",
              "      <td>15830.561539</td>\n",
              "      <td>43079.40</td>\n",
              "      <td>357751.625</td>\n",
              "      <td>32336.00</td>\n",
              "      <td>21</td>\n",
              "      <td>43088.67</td>\n",
              "      <td>357839.291975</td>\n",
              "      <td>32346.00</td>\n",
              "      <td>21</td>\n",
              "    </tr>\n",
              "    <tr>\n",
              "      <th>2</th>\n",
              "      <td>3</td>\n",
              "      <td>AGRICULTURE</td>\n",
              "      <td>12</td>\n",
              "      <td>Plantation</td>\n",
              "      <td>ANDI</td>\n",
              "      <td>PT Andira Agro Tbk</td>\n",
              "      <td>S</td>\n",
              "      <td>467.500000</td>\n",
              "      <td>688.30</td>\n",
              "      <td>34.415</td>\n",
              "      <td>252.00</td>\n",
              "      <td>21</td>\n",
              "      <td>1225.10</td>\n",
              "      <td>50.085</td>\n",
              "      <td>258.00</td>\n",
              "      <td>21</td>\n",
              "    </tr>\n",
              "    <tr>\n",
              "      <th>3</th>\n",
              "      <td>4</td>\n",
              "      <td>AGRICULTURE</td>\n",
              "      <td>12</td>\n",
              "      <td>Plantation</td>\n",
              "      <td>ANJT</td>\n",
              "      <td>PT Austindo Nusantara Jaya Tbk.</td>\n",
              "      <td>S</td>\n",
              "      <td>1636.837400</td>\n",
              "      <td>344.60</td>\n",
              "      <td>164.3274</td>\n",
              "      <td>139.00</td>\n",
              "      <td>21</td>\n",
              "      <td>467.80</td>\n",
              "      <td>223.9099</td>\n",
              "      <td>141.00</td>\n",
              "      <td>21</td>\n",
              "    </tr>\n",
              "    <tr>\n",
              "      <th>4</th>\n",
              "      <td>5</td>\n",
              "      <td>AGRICULTURE</td>\n",
              "      <td>12</td>\n",
              "      <td>Plantation</td>\n",
              "      <td>BWPT</td>\n",
              "      <td>Eagle High Plantations Tbk</td>\n",
              "      <td>-</td>\n",
              "      <td>2805.750899</td>\n",
              "      <td>1271933.40</td>\n",
              "      <td>118059.2422</td>\n",
              "      <td>40032.00</td>\n",
              "      <td>21</td>\n",
              "      <td>1272683.40</td>\n",
              "      <td>118136.9922</td>\n",
              "      <td>40034.00</td>\n",
              "      <td>21</td>\n",
              "    </tr>\n",
              "    <tr>\n",
              "      <th>...</th>\n",
              "      <td>...</td>\n",
              "      <td>...</td>\n",
              "      <td>...</td>\n",
              "      <td>...</td>\n",
              "      <td>...</td>\n",
              "      <td>...</td>\n",
              "      <td>...</td>\n",
              "      <td>...</td>\n",
              "      <td>...</td>\n",
              "      <td>...</td>\n",
              "      <td>...</td>\n",
              "      <td>...</td>\n",
              "      <td>...</td>\n",
              "      <td>...</td>\n",
              "      <td>...</td>\n",
              "      <td>...</td>\n",
              "    </tr>\n",
              "    <tr>\n",
              "      <th>690</th>\n",
              "      <td>691</td>\n",
              "      <td>TRADE AND SERVICES</td>\n",
              "      <td>99</td>\n",
              "      <td>Other not elsewhere classified</td>\n",
              "      <td>RONY</td>\n",
              "      <td>PT Aesler Grup Internasional Tbk</td>\n",
              "      <td>S</td>\n",
              "      <td>225.000000</td>\n",
              "      <td>961.10</td>\n",
              "      <td>171.5825</td>\n",
              "      <td>734.00</td>\n",
              "      <td>21</td>\n",
              "      <td>961.10</td>\n",
              "      <td>171.5825</td>\n",
              "      <td>734.00</td>\n",
              "      <td>21</td>\n",
              "    </tr>\n",
              "    <tr>\n",
              "      <th>691</th>\n",
              "      <td>692</td>\n",
              "      <td>TRADE AND SERVICES</td>\n",
              "      <td>99</td>\n",
              "      <td>Other not elsewhere classified</td>\n",
              "      <td>SFAN</td>\n",
              "      <td>Surya Fajar Capital Tbk</td>\n",
              "      <td>-</td>\n",
              "      <td>1353.134351</td>\n",
              "      <td>379.70</td>\n",
              "      <td>259.015</td>\n",
              "      <td>295.00</td>\n",
              "      <td>21</td>\n",
              "      <td>8384.90</td>\n",
              "      <td>5537.917</td>\n",
              "      <td>302.00</td>\n",
              "      <td>21</td>\n",
              "    </tr>\n",
              "    <tr>\n",
              "      <th>692</th>\n",
              "      <td>693</td>\n",
              "      <td>TRADE AND SERVICES</td>\n",
              "      <td>99</td>\n",
              "      <td>Other not elsewhere classified</td>\n",
              "      <td>SIMA</td>\n",
              "      <td>Siwani Makmur Tbk</td>\n",
              "      <td>-</td>\n",
              "      <td>22.129494</td>\n",
              "      <td>-</td>\n",
              "      <td>-</td>\n",
              "      <td>-</td>\n",
              "      <td>21</td>\n",
              "      <td>21130.00</td>\n",
              "      <td>908.59</td>\n",
              "      <td>1.00</td>\n",
              "      <td>21</td>\n",
              "    </tr>\n",
              "    <tr>\n",
              "      <th>693</th>\n",
              "      <td>694</td>\n",
              "      <td>TRADE AND SERVICES</td>\n",
              "      <td>99</td>\n",
              "      <td>Other not elsewhere classified</td>\n",
              "      <td>SOSS</td>\n",
              "      <td>Shield on Service Tbk</td>\n",
              "      <td>S</td>\n",
              "      <td>244.059716</td>\n",
              "      <td>369.80</td>\n",
              "      <td>139.8784</td>\n",
              "      <td>299.00</td>\n",
              "      <td>21</td>\n",
              "      <td>369.80</td>\n",
              "      <td>139.8784</td>\n",
              "      <td>299.00</td>\n",
              "      <td>21</td>\n",
              "    </tr>\n",
              "    <tr>\n",
              "      <th>694</th>\n",
              "      <td>695</td>\n",
              "      <td>TRADE AND SERVICES</td>\n",
              "      <td>99</td>\n",
              "      <td>Other not elsewhere classified</td>\n",
              "      <td>YELO</td>\n",
              "      <td>PT Yelooo Integra Datanet Tbk.</td>\n",
              "      <td>S</td>\n",
              "      <td>19.002180</td>\n",
              "      <td>5792.10</td>\n",
              "      <td>289.6318</td>\n",
              "      <td>401.00</td>\n",
              "      <td>21</td>\n",
              "      <td>5792.10</td>\n",
              "      <td>289.6318</td>\n",
              "      <td>401.00</td>\n",
              "      <td>21</td>\n",
              "    </tr>\n",
              "  </tbody>\n",
              "</table>\n",
              "<p>695 rows × 16 columns</p>\n",
              "</div>\n",
              "      <button class=\"colab-df-convert\" onclick=\"convertToInteractive('df-16dfe20d-5a72-42dc-8b30-37c670b76bd7')\"\n",
              "              title=\"Convert this dataframe to an interactive table.\"\n",
              "              style=\"display:none;\">\n",
              "        \n",
              "  <svg xmlns=\"http://www.w3.org/2000/svg\" height=\"24px\"viewBox=\"0 0 24 24\"\n",
              "       width=\"24px\">\n",
              "    <path d=\"M0 0h24v24H0V0z\" fill=\"none\"/>\n",
              "    <path d=\"M18.56 5.44l.94 2.06.94-2.06 2.06-.94-2.06-.94-.94-2.06-.94 2.06-2.06.94zm-11 1L8.5 8.5l.94-2.06 2.06-.94-2.06-.94L8.5 2.5l-.94 2.06-2.06.94zm10 10l.94 2.06.94-2.06 2.06-.94-2.06-.94-.94-2.06-.94 2.06-2.06.94z\"/><path d=\"M17.41 7.96l-1.37-1.37c-.4-.4-.92-.59-1.43-.59-.52 0-1.04.2-1.43.59L10.3 9.45l-7.72 7.72c-.78.78-.78 2.05 0 2.83L4 21.41c.39.39.9.59 1.41.59.51 0 1.02-.2 1.41-.59l7.78-7.78 2.81-2.81c.8-.78.8-2.07 0-2.86zM5.41 20L4 18.59l7.72-7.72 1.47 1.35L5.41 20z\"/>\n",
              "  </svg>\n",
              "      </button>\n",
              "      \n",
              "  <style>\n",
              "    .colab-df-container {\n",
              "      display:flex;\n",
              "      flex-wrap:wrap;\n",
              "      gap: 12px;\n",
              "    }\n",
              "\n",
              "    .colab-df-convert {\n",
              "      background-color: #E8F0FE;\n",
              "      border: none;\n",
              "      border-radius: 50%;\n",
              "      cursor: pointer;\n",
              "      display: none;\n",
              "      fill: #1967D2;\n",
              "      height: 32px;\n",
              "      padding: 0 0 0 0;\n",
              "      width: 32px;\n",
              "    }\n",
              "\n",
              "    .colab-df-convert:hover {\n",
              "      background-color: #E2EBFA;\n",
              "      box-shadow: 0px 1px 2px rgba(60, 64, 67, 0.3), 0px 1px 3px 1px rgba(60, 64, 67, 0.15);\n",
              "      fill: #174EA6;\n",
              "    }\n",
              "\n",
              "    [theme=dark] .colab-df-convert {\n",
              "      background-color: #3B4455;\n",
              "      fill: #D2E3FC;\n",
              "    }\n",
              "\n",
              "    [theme=dark] .colab-df-convert:hover {\n",
              "      background-color: #434B5C;\n",
              "      box-shadow: 0px 1px 3px 1px rgba(0, 0, 0, 0.15);\n",
              "      filter: drop-shadow(0px 1px 2px rgba(0, 0, 0, 0.3));\n",
              "      fill: #FFFFFF;\n",
              "    }\n",
              "  </style>\n",
              "\n",
              "      <script>\n",
              "        const buttonEl =\n",
              "          document.querySelector('#df-16dfe20d-5a72-42dc-8b30-37c670b76bd7 button.colab-df-convert');\n",
              "        buttonEl.style.display =\n",
              "          google.colab.kernel.accessAllowed ? 'block' : 'none';\n",
              "\n",
              "        async function convertToInteractive(key) {\n",
              "          const element = document.querySelector('#df-16dfe20d-5a72-42dc-8b30-37c670b76bd7');\n",
              "          const dataTable =\n",
              "            await google.colab.kernel.invokeFunction('convertToInteractive',\n",
              "                                                     [key], {});\n",
              "          if (!dataTable) return;\n",
              "\n",
              "          const docLinkHtml = 'Like what you see? Visit the ' +\n",
              "            '<a target=\"_blank\" href=https://colab.research.google.com/notebooks/data_table.ipynb>data table notebook</a>'\n",
              "            + ' to learn more about interactive tables.';\n",
              "          element.innerHTML = '';\n",
              "          dataTable['output_type'] = 'display_data';\n",
              "          await google.colab.output.renderOutput(dataTable, element);\n",
              "          const docLink = document.createElement('div');\n",
              "          docLink.innerHTML = docLinkHtml;\n",
              "          element.appendChild(docLink);\n",
              "        }\n",
              "      </script>\n",
              "    </div>\n",
              "  </div>\n",
              "  "
            ]
          },
          "metadata": {},
          "execution_count": 5
        }
      ],
      "source": [
        "data"
      ]
    },
    {
      "cell_type": "code",
      "execution_count": null,
      "metadata": {
        "colab": {
          "base_uri": "https://localhost:8080/"
        },
        "id": "nkEkQhTyVpo-",
        "outputId": "fd6ebc42-c3cc-49cd-df7e-3964b988b306"
      },
      "outputs": [
        {
          "output_type": "execute_result",
          "data": {
            "text/plain": [
              "0      BISI\n",
              "1      AALI\n",
              "2      ANDI\n",
              "3      ANJT\n",
              "4      BWPT\n",
              "       ... \n",
              "690    RONY\n",
              "691    SFAN\n",
              "692    SIMA\n",
              "693    SOSS\n",
              "694    YELO\n",
              "Name: Code, Length: 695, dtype: object"
            ]
          },
          "metadata": {},
          "execution_count": 7
        }
      ],
      "source": [
        "data['Code']"
      ]
    },
    {
      "cell_type": "code",
      "execution_count": null,
      "metadata": {
        "colab": {
          "base_uri": "https://localhost:8080/"
        },
        "id": "SGqY2PJgTg4K",
        "outputId": "609a598b-f388-45e9-d346-470afb70512f"
      },
      "outputs": [
        {
          "output_type": "execute_result",
          "data": {
            "text/plain": [
              "(695, 16)"
            ]
          },
          "metadata": {},
          "execution_count": 6
        }
      ],
      "source": [
        "data.shape"
      ]
    },
    {
      "cell_type": "code",
      "execution_count": null,
      "metadata": {
        "colab": {
          "base_uri": "https://localhost:8080/"
        },
        "id": "9WJNPoNlTqLs",
        "outputId": "03c4fb0e-e49b-4b45-b404-4bc495706686"
      },
      "outputs": [
        {
          "output_type": "execute_result",
          "data": {
            "text/plain": [
              "No.                            int64\n",
              "Sector                        object\n",
              "Sub Sector Code                int64\n",
              "Sub Sector                    object\n",
              "Code                          object\n",
              "Stock Name                    object\n",
              "Sharia                        object\n",
              "Market Cap., b.IDR           float64\n",
              "Regular Volume, th.shares     object\n",
              "Regular Value, m.IDR          object\n",
              "Regular Freq, x               object\n",
              "Regular Days                   int64\n",
              "Total Volume, th.shares       object\n",
              "Total Value, m.IDR            object\n",
              "Total Freq, x                 object\n",
              "Total Days                     int64\n",
              "dtype: object"
            ]
          },
          "metadata": {},
          "execution_count": 8
        }
      ],
      "source": [
        "data.dtypes"
      ]
    },
    {
      "cell_type": "code",
      "source": [
        "data['Regular Volume, th.shares'][data['Regular Volume, th.shares']=='-'].value_counts()"
      ],
      "metadata": {
        "colab": {
          "base_uri": "https://localhost:8080/"
        },
        "id": "nGff_wSmmFrW",
        "outputId": "c628e504-2417-4fee-beb0-5508ac49cc79"
      },
      "execution_count": null,
      "outputs": [
        {
          "output_type": "execute_result",
          "data": {
            "text/plain": [
              "-    43\n",
              "Name: Regular Volume, th.shares, dtype: int64"
            ]
          },
          "metadata": {},
          "execution_count": 7
        }
      ]
    },
    {
      "cell_type": "code",
      "source": [
        "data = data.loc[data['Regular Volume, th.shares'] != '-']"
      ],
      "metadata": {
        "id": "1iE1saqFnVCY"
      },
      "execution_count": null,
      "outputs": []
    },
    {
      "cell_type": "code",
      "source": [
        "data.shape"
      ],
      "metadata": {
        "colab": {
          "base_uri": "https://localhost:8080/"
        },
        "id": "iXzVcdUqpXJr",
        "outputId": "4e0d2aaa-ef37-4200-9e2b-f182e871c702"
      },
      "execution_count": null,
      "outputs": [
        {
          "output_type": "execute_result",
          "data": {
            "text/plain": [
              "(652, 16)"
            ]
          },
          "metadata": {},
          "execution_count": 9
        }
      ]
    },
    {
      "cell_type": "code",
      "source": [
        "data['Regular Value, m.IDR'][data['Regular Value, m.IDR']!='-'].value_counts()"
      ],
      "metadata": {
        "colab": {
          "base_uri": "https://localhost:8080/"
        },
        "id": "_Oy_coyfqg0F",
        "outputId": "7cdcf423-ed0c-44a4-f6f2-f34b01ab1250"
      },
      "execution_count": null,
      "outputs": [
        {
          "output_type": "execute_result",
          "data": {
            "text/plain": [
              "0.265         2\n",
              "1671.485      1\n",
              "252.174       1\n",
              "11726.821     1\n",
              "1069150.42    1\n",
              "             ..\n",
              "69.1714       1\n",
              "64958.0341    1\n",
              "489.803       1\n",
              "106104.445    1\n",
              "289.6318      1\n",
              "Name: Regular Value, m.IDR, Length: 651, dtype: int64"
            ]
          },
          "metadata": {},
          "execution_count": 10
        }
      ]
    },
    {
      "cell_type": "code",
      "source": [
        "data['Regular Freq, x'][data['Regular Freq, x']!='-'].value_counts()"
      ],
      "metadata": {
        "colab": {
          "base_uri": "https://localhost:8080/"
        },
        "id": "_P-7vePwrET5",
        "outputId": "205589f2-bd8b-4c06-b224-ab9637051d8d"
      },
      "execution_count": null,
      "outputs": [
        {
          "output_type": "execute_result",
          "data": {
            "text/plain": [
              "2.00        4\n",
              "48.00       4\n",
              "71.00       4\n",
              "68.00       4\n",
              "11.00       4\n",
              "           ..\n",
              "278.00      1\n",
              "27444.00    1\n",
              "1217.00     1\n",
              "1057.00     1\n",
              "401.00      1\n",
              "Name: Regular Freq, x, Length: 552, dtype: int64"
            ]
          },
          "metadata": {},
          "execution_count": 11
        }
      ]
    },
    {
      "cell_type": "code",
      "source": [
        "data['Regular Volume, th.shares'] = data['Regular Volume, th.shares'].astype(float)\n",
        "data['Regular Value, m.IDR'] = data['Regular Value, m.IDR'].astype(float)\n",
        "data['Regular Freq, x'] = data['Regular Freq, x'].astype(float)\n",
        "data['Total Volume, th.shares'] = data['Total Volume, th.shares'].astype(float)\n",
        "data['Total Value, m.IDR'] = data['Total Value, m.IDR'].astype(float)\n",
        "data['Total Freq, x'] = data['Total Freq, x'].astype(float)"
      ],
      "metadata": {
        "colab": {
          "base_uri": "https://localhost:8080/"
        },
        "id": "NeSHqlQFir6u",
        "outputId": "7d17fc45-e0a8-40eb-c569-a6031a13950c"
      },
      "execution_count": null,
      "outputs": [
        {
          "output_type": "stream",
          "name": "stderr",
          "text": [
            "/usr/local/lib/python3.7/dist-packages/ipykernel_launcher.py:1: SettingWithCopyWarning: \n",
            "A value is trying to be set on a copy of a slice from a DataFrame.\n",
            "Try using .loc[row_indexer,col_indexer] = value instead\n",
            "\n",
            "See the caveats in the documentation: https://pandas.pydata.org/pandas-docs/stable/user_guide/indexing.html#returning-a-view-versus-a-copy\n",
            "  \"\"\"Entry point for launching an IPython kernel.\n",
            "/usr/local/lib/python3.7/dist-packages/ipykernel_launcher.py:2: SettingWithCopyWarning: \n",
            "A value is trying to be set on a copy of a slice from a DataFrame.\n",
            "Try using .loc[row_indexer,col_indexer] = value instead\n",
            "\n",
            "See the caveats in the documentation: https://pandas.pydata.org/pandas-docs/stable/user_guide/indexing.html#returning-a-view-versus-a-copy\n",
            "  \n",
            "/usr/local/lib/python3.7/dist-packages/ipykernel_launcher.py:3: SettingWithCopyWarning: \n",
            "A value is trying to be set on a copy of a slice from a DataFrame.\n",
            "Try using .loc[row_indexer,col_indexer] = value instead\n",
            "\n",
            "See the caveats in the documentation: https://pandas.pydata.org/pandas-docs/stable/user_guide/indexing.html#returning-a-view-versus-a-copy\n",
            "  This is separate from the ipykernel package so we can avoid doing imports until\n",
            "/usr/local/lib/python3.7/dist-packages/ipykernel_launcher.py:4: SettingWithCopyWarning: \n",
            "A value is trying to be set on a copy of a slice from a DataFrame.\n",
            "Try using .loc[row_indexer,col_indexer] = value instead\n",
            "\n",
            "See the caveats in the documentation: https://pandas.pydata.org/pandas-docs/stable/user_guide/indexing.html#returning-a-view-versus-a-copy\n",
            "  after removing the cwd from sys.path.\n",
            "/usr/local/lib/python3.7/dist-packages/ipykernel_launcher.py:5: SettingWithCopyWarning: \n",
            "A value is trying to be set on a copy of a slice from a DataFrame.\n",
            "Try using .loc[row_indexer,col_indexer] = value instead\n",
            "\n",
            "See the caveats in the documentation: https://pandas.pydata.org/pandas-docs/stable/user_guide/indexing.html#returning-a-view-versus-a-copy\n",
            "  \"\"\"\n",
            "/usr/local/lib/python3.7/dist-packages/ipykernel_launcher.py:6: SettingWithCopyWarning: \n",
            "A value is trying to be set on a copy of a slice from a DataFrame.\n",
            "Try using .loc[row_indexer,col_indexer] = value instead\n",
            "\n",
            "See the caveats in the documentation: https://pandas.pydata.org/pandas-docs/stable/user_guide/indexing.html#returning-a-view-versus-a-copy\n",
            "  \n"
          ]
        }
      ]
    },
    {
      "cell_type": "code",
      "source": [
        "data.dtypes"
      ],
      "metadata": {
        "colab": {
          "base_uri": "https://localhost:8080/"
        },
        "id": "woOTPIWPp7O3",
        "outputId": "5f3ad5b8-8b3d-4b49-8f54-46570d5a3f2f"
      },
      "execution_count": null,
      "outputs": [
        {
          "output_type": "execute_result",
          "data": {
            "text/plain": [
              "No.                            int64\n",
              "Sector                        object\n",
              "Sub Sector Code                int64\n",
              "Sub Sector                    object\n",
              "Code                          object\n",
              "Stock Name                    object\n",
              "Sharia                        object\n",
              "Market Cap., b.IDR           float64\n",
              "Regular Volume, th.shares    float64\n",
              "Regular Value, m.IDR         float64\n",
              "Regular Freq, x              float64\n",
              "Regular Days                   int64\n",
              "Total Volume, th.shares      float64\n",
              "Total Value, m.IDR           float64\n",
              "Total Freq, x                float64\n",
              "Total Days                     int64\n",
              "dtype: object"
            ]
          },
          "metadata": {},
          "execution_count": 15
        }
      ]
    },
    {
      "cell_type": "markdown",
      "metadata": {
        "id": "ujEw0P1EUG27"
      },
      "source": [
        "#Missing Value\n"
      ]
    },
    {
      "cell_type": "code",
      "execution_count": null,
      "metadata": {
        "colab": {
          "base_uri": "https://localhost:8080/"
        },
        "id": "vm-eoiXRUKCZ",
        "outputId": "04d0bc20-7631-4b8b-efdb-0e2c178f34ba"
      },
      "outputs": [
        {
          "output_type": "execute_result",
          "data": {
            "text/plain": [
              "No.                          0\n",
              "Sector                       0\n",
              "Sub Sector Code              0\n",
              "Sub Sector                   0\n",
              "Code                         0\n",
              "Stock Name                   0\n",
              "Sharia                       0\n",
              "Market Cap., b.IDR           0\n",
              "Regular Volume, th.shares    0\n",
              "Regular Value, m.IDR         0\n",
              "Regular Freq, x              0\n",
              "Regular Days                 0\n",
              "Total Volume, th.shares      0\n",
              "Total Value, m.IDR           0\n",
              "Total Freq, x                0\n",
              "Total Days                   0\n",
              "dtype: int64"
            ]
          },
          "metadata": {},
          "execution_count": 13
        }
      ],
      "source": [
        "data.isna().sum()"
      ]
    },
    {
      "cell_type": "code",
      "execution_count": null,
      "metadata": {
        "colab": {
          "base_uri": "https://localhost:8080/",
          "height": 489
        },
        "id": "9PeUdgvkVAKD",
        "outputId": "fd2fff17-a212-493e-b294-4fce1c3a20c9"
      },
      "outputs": [
        {
          "output_type": "display_data",
          "data": {
            "text/plain": [
              "<Figure size 1800x720 with 2 Axes>"
            ],
            "image/png": "[encoded data removed]"
          },
          "metadata": {
            "needs_background": "light"
          }
        }
      ],
      "source": [
        "msno.matrix(data)\n",
        "plt.show()"
      ]
    },
    {
      "cell_type": "markdown",
      "metadata": {
        "id": "PkOaMi2yYBI6"
      },
      "source": [
        "#Eksplorasi dan Visualisasi Data"
      ]
    },
    {
      "cell_type": "code",
      "execution_count": null,
      "metadata": {
        "colab": {
          "base_uri": "https://localhost:8080/"
        },
        "id": "bVc4e11TVTVP",
        "outputId": "1864c62c-203c-4706-8ae2-9a12c3b79020"
      },
      "outputs": [
        {
          "output_type": "execute_result",
          "data": {
            "text/plain": [
              "False    652\n",
              "dtype: int64"
            ]
          },
          "metadata": {},
          "execution_count": 18
        }
      ],
      "source": [
        "data.duplicated().value_counts()"
      ]
    },
    {
      "cell_type": "code",
      "execution_count": null,
      "metadata": {
        "colab": {
          "base_uri": "https://localhost:8080/",
          "height": 1000
        },
        "id": "p8qqJZfAYGnO",
        "outputId": "6e19b8f2-789a-4e48-9d3a-505aa695db96"
      },
      "outputs": [
        {
          "output_type": "stream",
          "name": "stderr",
          "text": [
            "/usr/local/lib/python3.7/dist-packages/seaborn/_decorators.py:43: FutureWarning: Pass the following variable as a keyword arg: x. From version 0.12, the only valid positional argument will be `data`, and passing other arguments without an explicit keyword will result in an error or misinterpretation.\n",
            "  FutureWarning\n",
            "/usr/local/lib/python3.7/dist-packages/seaborn/_decorators.py:43: FutureWarning: Pass the following variable as a keyword arg: x. From version 0.12, the only valid positional argument will be `data`, and passing other arguments without an explicit keyword will result in an error or misinterpretation.\n",
            "  FutureWarning\n",
            "/usr/local/lib/python3.7/dist-packages/seaborn/_decorators.py:43: FutureWarning: Pass the following variable as a keyword arg: x. From version 0.12, the only valid positional argument will be `data`, and passing other arguments without an explicit keyword will result in an error or misinterpretation.\n",
            "  FutureWarning\n",
            "/usr/local/lib/python3.7/dist-packages/seaborn/_decorators.py:43: FutureWarning: Pass the following variable as a keyword arg: x. From version 0.12, the only valid positional argument will be `data`, and passing other arguments without an explicit keyword will result in an error or misinterpretation.\n",
            "  FutureWarning\n",
            "/usr/local/lib/python3.7/dist-packages/seaborn/_decorators.py:43: FutureWarning: Pass the following variable as a keyword arg: x. From version 0.12, the only valid positional argument will be `data`, and passing other arguments without an explicit keyword will result in an error or misinterpretation.\n",
            "  FutureWarning\n",
            "/usr/local/lib/python3.7/dist-packages/seaborn/_decorators.py:43: FutureWarning: Pass the following variable as a keyword arg: x. From version 0.12, the only valid positional argument will be `data`, and passing other arguments without an explicit keyword will result in an error or misinterpretation.\n",
            "  FutureWarning\n",
            "/usr/local/lib/python3.7/dist-packages/seaborn/_decorators.py:43: FutureWarning: Pass the following variable as a keyword arg: x. From version 0.12, the only valid positional argument will be `data`, and passing other arguments without an explicit keyword will result in an error or misinterpretation.\n",
            "  FutureWarning\n",
            "/usr/local/lib/python3.7/dist-packages/seaborn/_decorators.py:43: FutureWarning: Pass the following variable as a keyword arg: x. From version 0.12, the only valid positional argument will be `data`, and passing other arguments without an explicit keyword will result in an error or misinterpretation.\n",
            "  FutureWarning\n",
            "/usr/local/lib/python3.7/dist-packages/seaborn/_decorators.py:43: FutureWarning: Pass the following variable as a keyword arg: x. From version 0.12, the only valid positional argument will be `data`, and passing other arguments without an explicit keyword will result in an error or misinterpretation.\n",
            "  FutureWarning\n"
          ]
        },
        {
          "output_type": "display_data",
          "data": {
            "text/plain": [
              "<Figure size 576x1080 with 9 Axes>"
            ],
            "image/png": "[encoded data removed]"
          },
          "metadata": {
            "needs_background": "light"
          }
        }
      ],
      "source": [
        "fig, ax = plt.subplots(9, figsize = (8, 15))\n",
        "plot_market = sns.boxplot(data['Market Cap., b.IDR'], ax = ax[0])\n",
        "plot_rvolume = sns.boxplot(data['Regular Volume, th.shares'], ax = ax[1])\n",
        "plot_rvalue = sns.boxplot(data['Regular Value, m.IDR'], ax = ax[2])\n",
        "plot_rfreq = sns.boxplot(data['Regular Freq, x'], ax = ax[3])\n",
        "plot_rd = sns.boxplot(data['Regular Days'], ax = ax[4])\n",
        "plot_tvolume = sns.boxplot(data['Total Volume, th.shares'], ax = ax[5])\n",
        "plot_tvalue = sns.boxplot(data['Total Value, m.IDR'], ax = ax[6])\n",
        "plot_tfreq = sns.boxplot(data['Total Freq, x'], ax = ax[7])\n",
        "plot_tdays = sns.boxplot(data['Total Days'], ax = ax[8])\n",
        "plt.tight_layout()"
      ]
    },
    {
      "cell_type": "code",
      "source": [
        "data['Sharia'].value_counts()"
      ],
      "metadata": {
        "colab": {
          "base_uri": "https://localhost:8080/"
        },
        "id": "FlE5fug9VdpX",
        "outputId": "065fa3cd-14ae-439e-8ced-b2be64533937"
      },
      "execution_count": null,
      "outputs": [
        {
          "output_type": "execute_result",
          "data": {
            "text/plain": [
              "S    427\n",
              "-    225\n",
              "Name: Sharia, dtype: int64"
            ]
          },
          "metadata": {},
          "execution_count": 20
        }
      ]
    },
    {
      "cell_type": "code",
      "source": [
        "data['Sharia'].value_counts().plot(kind = 'bar')\n",
        "plt.show()"
      ],
      "metadata": {
        "colab": {
          "base_uri": "https://localhost:8080/",
          "height": 262
        },
        "id": "zK87wQ4LusD6",
        "outputId": "a8eaa3cc-69f9-4baf-8e67-22ed4dae847b"
      },
      "execution_count": null,
      "outputs": [
        {
          "output_type": "display_data",
          "data": {
            "text/plain": [
              "<Figure size 432x288 with 1 Axes>"
            ],
            "image/png": "[encoded data removed]"
          },
          "metadata": {
            "needs_background": "light"
          }
        }
      ]
    },
    {
      "cell_type": "markdown",
      "source": [
        "Pemilihan Variabel"
      ],
      "metadata": {
        "id": "ROnAFUOqu8E_"
      }
    },
    {
      "cell_type": "code",
      "source": [
        "data=data.drop(['No.', 'Sector', 'Sub Sector Code', 'Sub Sector','Stock Name','Total Days'],axis=1)\n",
        "data"
      ],
      "metadata": {
        "colab": {
          "base_uri": "https://localhost:8080/",
          "height": 502
        },
        "id": "J7FYcblNu4ty",
        "outputId": "6daa0045-9586-4215-8d0c-c111b931c433"
      },
      "execution_count": null,
      "outputs": [
        {
          "output_type": "execute_result",
          "data": {
            "text/plain": [
              "     Code Sharia  Market Cap., b.IDR  Regular Volume, th.shares  \\\n",
              "0    BISI      S         2475.000000                     1850.6   \n",
              "1    AALI      S        15830.561539                    43079.4   \n",
              "2    ANDI      S          467.500000                      688.3   \n",
              "3    ANJT      S         1636.837400                      344.6   \n",
              "4    BWPT      -         2805.750899                  1271933.4   \n",
              "..    ...    ...                 ...                        ...   \n",
              "689  MFMI      S          412.881645                      526.6   \n",
              "690  RONY      S          225.000000                      961.1   \n",
              "691  SFAN      -         1353.134351                      379.7   \n",
              "693  SOSS      S          244.059716                      369.8   \n",
              "694  YELO      S           19.002180                     5792.1   \n",
              "\n",
              "     Regular Value, m.IDR  Regular Freq, x  Regular Days  \\\n",
              "0               1613.6250            871.0            21   \n",
              "1             357751.6250          32336.0            21   \n",
              "2                 34.4150            252.0            21   \n",
              "3                164.3274            139.0            21   \n",
              "4             118059.2422          40032.0            21   \n",
              "..                    ...              ...           ...   \n",
              "689              270.6131            447.0            21   \n",
              "690              171.5825            734.0            21   \n",
              "691              259.0150            295.0            21   \n",
              "693              139.8784            299.0            21   \n",
              "694              289.6318            401.0            21   \n",
              "\n",
              "     Total Volume, th.shares  Total Value, m.IDR  Total Freq, x  \n",
              "0                   7071.198         6422.550325          876.0  \n",
              "1                  43088.670       357839.291975        32346.0  \n",
              "2                   1225.100           50.085000          258.0  \n",
              "3                    467.800          223.909900          141.0  \n",
              "4                1272683.400       118136.992200        40034.0  \n",
              "..                       ...                 ...            ...  \n",
              "689                18526.600         8802.613100          448.0  \n",
              "690                  961.100          171.582500          734.0  \n",
              "691                 8384.900         5537.917000          302.0  \n",
              "693                  369.800          139.878400          299.0  \n",
              "694                 5792.100          289.631800          401.0  \n",
              "\n",
              "[652 rows x 10 columns]"
            ],
            "text/html": [
              "\n",
              "  <div id=\"df-de0e0267-d652-4b43-8775-3858220b6f16\">\n",
              "    <div class=\"colab-df-container\">\n",
              "      <div>\n",
              "<style scoped>\n",
              "    .dataframe tbody tr th:only-of-type {\n",
              "        vertical-align: middle;\n",
              "    }\n",
              "\n",
              "    .dataframe tbody tr th {\n",
              "        vertical-align: top;\n",
              "    }\n",
              "\n",
              "    .dataframe thead th {\n",
              "        text-align: right;\n",
              "    }\n",
              "</style>\n",
              "<table border=\"1\" class=\"dataframe\">\n",
              "  <thead>\n",
              "    <tr style=\"text-align: right;\">\n",
              "      <th></th>\n",
              "      <th>Code</th>\n",
              "      <th>Sharia</th>\n",
              "      <th>Market Cap., b.IDR</th>\n",
              "      <th>Regular Volume, th.shares</th>\n",
              "      <th>Regular Value, m.IDR</th>\n",
              "      <th>Regular Freq, x</th>\n",
              "      <th>Regular Days</th>\n",
              "      <th>Total Volume, th.shares</th>\n",
              "      <th>Total Value, m.IDR</th>\n",
              "      <th>Total Freq, x</th>\n",
              "    </tr>\n",
              "  </thead>\n",
              "  <tbody>\n",
              "    <tr>\n",
              "      <th>0</th>\n",
              "      <td>BISI</td>\n",
              "      <td>S</td>\n",
              "      <td>2475.000000</td>\n",
              "      <td>1850.6</td>\n",
              "      <td>1613.6250</td>\n",
              "      <td>871.0</td>\n",
              "      <td>21</td>\n",
              "      <td>7071.198</td>\n",
              "      <td>6422.550325</td>\n",
              "      <td>876.0</td>\n",
              "    </tr>\n",
              "    <tr>\n",
              "      <th>1</th>\n",
              "      <td>AALI</td>\n",
              "      <td>S</td>\n",
              "      <td>15830.561539</td>\n",
              "      <td>43079.4</td>\n",
              "      <td>357751.6250</td>\n",
              "      <td>32336.0</td>\n",
              "      <td>21</td>\n",
              "      <td>43088.670</td>\n",
              "      <td>357839.291975</td>\n",
              "      <td>32346.0</td>\n",
              "    </tr>\n",
              "    <tr>\n",
              "      <th>2</th>\n",
              "      <td>ANDI</td>\n",
              "      <td>S</td>\n",
              "      <td>467.500000</td>\n",
              "      <td>688.3</td>\n",
              "      <td>34.4150</td>\n",
              "      <td>252.0</td>\n",
              "      <td>21</td>\n",
              "      <td>1225.100</td>\n",
              "      <td>50.085000</td>\n",
              "      <td>258.0</td>\n",
              "    </tr>\n",
              "    <tr>\n",
              "      <th>3</th>\n",
              "      <td>ANJT</td>\n",
              "      <td>S</td>\n",
              "      <td>1636.837400</td>\n",
              "      <td>344.6</td>\n",
              "      <td>164.3274</td>\n",
              "      <td>139.0</td>\n",
              "      <td>21</td>\n",
              "      <td>467.800</td>\n",
              "      <td>223.909900</td>\n",
              "      <td>141.0</td>\n",
              "    </tr>\n",
              "    <tr>\n",
              "      <th>4</th>\n",
              "      <td>BWPT</td>\n",
              "      <td>-</td>\n",
              "      <td>2805.750899</td>\n",
              "      <td>1271933.4</td>\n",
              "      <td>118059.2422</td>\n",
              "      <td>40032.0</td>\n",
              "      <td>21</td>\n",
              "      <td>1272683.400</td>\n",
              "      <td>118136.992200</td>\n",
              "      <td>40034.0</td>\n",
              "    </tr>\n",
              "    <tr>\n",
              "      <th>...</th>\n",
              "      <td>...</td>\n",
              "      <td>...</td>\n",
              "      <td>...</td>\n",
              "      <td>...</td>\n",
              "      <td>...</td>\n",
              "      <td>...</td>\n",
              "      <td>...</td>\n",
              "      <td>...</td>\n",
              "      <td>...</td>\n",
              "      <td>...</td>\n",
              "    </tr>\n",
              "    <tr>\n",
              "      <th>689</th>\n",
              "      <td>MFMI</td>\n",
              "      <td>S</td>\n",
              "      <td>412.881645</td>\n",
              "      <td>526.6</td>\n",
              "      <td>270.6131</td>\n",
              "      <td>447.0</td>\n",
              "      <td>21</td>\n",
              "      <td>18526.600</td>\n",
              "      <td>8802.613100</td>\n",
              "      <td>448.0</td>\n",
              "    </tr>\n",
              "    <tr>\n",
              "      <th>690</th>\n",
              "      <td>RONY</td>\n",
              "      <td>S</td>\n",
              "      <td>225.000000</td>\n",
              "      <td>961.1</td>\n",
              "      <td>171.5825</td>\n",
              "      <td>734.0</td>\n",
              "      <td>21</td>\n",
              "      <td>961.100</td>\n",
              "      <td>171.582500</td>\n",
              "      <td>734.0</td>\n",
              "    </tr>\n",
              "    <tr>\n",
              "      <th>691</th>\n",
              "      <td>SFAN</td>\n",
              "      <td>-</td>\n",
              "      <td>1353.134351</td>\n",
              "      <td>379.7</td>\n",
              "      <td>259.0150</td>\n",
              "      <td>295.0</td>\n",
              "      <td>21</td>\n",
              "      <td>8384.900</td>\n",
              "      <td>5537.917000</td>\n",
              "      <td>302.0</td>\n",
              "    </tr>\n",
              "    <tr>\n",
              "      <th>693</th>\n",
              "      <td>SOSS</td>\n",
              "      <td>S</td>\n",
              "      <td>244.059716</td>\n",
              "      <td>369.8</td>\n",
              "      <td>139.8784</td>\n",
              "      <td>299.0</td>\n",
              "      <td>21</td>\n",
              "      <td>369.800</td>\n",
              "      <td>139.878400</td>\n",
              "      <td>299.0</td>\n",
              "    </tr>\n",
              "    <tr>\n",
              "      <th>694</th>\n",
              "      <td>YELO</td>\n",
              "      <td>S</td>\n",
              "      <td>19.002180</td>\n",
              "      <td>5792.1</td>\n",
              "      <td>289.6318</td>\n",
              "      <td>401.0</td>\n",
              "      <td>21</td>\n",
              "      <td>5792.100</td>\n",
              "      <td>289.631800</td>\n",
              "      <td>401.0</td>\n",
              "    </tr>\n",
              "  </tbody>\n",
              "</table>\n",
              "<p>652 rows × 10 columns</p>\n",
              "</div>\n",
              "      <button class=\"colab-df-convert\" onclick=\"convertToInteractive('df-de0e0267-d652-4b43-8775-3858220b6f16')\"\n",
              "              title=\"Convert this dataframe to an interactive table.\"\n",
              "              style=\"display:none;\">\n",
              "        \n",
              "  <svg xmlns=\"http://www.w3.org/2000/svg\" height=\"24px\"viewBox=\"0 0 24 24\"\n",
              "       width=\"24px\">\n",
              "    <path d=\"M0 0h24v24H0V0z\" fill=\"none\"/>\n",
              "    <path d=\"M18.56 5.44l.94 2.06.94-2.06 2.06-.94-2.06-.94-.94-2.06-.94 2.06-2.06.94zm-11 1L8.5 8.5l.94-2.06 2.06-.94-2.06-.94L8.5 2.5l-.94 2.06-2.06.94zm10 10l.94 2.06.94-2.06 2.06-.94-2.06-.94-.94-2.06-.94 2.06-2.06.94z\"/><path d=\"M17.41 7.96l-1.37-1.37c-.4-.4-.92-.59-1.43-.59-.52 0-1.04.2-1.43.59L10.3 9.45l-7.72 7.72c-.78.78-.78 2.05 0 2.83L4 21.41c.39.39.9.59 1.41.59.51 0 1.02-.2 1.41-.59l7.78-7.78 2.81-2.81c.8-.78.8-2.07 0-2.86zM5.41 20L4 18.59l7.72-7.72 1.47 1.35L5.41 20z\"/>\n",
              "  </svg>\n",
              "      </button>\n",
              "      \n",
              "  <style>\n",
              "    .colab-df-container {\n",
              "      display:flex;\n",
              "      flex-wrap:wrap;\n",
              "      gap: 12px;\n",
              "    }\n",
              "\n",
              "    .colab-df-convert {\n",
              "      background-color: #E8F0FE;\n",
              "      border: none;\n",
              "      border-radius: 50%;\n",
              "      cursor: pointer;\n",
              "      display: none;\n",
              "      fill: #1967D2;\n",
              "      height: 32px;\n",
              "      padding: 0 0 0 0;\n",
              "      width: 32px;\n",
              "    }\n",
              "\n",
              "    .colab-df-convert:hover {\n",
              "      background-color: #E2EBFA;\n",
              "      box-shadow: 0px 1px 2px rgba(60, 64, 67, 0.3), 0px 1px 3px 1px rgba(60, 64, 67, 0.15);\n",
              "      fill: #174EA6;\n",
              "    }\n",
              "\n",
              "    [theme=dark] .colab-df-convert {\n",
              "      background-color: #3B4455;\n",
              "      fill: #D2E3FC;\n",
              "    }\n",
              "\n",
              "    [theme=dark] .colab-df-convert:hover {\n",
              "      background-color: #434B5C;\n",
              "      box-shadow: 0px 1px 3px 1px rgba(0, 0, 0, 0.15);\n",
              "      filter: drop-shadow(0px 1px 2px rgba(0, 0, 0, 0.3));\n",
              "      fill: #FFFFFF;\n",
              "    }\n",
              "  </style>\n",
              "\n",
              "      <script>\n",
              "        const buttonEl =\n",
              "          document.querySelector('#df-de0e0267-d652-4b43-8775-3858220b6f16 button.colab-df-convert');\n",
              "        buttonEl.style.display =\n",
              "          google.colab.kernel.accessAllowed ? 'block' : 'none';\n",
              "\n",
              "        async function convertToInteractive(key) {\n",
              "          const element = document.querySelector('#df-de0e0267-d652-4b43-8775-3858220b6f16');\n",
              "          const dataTable =\n",
              "            await google.colab.kernel.invokeFunction('convertToInteractive',\n",
              "                                                     [key], {});\n",
              "          if (!dataTable) return;\n",
              "\n",
              "          const docLinkHtml = 'Like what you see? Visit the ' +\n",
              "            '<a target=\"_blank\" href=https://colab.research.google.com/notebooks/data_table.ipynb>data table notebook</a>'\n",
              "            + ' to learn more about interactive tables.';\n",
              "          element.innerHTML = '';\n",
              "          dataTable['output_type'] = 'display_data';\n",
              "          await google.colab.output.renderOutput(dataTable, element);\n",
              "          const docLink = document.createElement('div');\n",
              "          docLink.innerHTML = docLinkHtml;\n",
              "          element.appendChild(docLink);\n",
              "        }\n",
              "      </script>\n",
              "    </div>\n",
              "  </div>\n",
              "  "
            ]
          },
          "metadata": {},
          "execution_count": 15
        }
      ]
    },
    {
      "cell_type": "markdown",
      "source": [
        "Pembentukan Dummy Variabel"
      ],
      "metadata": {
        "id": "wGw--ZB5vosi"
      }
    },
    {
      "cell_type": "code",
      "source": [
        "dms = pd.get_dummies(data[['Sharia']])\n",
        "data= pd.concat([data,dms], axis=1 )\n",
        "data = data.drop(['Sharia'],axis=1)"
      ],
      "metadata": {
        "id": "LZ5uYru4vs8A"
      },
      "execution_count": null,
      "outputs": []
    },
    {
      "cell_type": "code",
      "source": [
        "data"
      ],
      "metadata": {
        "colab": {
          "base_uri": "https://localhost:8080/",
          "height": 502
        },
        "id": "HBIQgcowvw7m",
        "outputId": "583a7ac7-236b-4493-8121-670c9204610c"
      },
      "execution_count": null,
      "outputs": [
        {
          "output_type": "execute_result",
          "data": {
            "text/plain": [
              "     Code  Market Cap., b.IDR  Regular Volume, th.shares  \\\n",
              "0    BISI         2475.000000                     1850.6   \n",
              "1    AALI        15830.561539                    43079.4   \n",
              "2    ANDI          467.500000                      688.3   \n",
              "3    ANJT         1636.837400                      344.6   \n",
              "4    BWPT         2805.750899                  1271933.4   \n",
              "..    ...                 ...                        ...   \n",
              "689  MFMI          412.881645                      526.6   \n",
              "690  RONY          225.000000                      961.1   \n",
              "691  SFAN         1353.134351                      379.7   \n",
              "693  SOSS          244.059716                      369.8   \n",
              "694  YELO           19.002180                     5792.1   \n",
              "\n",
              "     Regular Value, m.IDR  Regular Freq, x  Regular Days  \\\n",
              "0               1613.6250            871.0            21   \n",
              "1             357751.6250          32336.0            21   \n",
              "2                 34.4150            252.0            21   \n",
              "3                164.3274            139.0            21   \n",
              "4             118059.2422          40032.0            21   \n",
              "..                    ...              ...           ...   \n",
              "689              270.6131            447.0            21   \n",
              "690              171.5825            734.0            21   \n",
              "691              259.0150            295.0            21   \n",
              "693              139.8784            299.0            21   \n",
              "694              289.6318            401.0            21   \n",
              "\n",
              "     Total Volume, th.shares  Total Value, m.IDR  Total Freq, x  Sharia_-  \\\n",
              "0                   7071.198         6422.550325          876.0         0   \n",
              "1                  43088.670       357839.291975        32346.0         0   \n",
              "2                   1225.100           50.085000          258.0         0   \n",
              "3                    467.800          223.909900          141.0         0   \n",
              "4                1272683.400       118136.992200        40034.0         1   \n",
              "..                       ...                 ...            ...       ...   \n",
              "689                18526.600         8802.613100          448.0         0   \n",
              "690                  961.100          171.582500          734.0         0   \n",
              "691                 8384.900         5537.917000          302.0         1   \n",
              "693                  369.800          139.878400          299.0         0   \n",
              "694                 5792.100          289.631800          401.0         0   \n",
              "\n",
              "     Sharia_S  \n",
              "0           1  \n",
              "1           1  \n",
              "2           1  \n",
              "3           1  \n",
              "4           0  \n",
              "..        ...  \n",
              "689         1  \n",
              "690         1  \n",
              "691         0  \n",
              "693         1  \n",
              "694         1  \n",
              "\n",
              "[652 rows x 11 columns]"
            ],
            "text/html": [
              "\n",
              "  <div id=\"df-35b54e3a-b641-4b9d-b888-931770b76c15\">\n",
              "    <div class=\"colab-df-container\">\n",
              "      <div>\n",
              "<style scoped>\n",
              "    .dataframe tbody tr th:only-of-type {\n",
              "        vertical-align: middle;\n",
              "    }\n",
              "\n",
              "    .dataframe tbody tr th {\n",
              "        vertical-align: top;\n",
              "    }\n",
              "\n",
              "    .dataframe thead th {\n",
              "        text-align: right;\n",
              "    }\n",
              "</style>\n",
              "<table border=\"1\" class=\"dataframe\">\n",
              "  <thead>\n",
              "    <tr style=\"text-align: right;\">\n",
              "      <th></th>\n",
              "      <th>Code</th>\n",
              "      <th>Market Cap., b.IDR</th>\n",
              "      <th>Regular Volume, th.shares</th>\n",
              "      <th>Regular Value, m.IDR</th>\n",
              "      <th>Regular Freq, x</th>\n",
              "      <th>Regular Days</th>\n",
              "      <th>Total Volume, th.shares</th>\n",
              "      <th>Total Value, m.IDR</th>\n",
              "      <th>Total Freq, x</th>\n",
              "      <th>Sharia_-</th>\n",
              "      <th>Sharia_S</th>\n",
              "    </tr>\n",
              "  </thead>\n",
              "  <tbody>\n",
              "    <tr>\n",
              "      <th>0</th>\n",
              "      <td>BISI</td>\n",
              "      <td>2475.000000</td>\n",
              "      <td>1850.6</td>\n",
              "      <td>1613.6250</td>\n",
              "      <td>871.0</td>\n",
              "      <td>21</td>\n",
              "      <td>7071.198</td>\n",
              "      <td>6422.550325</td>\n",
              "      <td>876.0</td>\n",
              "      <td>0</td>\n",
              "      <td>1</td>\n",
              "    </tr>\n",
              "    <tr>\n",
              "      <th>1</th>\n",
              "      <td>AALI</td>\n",
              "      <td>15830.561539</td>\n",
              "      <td>43079.4</td>\n",
              "      <td>357751.6250</td>\n",
              "      <td>32336.0</td>\n",
              "      <td>21</td>\n",
              "      <td>43088.670</td>\n",
              "      <td>357839.291975</td>\n",
              "      <td>32346.0</td>\n",
              "      <td>0</td>\n",
              "      <td>1</td>\n",
              "    </tr>\n",
              "    <tr>\n",
              "      <th>2</th>\n",
              "      <td>ANDI</td>\n",
              "      <td>467.500000</td>\n",
              "      <td>688.3</td>\n",
              "      <td>34.4150</td>\n",
              "      <td>252.0</td>\n",
              "      <td>21</td>\n",
              "      <td>1225.100</td>\n",
              "      <td>50.085000</td>\n",
              "      <td>258.0</td>\n",
              "      <td>0</td>\n",
              "      <td>1</td>\n",
              "    </tr>\n",
              "    <tr>\n",
              "      <th>3</th>\n",
              "      <td>ANJT</td>\n",
              "      <td>1636.837400</td>\n",
              "      <td>344.6</td>\n",
              "      <td>164.3274</td>\n",
              "      <td>139.0</td>\n",
              "      <td>21</td>\n",
              "      <td>467.800</td>\n",
              "      <td>223.909900</td>\n",
              "      <td>141.0</td>\n",
              "      <td>0</td>\n",
              "      <td>1</td>\n",
              "    </tr>\n",
              "    <tr>\n",
              "      <th>4</th>\n",
              "      <td>BWPT</td>\n",
              "      <td>2805.750899</td>\n",
              "      <td>1271933.4</td>\n",
              "      <td>118059.2422</td>\n",
              "      <td>40032.0</td>\n",
              "      <td>21</td>\n",
              "      <td>1272683.400</td>\n",
              "      <td>118136.992200</td>\n",
              "      <td>40034.0</td>\n",
              "      <td>1</td>\n",
              "      <td>0</td>\n",
              "    </tr>\n",
              "    <tr>\n",
              "      <th>...</th>\n",
              "      <td>...</td>\n",
              "      <td>...</td>\n",
              "      <td>...</td>\n",
              "      <td>...</td>\n",
              "      <td>...</td>\n",
              "      <td>...</td>\n",
              "      <td>...</td>\n",
              "      <td>...</td>\n",
              "      <td>...</td>\n",
              "      <td>...</td>\n",
              "      <td>...</td>\n",
              "    </tr>\n",
              "    <tr>\n",
              "      <th>689</th>\n",
              "      <td>MFMI</td>\n",
              "      <td>412.881645</td>\n",
              "      <td>526.6</td>\n",
              "      <td>270.6131</td>\n",
              "      <td>447.0</td>\n",
              "      <td>21</td>\n",
              "      <td>18526.600</td>\n",
              "      <td>8802.613100</td>\n",
              "      <td>448.0</td>\n",
              "      <td>0</td>\n",
              "      <td>1</td>\n",
              "    </tr>\n",
              "    <tr>\n",
              "      <th>690</th>\n",
              "      <td>RONY</td>\n",
              "      <td>225.000000</td>\n",
              "      <td>961.1</td>\n",
              "      <td>171.5825</td>\n",
              "      <td>734.0</td>\n",
              "      <td>21</td>\n",
              "      <td>961.100</td>\n",
              "      <td>171.582500</td>\n",
              "      <td>734.0</td>\n",
              "      <td>0</td>\n",
              "      <td>1</td>\n",
              "    </tr>\n",
              "    <tr>\n",
              "      <th>691</th>\n",
              "      <td>SFAN</td>\n",
              "      <td>1353.134351</td>\n",
              "      <td>379.7</td>\n",
              "      <td>259.0150</td>\n",
              "      <td>295.0</td>\n",
              "      <td>21</td>\n",
              "      <td>8384.900</td>\n",
              "      <td>5537.917000</td>\n",
              "      <td>302.0</td>\n",
              "      <td>1</td>\n",
              "      <td>0</td>\n",
              "    </tr>\n",
              "    <tr>\n",
              "      <th>693</th>\n",
              "      <td>SOSS</td>\n",
              "      <td>244.059716</td>\n",
              "      <td>369.8</td>\n",
              "      <td>139.8784</td>\n",
              "      <td>299.0</td>\n",
              "      <td>21</td>\n",
              "      <td>369.800</td>\n",
              "      <td>139.878400</td>\n",
              "      <td>299.0</td>\n",
              "      <td>0</td>\n",
              "      <td>1</td>\n",
              "    </tr>\n",
              "    <tr>\n",
              "      <th>694</th>\n",
              "      <td>YELO</td>\n",
              "      <td>19.002180</td>\n",
              "      <td>5792.1</td>\n",
              "      <td>289.6318</td>\n",
              "      <td>401.0</td>\n",
              "      <td>21</td>\n",
              "      <td>5792.100</td>\n",
              "      <td>289.631800</td>\n",
              "      <td>401.0</td>\n",
              "      <td>0</td>\n",
              "      <td>1</td>\n",
              "    </tr>\n",
              "  </tbody>\n",
              "</table>\n",
              "<p>652 rows × 11 columns</p>\n",
              "</div>\n",
              "      <button class=\"colab-df-convert\" onclick=\"convertToInteractive('df-35b54e3a-b641-4b9d-b888-931770b76c15')\"\n",
              "              title=\"Convert this dataframe to an interactive table.\"\n",
              "              style=\"display:none;\">\n",
              "        \n",
              "  <svg xmlns=\"http://www.w3.org/2000/svg\" height=\"24px\"viewBox=\"0 0 24 24\"\n",
              "       width=\"24px\">\n",
              "    <path d=\"M0 0h24v24H0V0z\" fill=\"none\"/>\n",
              "    <path d=\"M18.56 5.44l.94 2.06.94-2.06 2.06-.94-2.06-.94-.94-2.06-.94 2.06-2.06.94zm-11 1L8.5 8.5l.94-2.06 2.06-.94-2.06-.94L8.5 2.5l-.94 2.06-2.06.94zm10 10l.94 2.06.94-2.06 2.06-.94-2.06-.94-.94-2.06-.94 2.06-2.06.94z\"/><path d=\"M17.41 7.96l-1.37-1.37c-.4-.4-.92-.59-1.43-.59-.52 0-1.04.2-1.43.59L10.3 9.45l-7.72 7.72c-.78.78-.78 2.05 0 2.83L4 21.41c.39.39.9.59 1.41.59.51 0 1.02-.2 1.41-.59l7.78-7.78 2.81-2.81c.8-.78.8-2.07 0-2.86zM5.41 20L4 18.59l7.72-7.72 1.47 1.35L5.41 20z\"/>\n",
              "  </svg>\n",
              "      </button>\n",
              "      \n",
              "  <style>\n",
              "    .colab-df-container {\n",
              "      display:flex;\n",
              "      flex-wrap:wrap;\n",
              "      gap: 12px;\n",
              "    }\n",
              "\n",
              "    .colab-df-convert {\n",
              "      background-color: #E8F0FE;\n",
              "      border: none;\n",
              "      border-radius: 50%;\n",
              "      cursor: pointer;\n",
              "      display: none;\n",
              "      fill: #1967D2;\n",
              "      height: 32px;\n",
              "      padding: 0 0 0 0;\n",
              "      width: 32px;\n",
              "    }\n",
              "\n",
              "    .colab-df-convert:hover {\n",
              "      background-color: #E2EBFA;\n",
              "      box-shadow: 0px 1px 2px rgba(60, 64, 67, 0.3), 0px 1px 3px 1px rgba(60, 64, 67, 0.15);\n",
              "      fill: #174EA6;\n",
              "    }\n",
              "\n",
              "    [theme=dark] .colab-df-convert {\n",
              "      background-color: #3B4455;\n",
              "      fill: #D2E3FC;\n",
              "    }\n",
              "\n",
              "    [theme=dark] .colab-df-convert:hover {\n",
              "      background-color: #434B5C;\n",
              "      box-shadow: 0px 1px 3px 1px rgba(0, 0, 0, 0.15);\n",
              "      filter: drop-shadow(0px 1px 2px rgba(0, 0, 0, 0.3));\n",
              "      fill: #FFFFFF;\n",
              "    }\n",
              "  </style>\n",
              "\n",
              "      <script>\n",
              "        const buttonEl =\n",
              "          document.querySelector('#df-35b54e3a-b641-4b9d-b888-931770b76c15 button.colab-df-convert');\n",
              "        buttonEl.style.display =\n",
              "          google.colab.kernel.accessAllowed ? 'block' : 'none';\n",
              "\n",
              "        async function convertToInteractive(key) {\n",
              "          const element = document.querySelector('#df-35b54e3a-b641-4b9d-b888-931770b76c15');\n",
              "          const dataTable =\n",
              "            await google.colab.kernel.invokeFunction('convertToInteractive',\n",
              "                                                     [key], {});\n",
              "          if (!dataTable) return;\n",
              "\n",
              "          const docLinkHtml = 'Like what you see? Visit the ' +\n",
              "            '<a target=\"_blank\" href=https://colab.research.google.com/notebooks/data_table.ipynb>data table notebook</a>'\n",
              "            + ' to learn more about interactive tables.';\n",
              "          element.innerHTML = '';\n",
              "          dataTable['output_type'] = 'display_data';\n",
              "          await google.colab.output.renderOutput(dataTable, element);\n",
              "          const docLink = document.createElement('div');\n",
              "          docLink.innerHTML = docLinkHtml;\n",
              "          element.appendChild(docLink);\n",
              "        }\n",
              "      </script>\n",
              "    </div>\n",
              "  </div>\n",
              "  "
            ]
          },
          "metadata": {},
          "execution_count": 17
        }
      ]
    },
    {
      "cell_type": "code",
      "source": [
        "data.dtypes"
      ],
      "metadata": {
        "colab": {
          "base_uri": "https://localhost:8080/"
        },
        "id": "GyGA1UHev0f0",
        "outputId": "c1375104-7683-4963-b5d0-d299939b2865"
      },
      "execution_count": null,
      "outputs": [
        {
          "output_type": "execute_result",
          "data": {
            "text/plain": [
              "Code                          object\n",
              "Market Cap., b.IDR           float64\n",
              "Regular Volume, th.shares    float64\n",
              "Regular Value, m.IDR         float64\n",
              "Regular Freq, x              float64\n",
              "Regular Days                   int64\n",
              "Total Volume, th.shares      float64\n",
              "Total Value, m.IDR           float64\n",
              "Total Freq, x                float64\n",
              "Sharia_-                       uint8\n",
              "Sharia_S                       uint8\n",
              "dtype: object"
            ]
          },
          "metadata": {},
          "execution_count": 25
        }
      ]
    },
    {
      "cell_type": "code",
      "source": [
        "%matplotlib inline\n",
        "sns.heatmap(data.corr(),cmap=\"YlGnBu\",annot=True)"
      ],
      "metadata": {
        "colab": {
          "base_uri": "https://localhost:8080/",
          "height": 408
        },
        "id": "oVOYaf021rCx",
        "outputId": "0c5c7cd6-610a-4a64-a75b-2eca2648ed1c"
      },
      "execution_count": null,
      "outputs": [
        {
          "output_type": "execute_result",
          "data": {
            "text/plain": [
              "<matplotlib.axes._subplots.AxesSubplot at 0x7f6212c37f10>"
            ]
          },
          "metadata": {},
          "execution_count": 26
        },
        {
          "output_type": "display_data",
          "data": {
            "text/plain": [
              "<Figure size 432x288 with 2 Axes>"
            ],
            "image/png": "[encoded data removed]"
          },
          "metadata": {
            "needs_background": "light"
          }
        }
      ]
    },
    {
      "cell_type": "markdown",
      "source": [
        "Spilting Data"
      ],
      "metadata": {
        "id": "axTCB_UGwO5w"
      }
    },
    {
      "cell_type": "code",
      "source": [
        "X = data.drop(['Total Volume, th.shares'], axis = 1)\n",
        "y = data['Total Volume, th.shares']"
      ],
      "metadata": {
        "id": "MWsYsuccwT5b"
      },
      "execution_count": null,
      "outputs": []
    },
    {
      "cell_type": "code",
      "source": [
        "X_train, X_test, y_train, y_test = train_test_split(X, y, test_size = 0.3)"
      ],
      "metadata": {
        "id": "vU9rmAlowZXY"
      },
      "execution_count": null,
      "outputs": []
    },
    {
      "cell_type": "markdown",
      "source": [
        "#Linear Regression"
      ],
      "metadata": {
        "id": "Y-nyjrrD7l8b"
      }
    },
    {
      "cell_type": "code",
      "source": [
        "import sklearn\n",
        "from sklearn import linear_model\n",
        "import statsmodels.api as sm\n",
        "import numpy as np"
      ],
      "metadata": {
        "id": "Aic1-sdZ7o8L"
      },
      "execution_count": null,
      "outputs": []
    },
    {
      "cell_type": "code",
      "source": [
        "# load statmodels functions\n",
        "from statsmodels.stats.outliers_influence import variance_inflation_factor\n",
        "from statsmodels.tools.tools import add_constant\n",
        "\n",
        "# compute the vif for all given features\n",
        "def compute_vif(considered_features):\n",
        "\n",
        "    X = X_train[considered_features]\n",
        "    # the calculation of variance inflation requires a constant\n",
        "    X['intercept'] = 1\n",
        "\n",
        "    # create dataframe to store vif values\n",
        "    vif = pd.DataFrame()\n",
        "    vif[\"Variable\"] = X.columns\n",
        "    vif[\"VIF\"] = [variance_inflation_factor(X.values, i) for i in range(X.shape[1])]\n",
        "    vif = vif[vif['Variable']!='intercept']\n",
        "    return vif"
      ],
      "metadata": {
        "id": "JrEx4vG-7xi1"
      },
      "execution_count": null,
      "outputs": []
    },
    {
      "cell_type": "code",
      "source": [
        "# features to consider removing\n",
        "considered_features = ['Market Cap., b.IDR','Regular Volume, th.shares','Regular Value, m.IDR',\n",
        "                       'Regular Freq, x','Regular Days', 'Total Value, m.IDR', 'Total Freq, x']\n",
        "\n",
        "\n",
        "# compute vif\n",
        "compute_vif(considered_features).sort_values('VIF', ascending=False)"
      ],
      "metadata": {
        "colab": {
          "base_uri": "https://localhost:8080/",
          "height": 428
        },
        "id": "gzdDx1ge72s-",
        "outputId": "a3791dbc-9233-4228-d031-431a1002f24d"
      },
      "execution_count": null,
      "outputs": [
        {
          "output_type": "stream",
          "name": "stderr",
          "text": [
            "/usr/local/lib/python3.7/dist-packages/ipykernel_launcher.py:10: SettingWithCopyWarning: \n",
            "A value is trying to be set on a copy of a slice from a DataFrame.\n",
            "Try using .loc[row_indexer,col_indexer] = value instead\n",
            "\n",
            "See the caveats in the documentation: https://pandas.pydata.org/pandas-docs/stable/user_guide/indexing.html#returning-a-view-versus-a-copy\n",
            "  # Remove the CWD from sys.path while we load stuff.\n",
            "/usr/local/lib/python3.7/dist-packages/statsmodels/regression/linear_model.py:1715: RuntimeWarning: divide by zero encountered in double_scalars\n",
            "  return 1 - self.ssr/self.centered_tss\n"
          ]
        },
        {
          "output_type": "execute_result",
          "data": {
            "text/plain": [
              "                    Variable           VIF\n",
              "6              Total Freq, x  2.191857e+06\n",
              "3            Regular Freq, x  2.189172e+06\n",
              "5         Total Value, m.IDR  1.115444e+02\n",
              "2       Regular Value, m.IDR  9.979681e+01\n",
              "0         Market Cap., b.IDR  4.531477e+00\n",
              "1  Regular Volume, th.shares  2.597602e+00\n",
              "4               Regular Days  0.000000e+00"
            ],
            "text/html": [
              "\n",
              "  <div id=\"df-a565ff87-6a41-4373-aa1f-d70c6b66192d\">\n",
              "    <div class=\"colab-df-container\">\n",
              "      <div>\n",
              "<style scoped>\n",
              "    .dataframe tbody tr th:only-of-type {\n",
              "        vertical-align: middle;\n",
              "    }\n",
              "\n",
              "    .dataframe tbody tr th {\n",
              "        vertical-align: top;\n",
              "    }\n",
              "\n",
              "    .dataframe thead th {\n",
              "        text-align: right;\n",
              "    }\n",
              "</style>\n",
              "<table border=\"1\" class=\"dataframe\">\n",
              "  <thead>\n",
              "    <tr style=\"text-align: right;\">\n",
              "      <th></th>\n",
              "      <th>Variable</th>\n",
              "      <th>VIF</th>\n",
              "    </tr>\n",
              "  </thead>\n",
              "  <tbody>\n",
              "    <tr>\n",
              "      <th>6</th>\n",
              "      <td>Total Freq, x</td>\n",
              "      <td>2.191857e+06</td>\n",
              "    </tr>\n",
              "    <tr>\n",
              "      <th>3</th>\n",
              "      <td>Regular Freq, x</td>\n",
              "      <td>2.189172e+06</td>\n",
              "    </tr>\n",
              "    <tr>\n",
              "      <th>5</th>\n",
              "      <td>Total Value, m.IDR</td>\n",
              "      <td>1.115444e+02</td>\n",
              "    </tr>\n",
              "    <tr>\n",
              "      <th>2</th>\n",
              "      <td>Regular Value, m.IDR</td>\n",
              "      <td>9.979681e+01</td>\n",
              "    </tr>\n",
              "    <tr>\n",
              "      <th>0</th>\n",
              "      <td>Market Cap., b.IDR</td>\n",
              "      <td>4.531477e+00</td>\n",
              "    </tr>\n",
              "    <tr>\n",
              "      <th>1</th>\n",
              "      <td>Regular Volume, th.shares</td>\n",
              "      <td>2.597602e+00</td>\n",
              "    </tr>\n",
              "    <tr>\n",
              "      <th>4</th>\n",
              "      <td>Regular Days</td>\n",
              "      <td>0.000000e+00</td>\n",
              "    </tr>\n",
              "  </tbody>\n",
              "</table>\n",
              "</div>\n",
              "      <button class=\"colab-df-convert\" onclick=\"convertToInteractive('df-a565ff87-6a41-4373-aa1f-d70c6b66192d')\"\n",
              "              title=\"Convert this dataframe to an interactive table.\"\n",
              "              style=\"display:none;\">\n",
              "        \n",
              "  <svg xmlns=\"http://www.w3.org/2000/svg\" height=\"24px\"viewBox=\"0 0 24 24\"\n",
              "       width=\"24px\">\n",
              "    <path d=\"M0 0h24v24H0V0z\" fill=\"none\"/>\n",
              "    <path d=\"M18.56 5.44l.94 2.06.94-2.06 2.06-.94-2.06-.94-.94-2.06-.94 2.06-2.06.94zm-11 1L8.5 8.5l.94-2.06 2.06-.94-2.06-.94L8.5 2.5l-.94 2.06-2.06.94zm10 10l.94 2.06.94-2.06 2.06-.94-2.06-.94-.94-2.06-.94 2.06-2.06.94z\"/><path d=\"M17.41 7.96l-1.37-1.37c-.4-.4-.92-.59-1.43-.59-.52 0-1.04.2-1.43.59L10.3 9.45l-7.72 7.72c-.78.78-.78 2.05 0 2.83L4 21.41c.39.39.9.59 1.41.59.51 0 1.02-.2 1.41-.59l7.78-7.78 2.81-2.81c.8-.78.8-2.07 0-2.86zM5.41 20L4 18.59l7.72-7.72 1.47 1.35L5.41 20z\"/>\n",
              "  </svg>\n",
              "      </button>\n",
              "      \n",
              "  <style>\n",
              "    .colab-df-container {\n",
              "      display:flex;\n",
              "      flex-wrap:wrap;\n",
              "      gap: 12px;\n",
              "    }\n",
              "\n",
              "    .colab-df-convert {\n",
              "      background-color: #E8F0FE;\n",
              "      border: none;\n",
              "      border-radius: 50%;\n",
              "      cursor: pointer;\n",
              "      display: none;\n",
              "      fill: #1967D2;\n",
              "      height: 32px;\n",
              "      padding: 0 0 0 0;\n",
              "      width: 32px;\n",
              "    }\n",
              "\n",
              "    .colab-df-convert:hover {\n",
              "      background-color: #E2EBFA;\n",
              "      box-shadow: 0px 1px 2px rgba(60, 64, 67, 0.3), 0px 1px 3px 1px rgba(60, 64, 67, 0.15);\n",
              "      fill: #174EA6;\n",
              "    }\n",
              "\n",
              "    [theme=dark] .colab-df-convert {\n",
              "      background-color: #3B4455;\n",
              "      fill: #D2E3FC;\n",
              "    }\n",
              "\n",
              "    [theme=dark] .colab-df-convert:hover {\n",
              "      background-color: #434B5C;\n",
              "      box-shadow: 0px 1px 3px 1px rgba(0, 0, 0, 0.15);\n",
              "      filter: drop-shadow(0px 1px 2px rgba(0, 0, 0, 0.3));\n",
              "      fill: #FFFFFF;\n",
              "    }\n",
              "  </style>\n",
              "\n",
              "      <script>\n",
              "        const buttonEl =\n",
              "          document.querySelector('#df-a565ff87-6a41-4373-aa1f-d70c6b66192d button.colab-df-convert');\n",
              "        buttonEl.style.display =\n",
              "          google.colab.kernel.accessAllowed ? 'block' : 'none';\n",
              "\n",
              "        async function convertToInteractive(key) {\n",
              "          const element = document.querySelector('#df-a565ff87-6a41-4373-aa1f-d70c6b66192d');\n",
              "          const dataTable =\n",
              "            await google.colab.kernel.invokeFunction('convertToInteractive',\n",
              "                                                     [key], {});\n",
              "          if (!dataTable) return;\n",
              "\n",
              "          const docLinkHtml = 'Like what you see? Visit the ' +\n",
              "            '<a target=\"_blank\" href=https://colab.research.google.com/notebooks/data_table.ipynb>data table notebook</a>'\n",
              "            + ' to learn more about interactive tables.';\n",
              "          element.innerHTML = '';\n",
              "          dataTable['output_type'] = 'display_data';\n",
              "          await google.colab.output.renderOutput(dataTable, element);\n",
              "          const docLink = document.createElement('div');\n",
              "          docLink.innerHTML = docLinkHtml;\n",
              "          element.appendChild(docLink);\n",
              "        }\n",
              "      </script>\n",
              "    </div>\n",
              "  </div>\n",
              "  "
            ]
          },
          "metadata": {},
          "execution_count": 22
        }
      ]
    },
    {
      "cell_type": "markdown",
      "source": [
        "Normalisasi"
      ],
      "metadata": {
        "id": "7kACGCHlwgao"
      }
    },
    {
      "cell_type": "code",
      "source": [
        "num=['Market Cap., b.IDR','Regular Volume, th.shares','Regular Value, m.IDR',\n",
        "     'Regular Freq, x','Regular Days', 'Total Value, m.IDR', 'Total Freq, x']"
      ],
      "metadata": {
        "id": "mZK4qa1KwcLA"
      },
      "execution_count": null,
      "outputs": []
    },
    {
      "cell_type": "code",
      "source": [
        "scaler = MinMaxScaler()\n",
        "X_train = scaler.fit_transform(X_train[num])\n",
        "X_test = scaler.transform(X_test[num])"
      ],
      "metadata": {
        "id": "ff4LL41_wnjc"
      },
      "execution_count": null,
      "outputs": []
    },
    {
      "cell_type": "markdown",
      "source": [
        "#Modelling"
      ],
      "metadata": {
        "id": "R7slJ59ywtHv"
      }
    },
    {
      "cell_type": "code",
      "source": [
        "from scipy.stats import kstest\n",
        "#perform Kolmogorov-Smirnov test\n",
        "kstest(y_train, 'norm')"
      ],
      "metadata": {
        "colab": {
          "base_uri": "https://localhost:8080/"
        },
        "id": "UmFSwXA_wvWA",
        "outputId": "f1eb2663-4182-4d66-da50-a4ad12b5a4e9"
      },
      "execution_count": null,
      "outputs": [
        {
          "output_type": "execute_result",
          "data": {
            "text/plain": [
              "KstestResult(statistic=0.979779733752353, pvalue=0.0)"
            ]
          },
          "metadata": {},
          "execution_count": 31
        }
      ]
    },
    {
      "cell_type": "code",
      "source": [
        "# Creating plot\n",
        "plt.boxplot(y_train)\n",
        "\n",
        "# show plot\n",
        "plt.show()"
      ],
      "metadata": {
        "colab": {
          "base_uri": "https://localhost:8080/",
          "height": 276
        },
        "id": "QaTs1rEnw1ZJ",
        "outputId": "5c6a5696-77b0-4c19-de48-ff6f71d2800a"
      },
      "execution_count": null,
      "outputs": [
        {
          "output_type": "display_data",
          "data": {
            "text/plain": [
              "<Figure size 432x288 with 1 Axes>"
            ],
            "image/png": "[encoded data removed]"
          },
          "metadata": {
            "needs_background": "light"
          }
        }
      ]
    },
    {
      "cell_type": "code",
      "source": [
        "ridge_model= Ridge().fit(X_train, y_train)"
      ],
      "metadata": {
        "id": "Yp4__lWnxBDP"
      },
      "execution_count": null,
      "outputs": []
    },
    {
      "cell_type": "code",
      "source": [
        "y_pred= ridge_model.predict(X_test)"
      ],
      "metadata": {
        "id": "sEKM92cIxDr_"
      },
      "execution_count": null,
      "outputs": []
    },
    {
      "cell_type": "code",
      "source": [
        "rmse = (np.sqrt(mean_squared_error(y_test, y_pred)))\n",
        "mape = mean_absolute_percentage_error(y_test, y_pred)\n",
        "mae = mean_absolute_error(y_test, y_pred)\n",
        "r2 = r2_score(y_test, y_pred)\n",
        "print('Testing performance')\n",
        "print('MAPE: {:.4f}'.format(mape))\n",
        "print('MAE: {:.4f}'.format(mae))\n",
        "print('RMSE: {:.4f}'.format(rmse))\n",
        "print('R2: {:.4f}'.format(r2))"
      ],
      "metadata": {
        "colab": {
          "base_uri": "https://localhost:8080/"
        },
        "id": "1QfL-1AtxFeH",
        "outputId": "f94bc56c-626a-4121-b5ec-66659d6b1b9e"
      },
      "execution_count": null,
      "outputs": [
        {
          "output_type": "stream",
          "name": "stdout",
          "text": [
            "Testing performance\n",
            "MAPE: 5902.1152\n",
            "MAE: 127043.2574\n",
            "RMSE: 310135.0194\n",
            "R2: 0.7894\n"
          ]
        }
      ]
    }
  ],
  "metadata": {
    "colab": {
      "provenance": [],
      "toc_visible": true
    },
    "kernelspec": {
      "display_name": "Python 3",
      "name": "python3"
    },
    "language_info": {
      "name": "python"
    }
  },
  "nbformat": 4,
  "nbformat_minor": 0
}