{
  "cells": [
    {
      "cell_type": "code",
      "execution_count": null,
      "metadata": {
        "colab": {
          "base_uri": "https://localhost:8080/"
        },
        "id": "ZA_v5EGiSRTh",
        "outputId": "da27749d-c724-493f-8f3a-4624660aa1f8"
      },
      "outputs": [
        {
          "output_type": "stream",
          "name": "stdout",
          "text": [
            "Looking in indexes: https://pypi.org/simple, https://us-python.pkg.dev/colab-wheels/public/simple/\n",
            "Requirement already satisfied: xlrd in /usr/local/lib/python3.7/dist-packages (1.1.0)\n"
          ]
        }
      ],
      "source": [
        "!pip install xlrd"
      ]
    },
    {
      "cell_type": "code",
      "execution_count": null,
      "metadata": {
        "id": "Jkgn1HmBOQ6g"
      },
      "outputs": [],
      "source": [
        "import pandas as pd\n",
        "import numpy as np\n",
        "import scipy.stats\n",
        "import seaborn as sns # untuk visualisasi data\n",
        "import matplotlib.pyplot as plt # untuk visualisasi data\n",
        "import missingno as msno # untuk visualisasi data\n",
        "\n",
        "# untuk persiapan data\n",
        "from sklearn.model_selection import train_test_split\n",
        "from sklearn.preprocessing import RobustScaler\n",
        "from sklearn.preprocessing import MinMaxScaler\n",
        "#Modelling\n",
        "from sklearn.linear_model import Ridge\n",
        "from sklearn.metrics import mean_squared_error\n",
        "from sklearn.metrics import mean_absolute_error\n",
        "from sklearn.metrics import mean_absolute_percentage_error\n",
        "from sklearn.metrics import r2_score"
      ]
    },
    {
      "cell_type": "code",
      "execution_count": null,
      "metadata": {
        "id": "dFl1WI0pRuOv"
      },
      "outputs": [],
      "source": [
        "data=pd.read_excel('/content/2022.xlsx')"
      ]
    },
    {
      "cell_type": "code",
      "source": [
        "np.random.seed(2022)"
      ],
      "metadata": {
        "id": "sTq91fW4jwUj"
      },
      "execution_count": null,
      "outputs": []
    },
    {
      "cell_type": "markdown",
      "metadata": {
        "id": "Ue48E9x9T6YF"
      },
      "source": [
        "#Data Understanding"
      ]
    },
    {
      "cell_type": "code",
      "execution_count": null,
      "metadata": {
        "colab": {
          "base_uri": "https://localhost:8080/",
          "height": 939
        },
        "id": "kra5gijqSZfl",
        "outputId": "523e8f09-778c-4216-bfef-f970dc5299c7"
      },
      "outputs": [
        {
          "output_type": "execute_result",
          "data": {
            "text/plain": [
              "     No.                     Sector Sub Sector Code              Sub Sector  \\\n",
              "0      1                     Energy              A1         Oil, Gas & Coal   \n",
              "1      2                     Energy              A1         Oil, Gas & Coal   \n",
              "2      3                     Energy              A1         Oil, Gas & Coal   \n",
              "3      4                     Energy              A1         Oil, Gas & Coal   \n",
              "4      5                     Energy              A1         Oil, Gas & Coal   \n",
              "..   ...                        ...             ...                     ...   \n",
              "785  786  Transportation & Logistic              K2  Logistics & Deliveries   \n",
              "786  787  Transportation & Logistic              K2  Logistics & Deliveries   \n",
              "787  788  Transportation & Logistic              K2  Logistics & Deliveries   \n",
              "788  789  Transportation & Logistic              K2  Logistics & Deliveries   \n",
              "789  790  Transportation & Logistic              K2  Logistics & Deliveries   \n",
              "\n",
              "     Code                    Stock Name Sharia  Market Cap., b.IDR  \\\n",
              "0    ADMR  Adaro Minerals Indonesia Tbk      S        64594.083770   \n",
              "1    ADRO    Adaro Energy Indonesia Tbk      S        91479.851320   \n",
              "2    AIMS  Akbar Indo Makmur Stimec Tbk      S           55.440000   \n",
              "3    AKRA            AKR Corporindo Tbk      S        20675.678838   \n",
              "4    APEX     Apexindo Pratama Duta Tbk      S          962.100919   \n",
              "..    ...                           ...    ...                 ...   \n",
              "785  SDMU         Sidomulyo Selaras Tbk      -          101.035025   \n",
              "786  SMDR        Samudera Indonesia Tbk      S         9104.833600   \n",
              "787  TMAS                 PT Temas Tbk.      S        15346.853500   \n",
              "788  TNCA  PT Trimuda Nuansa Citra Tbk.      S          179.618640   \n",
              "789  TRUK       PT Guna Timur Raya Tbk.      S           56.550000   \n",
              "\n",
              "    Regular Volume, th.shares Regular Value, m.IDR Regular Freq, x  \\\n",
              "0                  4256469.00          8374059.584       513277.00   \n",
              "1                  3407169.60         10904504.199       391563.00   \n",
              "2                      651.40             167.0362          698.00   \n",
              "3                  1128236.60          1247601.936       118168.00   \n",
              "4                    18626.00             7577.677         8419.00   \n",
              "..                        ...                  ...             ...   \n",
              "785                1141895.40           123495.587        89712.00   \n",
              "786                 350648.30          1185341.466       166155.00   \n",
              "787                  86514.30            237892.80        68560.00   \n",
              "788                 262594.40          132480.9572        68356.00   \n",
              "789                 442056.10           63010.5065       117063.00   \n",
              "\n",
              "     Regular Days Total Volume, th.shares Total Value, m.IDR Total Freq, x  \\\n",
              "0              21             4534704.737     8992273.362611     513482.00   \n",
              "1              21             3459957.797    11075179.511381     391867.00   \n",
              "2              21                  651.40           167.0362        698.00   \n",
              "3              21             1189868.116     1314792.337442     118395.00   \n",
              "4              21                18626.00           7577.677       8419.00   \n",
              "..            ...                     ...                ...           ...   \n",
              "785            21              1141895.40         123495.587      89712.00   \n",
              "786            21               352337.50        1189988.486     166160.00   \n",
              "787            21               86985.376       239349.06866      68567.00   \n",
              "788            21               262594.40        132480.9572      68356.00   \n",
              "789            21               442106.10         63023.3065     117064.00   \n",
              "\n",
              "     Total Days  \n",
              "0            21  \n",
              "1            21  \n",
              "2            21  \n",
              "3            21  \n",
              "4            21  \n",
              "..          ...  \n",
              "785          21  \n",
              "786          21  \n",
              "787          21  \n",
              "788          21  \n",
              "789          21  \n",
              "\n",
              "[790 rows x 16 columns]"
            ],
            "text/html": [
              "\n",
              "  <div id=\"df-638f9765-7bd9-4648-9991-345055b04712\">\n",
              "    <div class=\"colab-df-container\">\n",
              "      <div>\n",
              "<style scoped>\n",
              "    .dataframe tbody tr th:only-of-type {\n",
              "        vertical-align: middle;\n",
              "    }\n",
              "\n",
              "    .dataframe tbody tr th {\n",
              "        vertical-align: top;\n",
              "    }\n",
              "\n",
              "    .dataframe thead th {\n",
              "        text-align: right;\n",
              "    }\n",
              "</style>\n",
              "<table border=\"1\" class=\"dataframe\">\n",
              "  <thead>\n",
              "    <tr style=\"text-align: right;\">\n",
              "      <th></th>\n",
              "      <th>No.</th>\n",
              "      <th>Sector</th>\n",
              "      <th>Sub Sector Code</th>\n",
              "      <th>Sub Sector</th>\n",
              "      <th>Code</th>\n",
              "      <th>Stock Name</th>\n",
              "      <th>Sharia</th>\n",
              "      <th>Market Cap., b.IDR</th>\n",
              "      <th>Regular Volume, th.shares</th>\n",
              "      <th>Regular Value, m.IDR</th>\n",
              "      <th>Regular Freq, x</th>\n",
              "      <th>Regular Days</th>\n",
              "      <th>Total Volume, th.shares</th>\n",
              "      <th>Total Value, m.IDR</th>\n",
              "      <th>Total Freq, x</th>\n",
              "      <th>Total Days</th>\n",
              "    </tr>\n",
              "  </thead>\n",
              "  <tbody>\n",
              "    <tr>\n",
              "      <th>0</th>\n",
              "      <td>1</td>\n",
              "      <td>Energy</td>\n",
              "      <td>A1</td>\n",
              "      <td>Oil, Gas &amp; Coal</td>\n",
              "      <td>ADMR</td>\n",
              "      <td>Adaro Minerals Indonesia Tbk</td>\n",
              "      <td>S</td>\n",
              "      <td>64594.083770</td>\n",
              "      <td>4256469.00</td>\n",
              "      <td>8374059.584</td>\n",
              "      <td>513277.00</td>\n",
              "      <td>21</td>\n",
              "      <td>4534704.737</td>\n",
              "      <td>8992273.362611</td>\n",
              "      <td>513482.00</td>\n",
              "      <td>21</td>\n",
              "    </tr>\n",
              "    <tr>\n",
              "      <th>1</th>\n",
              "      <td>2</td>\n",
              "      <td>Energy</td>\n",
              "      <td>A1</td>\n",
              "      <td>Oil, Gas &amp; Coal</td>\n",
              "      <td>ADRO</td>\n",
              "      <td>Adaro Energy Indonesia Tbk</td>\n",
              "      <td>S</td>\n",
              "      <td>91479.851320</td>\n",
              "      <td>3407169.60</td>\n",
              "      <td>10904504.199</td>\n",
              "      <td>391563.00</td>\n",
              "      <td>21</td>\n",
              "      <td>3459957.797</td>\n",
              "      <td>11075179.511381</td>\n",
              "      <td>391867.00</td>\n",
              "      <td>21</td>\n",
              "    </tr>\n",
              "    <tr>\n",
              "      <th>2</th>\n",
              "      <td>3</td>\n",
              "      <td>Energy</td>\n",
              "      <td>A1</td>\n",
              "      <td>Oil, Gas &amp; Coal</td>\n",
              "      <td>AIMS</td>\n",
              "      <td>Akbar Indo Makmur Stimec Tbk</td>\n",
              "      <td>S</td>\n",
              "      <td>55.440000</td>\n",
              "      <td>651.40</td>\n",
              "      <td>167.0362</td>\n",
              "      <td>698.00</td>\n",
              "      <td>21</td>\n",
              "      <td>651.40</td>\n",
              "      <td>167.0362</td>\n",
              "      <td>698.00</td>\n",
              "      <td>21</td>\n",
              "    </tr>\n",
              "    <tr>\n",
              "      <th>3</th>\n",
              "      <td>4</td>\n",
              "      <td>Energy</td>\n",
              "      <td>A1</td>\n",
              "      <td>Oil, Gas &amp; Coal</td>\n",
              "      <td>AKRA</td>\n",
              "      <td>AKR Corporindo Tbk</td>\n",
              "      <td>S</td>\n",
              "      <td>20675.678838</td>\n",
              "      <td>1128236.60</td>\n",
              "      <td>1247601.936</td>\n",
              "      <td>118168.00</td>\n",
              "      <td>21</td>\n",
              "      <td>1189868.116</td>\n",
              "      <td>1314792.337442</td>\n",
              "      <td>118395.00</td>\n",
              "      <td>21</td>\n",
              "    </tr>\n",
              "    <tr>\n",
              "      <th>4</th>\n",
              "      <td>5</td>\n",
              "      <td>Energy</td>\n",
              "      <td>A1</td>\n",
              "      <td>Oil, Gas &amp; Coal</td>\n",
              "      <td>APEX</td>\n",
              "      <td>Apexindo Pratama Duta Tbk</td>\n",
              "      <td>S</td>\n",
              "      <td>962.100919</td>\n",
              "      <td>18626.00</td>\n",
              "      <td>7577.677</td>\n",
              "      <td>8419.00</td>\n",
              "      <td>21</td>\n",
              "      <td>18626.00</td>\n",
              "      <td>7577.677</td>\n",
              "      <td>8419.00</td>\n",
              "      <td>21</td>\n",
              "    </tr>\n",
              "    <tr>\n",
              "      <th>...</th>\n",
              "      <td>...</td>\n",
              "      <td>...</td>\n",
              "      <td>...</td>\n",
              "      <td>...</td>\n",
              "      <td>...</td>\n",
              "      <td>...</td>\n",
              "      <td>...</td>\n",
              "      <td>...</td>\n",
              "      <td>...</td>\n",
              "      <td>...</td>\n",
              "      <td>...</td>\n",
              "      <td>...</td>\n",
              "      <td>...</td>\n",
              "      <td>...</td>\n",
              "      <td>...</td>\n",
              "      <td>...</td>\n",
              "    </tr>\n",
              "    <tr>\n",
              "      <th>785</th>\n",
              "      <td>786</td>\n",
              "      <td>Transportation &amp; Logistic</td>\n",
              "      <td>K2</td>\n",
              "      <td>Logistics &amp; Deliveries</td>\n",
              "      <td>SDMU</td>\n",
              "      <td>Sidomulyo Selaras Tbk</td>\n",
              "      <td>-</td>\n",
              "      <td>101.035025</td>\n",
              "      <td>1141895.40</td>\n",
              "      <td>123495.587</td>\n",
              "      <td>89712.00</td>\n",
              "      <td>21</td>\n",
              "      <td>1141895.40</td>\n",
              "      <td>123495.587</td>\n",
              "      <td>89712.00</td>\n",
              "      <td>21</td>\n",
              "    </tr>\n",
              "    <tr>\n",
              "      <th>786</th>\n",
              "      <td>787</td>\n",
              "      <td>Transportation &amp; Logistic</td>\n",
              "      <td>K2</td>\n",
              "      <td>Logistics &amp; Deliveries</td>\n",
              "      <td>SMDR</td>\n",
              "      <td>Samudera Indonesia Tbk</td>\n",
              "      <td>S</td>\n",
              "      <td>9104.833600</td>\n",
              "      <td>350648.30</td>\n",
              "      <td>1185341.466</td>\n",
              "      <td>166155.00</td>\n",
              "      <td>21</td>\n",
              "      <td>352337.50</td>\n",
              "      <td>1189988.486</td>\n",
              "      <td>166160.00</td>\n",
              "      <td>21</td>\n",
              "    </tr>\n",
              "    <tr>\n",
              "      <th>787</th>\n",
              "      <td>788</td>\n",
              "      <td>Transportation &amp; Logistic</td>\n",
              "      <td>K2</td>\n",
              "      <td>Logistics &amp; Deliveries</td>\n",
              "      <td>TMAS</td>\n",
              "      <td>PT Temas Tbk.</td>\n",
              "      <td>S</td>\n",
              "      <td>15346.853500</td>\n",
              "      <td>86514.30</td>\n",
              "      <td>237892.80</td>\n",
              "      <td>68560.00</td>\n",
              "      <td>21</td>\n",
              "      <td>86985.376</td>\n",
              "      <td>239349.06866</td>\n",
              "      <td>68567.00</td>\n",
              "      <td>21</td>\n",
              "    </tr>\n",
              "    <tr>\n",
              "      <th>788</th>\n",
              "      <td>789</td>\n",
              "      <td>Transportation &amp; Logistic</td>\n",
              "      <td>K2</td>\n",
              "      <td>Logistics &amp; Deliveries</td>\n",
              "      <td>TNCA</td>\n",
              "      <td>PT Trimuda Nuansa Citra Tbk.</td>\n",
              "      <td>S</td>\n",
              "      <td>179.618640</td>\n",
              "      <td>262594.40</td>\n",
              "      <td>132480.9572</td>\n",
              "      <td>68356.00</td>\n",
              "      <td>21</td>\n",
              "      <td>262594.40</td>\n",
              "      <td>132480.9572</td>\n",
              "      <td>68356.00</td>\n",
              "      <td>21</td>\n",
              "    </tr>\n",
              "    <tr>\n",
              "      <th>789</th>\n",
              "      <td>790</td>\n",
              "      <td>Transportation &amp; Logistic</td>\n",
              "      <td>K2</td>\n",
              "      <td>Logistics &amp; Deliveries</td>\n",
              "      <td>TRUK</td>\n",
              "      <td>PT Guna Timur Raya Tbk.</td>\n",
              "      <td>S</td>\n",
              "      <td>56.550000</td>\n",
              "      <td>442056.10</td>\n",
              "      <td>63010.5065</td>\n",
              "      <td>117063.00</td>\n",
              "      <td>21</td>\n",
              "      <td>442106.10</td>\n",
              "      <td>63023.3065</td>\n",
              "      <td>117064.00</td>\n",
              "      <td>21</td>\n",
              "    </tr>\n",
              "  </tbody>\n",
              "</table>\n",
              "<p>790 rows × 16 columns</p>\n",
              "</div>\n",
              "      <button class=\"colab-df-convert\" onclick=\"convertToInteractive('df-638f9765-7bd9-4648-9991-345055b04712')\"\n",
              "              title=\"Convert this dataframe to an interactive table.\"\n",
              "              style=\"display:none;\">\n",
              "        \n",
              "  <svg xmlns=\"http://www.w3.org/2000/svg\" height=\"24px\"viewBox=\"0 0 24 24\"\n",
              "       width=\"24px\">\n",
              "    <path d=\"M0 0h24v24H0V0z\" fill=\"none\"/>\n",
              "    <path d=\"M18.56 5.44l.94 2.06.94-2.06 2.06-.94-2.06-.94-.94-2.06-.94 2.06-2.06.94zm-11 1L8.5 8.5l.94-2.06 2.06-.94-2.06-.94L8.5 2.5l-.94 2.06-2.06.94zm10 10l.94 2.06.94-2.06 2.06-.94-2.06-.94-.94-2.06-.94 2.06-2.06.94z\"/><path d=\"M17.41 7.96l-1.37-1.37c-.4-.4-.92-.59-1.43-.59-.52 0-1.04.2-1.43.59L10.3 9.45l-7.72 7.72c-.78.78-.78 2.05 0 2.83L4 21.41c.39.39.9.59 1.41.59.51 0 1.02-.2 1.41-.59l7.78-7.78 2.81-2.81c.8-.78.8-2.07 0-2.86zM5.41 20L4 18.59l7.72-7.72 1.47 1.35L5.41 20z\"/>\n",
              "  </svg>\n",
              "      </button>\n",
              "      \n",
              "  <style>\n",
              "    .colab-df-container {\n",
              "      display:flex;\n",
              "      flex-wrap:wrap;\n",
              "      gap: 12px;\n",
              "    }\n",
              "\n",
              "    .colab-df-convert {\n",
              "      background-color: #E8F0FE;\n",
              "      border: none;\n",
              "      border-radius: 50%;\n",
              "      cursor: pointer;\n",
              "      display: none;\n",
              "      fill: #1967D2;\n",
              "      height: 32px;\n",
              "      padding: 0 0 0 0;\n",
              "      width: 32px;\n",
              "    }\n",
              "\n",
              "    .colab-df-convert:hover {\n",
              "      background-color: #E2EBFA;\n",
              "      box-shadow: 0px 1px 2px rgba(60, 64, 67, 0.3), 0px 1px 3px 1px rgba(60, 64, 67, 0.15);\n",
              "      fill: #174EA6;\n",
              "    }\n",
              "\n",
              "    [theme=dark] .colab-df-convert {\n",
              "      background-color: #3B4455;\n",
              "      fill: #D2E3FC;\n",
              "    }\n",
              "\n",
              "    [theme=dark] .colab-df-convert:hover {\n",
              "      background-color: #434B5C;\n",
              "      box-shadow: 0px 1px 3px 1px rgba(0, 0, 0, 0.15);\n",
              "      filter: drop-shadow(0px 1px 2px rgba(0, 0, 0, 0.3));\n",
              "      fill: #FFFFFF;\n",
              "    }\n",
              "  </style>\n",
              "\n",
              "      <script>\n",
              "        const buttonEl =\n",
              "          document.querySelector('#df-638f9765-7bd9-4648-9991-345055b04712 button.colab-df-convert');\n",
              "        buttonEl.style.display =\n",
              "          google.colab.kernel.accessAllowed ? 'block' : 'none';\n",
              "\n",
              "        async function convertToInteractive(key) {\n",
              "          const element = document.querySelector('#df-638f9765-7bd9-4648-9991-345055b04712');\n",
              "          const dataTable =\n",
              "            await google.colab.kernel.invokeFunction('convertToInteractive',\n",
              "                                                     [key], {});\n",
              "          if (!dataTable) return;\n",
              "\n",
              "          const docLinkHtml = 'Like what you see? Visit the ' +\n",
              "            '<a target=\"_blank\" href=https://colab.research.google.com/notebooks/data_table.ipynb>data table notebook</a>'\n",
              "            + ' to learn more about interactive tables.';\n",
              "          element.innerHTML = '';\n",
              "          dataTable['output_type'] = 'display_data';\n",
              "          await google.colab.output.renderOutput(dataTable, element);\n",
              "          const docLink = document.createElement('div');\n",
              "          docLink.innerHTML = docLinkHtml;\n",
              "          element.appendChild(docLink);\n",
              "        }\n",
              "      </script>\n",
              "    </div>\n",
              "  </div>\n",
              "  "
            ]
          },
          "metadata": {},
          "execution_count": 5
        }
      ],
      "source": [
        "data"
      ]
    },
    {
      "cell_type": "code",
      "execution_count": null,
      "metadata": {
        "colab": {
          "base_uri": "https://localhost:8080/"
        },
        "id": "nkEkQhTyVpo-",
        "outputId": "16ff0782-5738-4abc-bac9-640721b70b7c"
      },
      "outputs": [
        {
          "output_type": "execute_result",
          "data": {
            "text/plain": [
              "0      ADMR\n",
              "1      ADRO\n",
              "2      AIMS\n",
              "3      AKRA\n",
              "4      APEX\n",
              "       ... \n",
              "785    SDMU\n",
              "786    SMDR\n",
              "787    TMAS\n",
              "788    TNCA\n",
              "789    TRUK\n",
              "Name: Code, Length: 790, dtype: object"
            ]
          },
          "metadata": {},
          "execution_count": 6
        }
      ],
      "source": [
        "data['Code']"
      ]
    },
    {
      "cell_type": "code",
      "execution_count": null,
      "metadata": {
        "colab": {
          "base_uri": "https://localhost:8080/"
        },
        "id": "SGqY2PJgTg4K",
        "outputId": "e37f20fd-8aac-451d-f781-cac2afc0d34a"
      },
      "outputs": [
        {
          "output_type": "execute_result",
          "data": {
            "text/plain": [
              "(790, 16)"
            ]
          },
          "metadata": {},
          "execution_count": 7
        }
      ],
      "source": [
        "data.shape"
      ]
    },
    {
      "cell_type": "code",
      "execution_count": null,
      "metadata": {
        "colab": {
          "base_uri": "https://localhost:8080/"
        },
        "id": "9WJNPoNlTqLs",
        "outputId": "a307306d-73c5-4e9b-a752-1fde66d2d653"
      },
      "outputs": [
        {
          "output_type": "execute_result",
          "data": {
            "text/plain": [
              "No.                            int64\n",
              "Sector                        object\n",
              "Sub Sector Code               object\n",
              "Sub Sector                    object\n",
              "Code                          object\n",
              "Stock Name                    object\n",
              "Sharia                        object\n",
              "Market Cap., b.IDR           float64\n",
              "Regular Volume, th.shares     object\n",
              "Regular Value, m.IDR          object\n",
              "Regular Freq, x               object\n",
              "Regular Days                   int64\n",
              "Total Volume, th.shares       object\n",
              "Total Value, m.IDR            object\n",
              "Total Freq, x                 object\n",
              "Total Days                     int64\n",
              "dtype: object"
            ]
          },
          "metadata": {},
          "execution_count": 8
        }
      ],
      "source": [
        "data.dtypes"
      ]
    },
    {
      "cell_type": "code",
      "source": [
        "data['Regular Volume, th.shares'][data['Regular Volume, th.shares']=='-'].value_counts()"
      ],
      "metadata": {
        "colab": {
          "base_uri": "https://localhost:8080/"
        },
        "id": "nGff_wSmmFrW",
        "outputId": "75279aa2-5045-487f-90ea-753ca44f8801"
      },
      "execution_count": null,
      "outputs": [
        {
          "output_type": "execute_result",
          "data": {
            "text/plain": [
              "-    57\n",
              "Name: Regular Volume, th.shares, dtype: int64"
            ]
          },
          "metadata": {},
          "execution_count": 9
        }
      ]
    },
    {
      "cell_type": "code",
      "source": [
        "data = data.loc[data['Regular Volume, th.shares'] != '-']"
      ],
      "metadata": {
        "id": "1iE1saqFnVCY"
      },
      "execution_count": null,
      "outputs": []
    },
    {
      "cell_type": "code",
      "source": [
        "data.shape"
      ],
      "metadata": {
        "colab": {
          "base_uri": "https://localhost:8080/"
        },
        "id": "iXzVcdUqpXJr",
        "outputId": "3d3fff46-b0c1-4972-a43b-d122940d882f"
      },
      "execution_count": null,
      "outputs": [
        {
          "output_type": "execute_result",
          "data": {
            "text/plain": [
              "(733, 16)"
            ]
          },
          "metadata": {},
          "execution_count": 11
        }
      ]
    },
    {
      "cell_type": "code",
      "source": [
        "data['Regular Value, m.IDR'][data['Regular Value, m.IDR']!='-'].value_counts()"
      ],
      "metadata": {
        "colab": {
          "base_uri": "https://localhost:8080/"
        },
        "id": "_Oy_coyfqg0F",
        "outputId": "eb981e26-e28e-404f-aeba-f7e572a4f3c5"
      },
      "execution_count": null,
      "outputs": [
        {
          "output_type": "execute_result",
          "data": {
            "text/plain": [
              "8374059.584    1\n",
              "4429.7492      1\n",
              "225798.869     1\n",
              "874.364        1\n",
              "1440.917       1\n",
              "              ..\n",
              "234067.7135    1\n",
              "28356.129      1\n",
              "2483.55        1\n",
              "464.14         1\n",
              "63010.5065     1\n",
              "Name: Regular Value, m.IDR, Length: 733, dtype: int64"
            ]
          },
          "metadata": {},
          "execution_count": 12
        }
      ]
    },
    {
      "cell_type": "code",
      "source": [
        "data['Regular Freq, x'][data['Regular Freq, x']!='-'].value_counts()"
      ],
      "metadata": {
        "colab": {
          "base_uri": "https://localhost:8080/"
        },
        "id": "_P-7vePwrET5",
        "outputId": "453ee9e9-cf50-4c83-9a22-f0cd202eb01d"
      },
      "execution_count": null,
      "outputs": [
        {
          "output_type": "execute_result",
          "data": {
            "text/plain": [
              "2588.00      2\n",
              "318.00       2\n",
              "336.00       2\n",
              "116.00       2\n",
              "79.00        2\n",
              "            ..\n",
              "5618.00      1\n",
              "72431.00     1\n",
              "27178.00     1\n",
              "21038.00     1\n",
              "117063.00    1\n",
              "Name: Regular Freq, x, Length: 708, dtype: int64"
            ]
          },
          "metadata": {},
          "execution_count": 13
        }
      ]
    },
    {
      "cell_type": "code",
      "source": [
        "data['Regular Volume, th.shares'] = data['Regular Volume, th.shares'].astype(float)\n",
        "data['Regular Value, m.IDR'] = data['Regular Value, m.IDR'].astype(float)\n",
        "data['Regular Freq, x'] = data['Regular Freq, x'].astype(float)\n",
        "data['Total Volume, th.shares'] = data['Total Volume, th.shares'].astype(float)\n",
        "data['Total Value, m.IDR'] = data['Total Value, m.IDR'].astype(float)\n",
        "data['Total Freq, x'] = data['Total Freq, x'].astype(float)"
      ],
      "metadata": {
        "colab": {
          "base_uri": "https://localhost:8080/"
        },
        "id": "NeSHqlQFir6u",
        "outputId": "5b6a208c-a509-4c0f-9939-20336ed390cb"
      },
      "execution_count": null,
      "outputs": [
        {
          "output_type": "stream",
          "name": "stderr",
          "text": [
            "/usr/local/lib/python3.7/dist-packages/ipykernel_launcher.py:1: SettingWithCopyWarning: \n",
            "A value is trying to be set on a copy of a slice from a DataFrame.\n",
            "Try using .loc[row_indexer,col_indexer] = value instead\n",
            "\n",
            "See the caveats in the documentation: https://pandas.pydata.org/pandas-docs/stable/user_guide/indexing.html#returning-a-view-versus-a-copy\n",
            "  \"\"\"Entry point for launching an IPython kernel.\n",
            "/usr/local/lib/python3.7/dist-packages/ipykernel_launcher.py:2: SettingWithCopyWarning: \n",
            "A value is trying to be set on a copy of a slice from a DataFrame.\n",
            "Try using .loc[row_indexer,col_indexer] = value instead\n",
            "\n",
            "See the caveats in the documentation: https://pandas.pydata.org/pandas-docs/stable/user_guide/indexing.html#returning-a-view-versus-a-copy\n",
            "  \n",
            "/usr/local/lib/python3.7/dist-packages/ipykernel_launcher.py:3: SettingWithCopyWarning: \n",
            "A value is trying to be set on a copy of a slice from a DataFrame.\n",
            "Try using .loc[row_indexer,col_indexer] = value instead\n",
            "\n",
            "See the caveats in the documentation: https://pandas.pydata.org/pandas-docs/stable/user_guide/indexing.html#returning-a-view-versus-a-copy\n",
            "  This is separate from the ipykernel package so we can avoid doing imports until\n",
            "/usr/local/lib/python3.7/dist-packages/ipykernel_launcher.py:4: SettingWithCopyWarning: \n",
            "A value is trying to be set on a copy of a slice from a DataFrame.\n",
            "Try using .loc[row_indexer,col_indexer] = value instead\n",
            "\n",
            "See the caveats in the documentation: https://pandas.pydata.org/pandas-docs/stable/user_guide/indexing.html#returning-a-view-versus-a-copy\n",
            "  after removing the cwd from sys.path.\n",
            "/usr/local/lib/python3.7/dist-packages/ipykernel_launcher.py:5: SettingWithCopyWarning: \n",
            "A value is trying to be set on a copy of a slice from a DataFrame.\n",
            "Try using .loc[row_indexer,col_indexer] = value instead\n",
            "\n",
            "See the caveats in the documentation: https://pandas.pydata.org/pandas-docs/stable/user_guide/indexing.html#returning-a-view-versus-a-copy\n",
            "  \"\"\"\n",
            "/usr/local/lib/python3.7/dist-packages/ipykernel_launcher.py:6: SettingWithCopyWarning: \n",
            "A value is trying to be set on a copy of a slice from a DataFrame.\n",
            "Try using .loc[row_indexer,col_indexer] = value instead\n",
            "\n",
            "See the caveats in the documentation: https://pandas.pydata.org/pandas-docs/stable/user_guide/indexing.html#returning-a-view-versus-a-copy\n",
            "  \n"
          ]
        }
      ]
    },
    {
      "cell_type": "code",
      "source": [
        "data.dtypes"
      ],
      "metadata": {
        "colab": {
          "base_uri": "https://localhost:8080/"
        },
        "id": "woOTPIWPp7O3",
        "outputId": "4af50049-eaa2-43e8-b90c-c4ae9f4b489c"
      },
      "execution_count": null,
      "outputs": [
        {
          "output_type": "execute_result",
          "data": {
            "text/plain": [
              "No.                            int64\n",
              "Sector                        object\n",
              "Sub Sector Code               object\n",
              "Sub Sector                    object\n",
              "Code                          object\n",
              "Stock Name                    object\n",
              "Sharia                        object\n",
              "Market Cap., b.IDR           float64\n",
              "Regular Volume, th.shares    float64\n",
              "Regular Value, m.IDR         float64\n",
              "Regular Freq, x              float64\n",
              "Regular Days                   int64\n",
              "Total Volume, th.shares      float64\n",
              "Total Value, m.IDR           float64\n",
              "Total Freq, x                float64\n",
              "Total Days                     int64\n",
              "dtype: object"
            ]
          },
          "metadata": {},
          "execution_count": 14
        }
      ]
    },
    {
      "cell_type": "markdown",
      "metadata": {
        "id": "ujEw0P1EUG27"
      },
      "source": [
        "#Missing Value\n"
      ]
    },
    {
      "cell_type": "code",
      "execution_count": null,
      "metadata": {
        "colab": {
          "base_uri": "https://localhost:8080/"
        },
        "id": "vm-eoiXRUKCZ",
        "outputId": "73683970-bca0-4c4f-d8f5-862541951dad"
      },
      "outputs": [
        {
          "output_type": "execute_result",
          "data": {
            "text/plain": [
              "No.                          0\n",
              "Sector                       0\n",
              "Sub Sector Code              0\n",
              "Sub Sector                   0\n",
              "Code                         0\n",
              "Stock Name                   0\n",
              "Sharia                       0\n",
              "Market Cap., b.IDR           0\n",
              "Regular Volume, th.shares    0\n",
              "Regular Value, m.IDR         0\n",
              "Regular Freq, x              0\n",
              "Regular Days                 0\n",
              "Total Volume, th.shares      0\n",
              "Total Value, m.IDR           0\n",
              "Total Freq, x                0\n",
              "Total Days                   0\n",
              "dtype: int64"
            ]
          },
          "metadata": {},
          "execution_count": 15
        }
      ],
      "source": [
        "data.isna().sum()"
      ]
    },
    {
      "cell_type": "code",
      "execution_count": null,
      "metadata": {
        "colab": {
          "base_uri": "https://localhost:8080/",
          "height": 446
        },
        "id": "9PeUdgvkVAKD",
        "outputId": "a1ee42f7-e96a-4739-88b9-41024681f2d5"
      },
      "outputs": [
        {
          "output_type": "display_data",
          "data": {
            "text/plain": [
              "<Figure size 1800x720 with 2 Axes>"
            ],
            "image/png": "[encoded data removed]"
          },
          "metadata": {
            "needs_background": "light"
          }
        }
      ],
      "source": [
        "msno.matrix(data)\n",
        "plt.show()"
      ]
    },
    {
      "cell_type": "markdown",
      "metadata": {
        "id": "PkOaMi2yYBI6"
      },
      "source": [
        "#Eksplorasi dan Visualisasi Data"
      ]
    },
    {
      "cell_type": "code",
      "execution_count": null,
      "metadata": {
        "colab": {
          "base_uri": "https://localhost:8080/"
        },
        "id": "bVc4e11TVTVP",
        "outputId": "e4862328-76f4-4f03-e11c-4099e1ea1714"
      },
      "outputs": [
        {
          "output_type": "execute_result",
          "data": {
            "text/plain": [
              "False    733\n",
              "dtype: int64"
            ]
          },
          "metadata": {},
          "execution_count": 17
        }
      ],
      "source": [
        "data.duplicated().value_counts()"
      ]
    },
    {
      "cell_type": "code",
      "execution_count": null,
      "metadata": {
        "colab": {
          "base_uri": "https://localhost:8080/",
          "height": 1000
        },
        "id": "p8qqJZfAYGnO",
        "outputId": "ed67a0d3-9605-479e-af7a-a231e3c7c9ad"
      },
      "outputs": [
        {
          "output_type": "stream",
          "name": "stderr",
          "text": [
            "/usr/local/lib/python3.7/dist-packages/seaborn/_decorators.py:43: FutureWarning: Pass the following variable as a keyword arg: x. From version 0.12, the only valid positional argument will be `data`, and passing other arguments without an explicit keyword will result in an error or misinterpretation.\n",
            "  FutureWarning\n",
            "/usr/local/lib/python3.7/dist-packages/seaborn/_decorators.py:43: FutureWarning: Pass the following variable as a keyword arg: x. From version 0.12, the only valid positional argument will be `data`, and passing other arguments without an explicit keyword will result in an error or misinterpretation.\n",
            "  FutureWarning\n",
            "/usr/local/lib/python3.7/dist-packages/seaborn/_decorators.py:43: FutureWarning: Pass the following variable as a keyword arg: x. From version 0.12, the only valid positional argument will be `data`, and passing other arguments without an explicit keyword will result in an error or misinterpretation.\n",
            "  FutureWarning\n",
            "/usr/local/lib/python3.7/dist-packages/seaborn/_decorators.py:43: FutureWarning: Pass the following variable as a keyword arg: x. From version 0.12, the only valid positional argument will be `data`, and passing other arguments without an explicit keyword will result in an error or misinterpretation.\n",
            "  FutureWarning\n",
            "/usr/local/lib/python3.7/dist-packages/seaborn/_decorators.py:43: FutureWarning: Pass the following variable as a keyword arg: x. From version 0.12, the only valid positional argument will be `data`, and passing other arguments without an explicit keyword will result in an error or misinterpretation.\n",
            "  FutureWarning\n",
            "/usr/local/lib/python3.7/dist-packages/seaborn/_decorators.py:43: FutureWarning: Pass the following variable as a keyword arg: x. From version 0.12, the only valid positional argument will be `data`, and passing other arguments without an explicit keyword will result in an error or misinterpretation.\n",
            "  FutureWarning\n",
            "/usr/local/lib/python3.7/dist-packages/seaborn/_decorators.py:43: FutureWarning: Pass the following variable as a keyword arg: x. From version 0.12, the only valid positional argument will be `data`, and passing other arguments without an explicit keyword will result in an error or misinterpretation.\n",
            "  FutureWarning\n",
            "/usr/local/lib/python3.7/dist-packages/seaborn/_decorators.py:43: FutureWarning: Pass the following variable as a keyword arg: x. From version 0.12, the only valid positional argument will be `data`, and passing other arguments without an explicit keyword will result in an error or misinterpretation.\n",
            "  FutureWarning\n",
            "/usr/local/lib/python3.7/dist-packages/seaborn/_decorators.py:43: FutureWarning: Pass the following variable as a keyword arg: x. From version 0.12, the only valid positional argument will be `data`, and passing other arguments without an explicit keyword will result in an error or misinterpretation.\n",
            "  FutureWarning\n"
          ]
        },
        {
          "output_type": "display_data",
          "data": {
            "text/plain": [
              "<Figure size 576x1080 with 9 Axes>"
            ],
            "image/png": "[encoded data removed]"
          },
          "metadata": {
            "needs_background": "light"
          }
        }
      ],
      "source": [
        "fig, ax = plt.subplots(9, figsize = (8, 15))\n",
        "plot_market = sns.boxplot(data['Market Cap., b.IDR'], ax = ax[0])\n",
        "plot_rvolume = sns.boxplot(data['Regular Volume, th.shares'], ax = ax[1])\n",
        "plot_rvalue = sns.boxplot(data['Regular Value, m.IDR'], ax = ax[2])\n",
        "plot_rfreq = sns.boxplot(data['Regular Freq, x'], ax = ax[3])\n",
        "plot_rd = sns.boxplot(data['Regular Days'], ax = ax[4])\n",
        "plot_tvolume = sns.boxplot(data['Total Volume, th.shares'], ax = ax[5])\n",
        "plot_tvalue = sns.boxplot(data['Total Value, m.IDR'], ax = ax[6])\n",
        "plot_tfreq = sns.boxplot(data['Total Freq, x'], ax = ax[7])\n",
        "plot_tdays = sns.boxplot(data['Total Days'], ax = ax[8])\n",
        "plt.tight_layout()"
      ]
    },
    {
      "cell_type": "code",
      "source": [
        "data['Sharia'].value_counts()"
      ],
      "metadata": {
        "colab": {
          "base_uri": "https://localhost:8080/"
        },
        "id": "FlE5fug9VdpX",
        "outputId": "4c5dff37-36a2-4da2-ac50-e1f43880a9b5"
      },
      "execution_count": null,
      "outputs": [
        {
          "output_type": "execute_result",
          "data": {
            "text/plain": [
              "S    474\n",
              "-    259\n",
              "Name: Sharia, dtype: int64"
            ]
          },
          "metadata": {},
          "execution_count": 19
        }
      ]
    },
    {
      "cell_type": "code",
      "source": [
        "data['Sharia'].value_counts().plot(kind = 'bar')\n",
        "plt.show()"
      ],
      "metadata": {
        "colab": {
          "base_uri": "https://localhost:8080/",
          "height": 262
        },
        "id": "zK87wQ4LusD6",
        "outputId": "d0c5eade-104a-4d2d-a20f-d7ab9b138228"
      },
      "execution_count": null,
      "outputs": [
        {
          "output_type": "display_data",
          "data": {
            "text/plain": [
              "<Figure size 432x288 with 1 Axes>"
            ],
            "image/png": "[encoded data removed]"
          },
          "metadata": {
            "needs_background": "light"
          }
        }
      ]
    },
    {
      "cell_type": "markdown",
      "source": [
        "Pemilihan Variabel"
      ],
      "metadata": {
        "id": "ROnAFUOqu8E_"
      }
    },
    {
      "cell_type": "code",
      "source": [
        "data=data.drop(['No.', 'Sector', 'Sub Sector Code', 'Sub Sector','Stock Name','Total Days','Regular Days'],axis=1)\n",
        "data"
      ],
      "metadata": {
        "colab": {
          "base_uri": "https://localhost:8080/",
          "height": 502
        },
        "id": "J7FYcblNu4ty",
        "outputId": "dabbd3ef-47cc-4027-e132-d950306452e0"
      },
      "execution_count": null,
      "outputs": [
        {
          "output_type": "execute_result",
          "data": {
            "text/plain": [
              "     Code Sharia  Market Cap., b.IDR  Regular Volume, th.shares  \\\n",
              "0    ADMR      S        64594.083770                  4256469.0   \n",
              "1    ADRO      S        91479.851320                  3407169.6   \n",
              "2    AIMS      S           55.440000                      651.4   \n",
              "3    AKRA      S        20675.678838                  1128236.6   \n",
              "4    APEX      S          962.100919                    18626.0   \n",
              "..    ...    ...                 ...                        ...   \n",
              "785  SDMU      -          101.035025                  1141895.4   \n",
              "786  SMDR      S         9104.833600                   350648.3   \n",
              "787  TMAS      S        15346.853500                    86514.3   \n",
              "788  TNCA      S          179.618640                   262594.4   \n",
              "789  TRUK      S           56.550000                   442056.1   \n",
              "\n",
              "     Regular Value, m.IDR  Regular Freq, x  Total Volume, th.shares  \\\n",
              "0            8.374060e+06         513277.0              4534704.737   \n",
              "1            1.090450e+07         391563.0              3459957.797   \n",
              "2            1.670362e+02            698.0                  651.400   \n",
              "3            1.247602e+06         118168.0              1189868.116   \n",
              "4            7.577677e+03           8419.0                18626.000   \n",
              "..                    ...              ...                      ...   \n",
              "785          1.234956e+05          89712.0              1141895.400   \n",
              "786          1.185341e+06         166155.0               352337.500   \n",
              "787          2.378928e+05          68560.0                86985.376   \n",
              "788          1.324810e+05          68356.0               262594.400   \n",
              "789          6.301051e+04         117063.0               442106.100   \n",
              "\n",
              "     Total Value, m.IDR  Total Freq, x  \n",
              "0          8.992273e+06       513482.0  \n",
              "1          1.107518e+07       391867.0  \n",
              "2          1.670362e+02          698.0  \n",
              "3          1.314792e+06       118395.0  \n",
              "4          7.577677e+03         8419.0  \n",
              "..                  ...            ...  \n",
              "785        1.234956e+05        89712.0  \n",
              "786        1.189988e+06       166160.0  \n",
              "787        2.393491e+05        68567.0  \n",
              "788        1.324810e+05        68356.0  \n",
              "789        6.302331e+04       117064.0  \n",
              "\n",
              "[733 rows x 9 columns]"
            ],
            "text/html": [
              "\n",
              "  <div id=\"df-5e506ff5-6e83-4433-ab20-c15ef8896a16\">\n",
              "    <div class=\"colab-df-container\">\n",
              "      <div>\n",
              "<style scoped>\n",
              "    .dataframe tbody tr th:only-of-type {\n",
              "        vertical-align: middle;\n",
              "    }\n",
              "\n",
              "    .dataframe tbody tr th {\n",
              "        vertical-align: top;\n",
              "    }\n",
              "\n",
              "    .dataframe thead th {\n",
              "        text-align: right;\n",
              "    }\n",
              "</style>\n",
              "<table border=\"1\" class=\"dataframe\">\n",
              "  <thead>\n",
              "    <tr style=\"text-align: right;\">\n",
              "      <th></th>\n",
              "      <th>Code</th>\n",
              "      <th>Sharia</th>\n",
              "      <th>Market Cap., b.IDR</th>\n",
              "      <th>Regular Volume, th.shares</th>\n",
              "      <th>Regular Value, m.IDR</th>\n",
              "      <th>Regular Freq, x</th>\n",
              "      <th>Total Volume, th.shares</th>\n",
              "      <th>Total Value, m.IDR</th>\n",
              "      <th>Total Freq, x</th>\n",
              "    </tr>\n",
              "  </thead>\n",
              "  <tbody>\n",
              "    <tr>\n",
              "      <th>0</th>\n",
              "      <td>ADMR</td>\n",
              "      <td>S</td>\n",
              "      <td>64594.083770</td>\n",
              "      <td>4256469.0</td>\n",
              "      <td>8.374060e+06</td>\n",
              "      <td>513277.0</td>\n",
              "      <td>4534704.737</td>\n",
              "      <td>8.992273e+06</td>\n",
              "      <td>513482.0</td>\n",
              "    </tr>\n",
              "    <tr>\n",
              "      <th>1</th>\n",
              "      <td>ADRO</td>\n",
              "      <td>S</td>\n",
              "      <td>91479.851320</td>\n",
              "      <td>3407169.6</td>\n",
              "      <td>1.090450e+07</td>\n",
              "      <td>391563.0</td>\n",
              "      <td>3459957.797</td>\n",
              "      <td>1.107518e+07</td>\n",
              "      <td>391867.0</td>\n",
              "    </tr>\n",
              "    <tr>\n",
              "      <th>2</th>\n",
              "      <td>AIMS</td>\n",
              "      <td>S</td>\n",
              "      <td>55.440000</td>\n",
              "      <td>651.4</td>\n",
              "      <td>1.670362e+02</td>\n",
              "      <td>698.0</td>\n",
              "      <td>651.400</td>\n",
              "      <td>1.670362e+02</td>\n",
              "      <td>698.0</td>\n",
              "    </tr>\n",
              "    <tr>\n",
              "      <th>3</th>\n",
              "      <td>AKRA</td>\n",
              "      <td>S</td>\n",
              "      <td>20675.678838</td>\n",
              "      <td>1128236.6</td>\n",
              "      <td>1.247602e+06</td>\n",
              "      <td>118168.0</td>\n",
              "      <td>1189868.116</td>\n",
              "      <td>1.314792e+06</td>\n",
              "      <td>118395.0</td>\n",
              "    </tr>\n",
              "    <tr>\n",
              "      <th>4</th>\n",
              "      <td>APEX</td>\n",
              "      <td>S</td>\n",
              "      <td>962.100919</td>\n",
              "      <td>18626.0</td>\n",
              "      <td>7.577677e+03</td>\n",
              "      <td>8419.0</td>\n",
              "      <td>18626.000</td>\n",
              "      <td>7.577677e+03</td>\n",
              "      <td>8419.0</td>\n",
              "    </tr>\n",
              "    <tr>\n",
              "      <th>...</th>\n",
              "      <td>...</td>\n",
              "      <td>...</td>\n",
              "      <td>...</td>\n",
              "      <td>...</td>\n",
              "      <td>...</td>\n",
              "      <td>...</td>\n",
              "      <td>...</td>\n",
              "      <td>...</td>\n",
              "      <td>...</td>\n",
              "    </tr>\n",
              "    <tr>\n",
              "      <th>785</th>\n",
              "      <td>SDMU</td>\n",
              "      <td>-</td>\n",
              "      <td>101.035025</td>\n",
              "      <td>1141895.4</td>\n",
              "      <td>1.234956e+05</td>\n",
              "      <td>89712.0</td>\n",
              "      <td>1141895.400</td>\n",
              "      <td>1.234956e+05</td>\n",
              "      <td>89712.0</td>\n",
              "    </tr>\n",
              "    <tr>\n",
              "      <th>786</th>\n",
              "      <td>SMDR</td>\n",
              "      <td>S</td>\n",
              "      <td>9104.833600</td>\n",
              "      <td>350648.3</td>\n",
              "      <td>1.185341e+06</td>\n",
              "      <td>166155.0</td>\n",
              "      <td>352337.500</td>\n",
              "      <td>1.189988e+06</td>\n",
              "      <td>166160.0</td>\n",
              "    </tr>\n",
              "    <tr>\n",
              "      <th>787</th>\n",
              "      <td>TMAS</td>\n",
              "      <td>S</td>\n",
              "      <td>15346.853500</td>\n",
              "      <td>86514.3</td>\n",
              "      <td>2.378928e+05</td>\n",
              "      <td>68560.0</td>\n",
              "      <td>86985.376</td>\n",
              "      <td>2.393491e+05</td>\n",
              "      <td>68567.0</td>\n",
              "    </tr>\n",
              "    <tr>\n",
              "      <th>788</th>\n",
              "      <td>TNCA</td>\n",
              "      <td>S</td>\n",
              "      <td>179.618640</td>\n",
              "      <td>262594.4</td>\n",
              "      <td>1.324810e+05</td>\n",
              "      <td>68356.0</td>\n",
              "      <td>262594.400</td>\n",
              "      <td>1.324810e+05</td>\n",
              "      <td>68356.0</td>\n",
              "    </tr>\n",
              "    <tr>\n",
              "      <th>789</th>\n",
              "      <td>TRUK</td>\n",
              "      <td>S</td>\n",
              "      <td>56.550000</td>\n",
              "      <td>442056.1</td>\n",
              "      <td>6.301051e+04</td>\n",
              "      <td>117063.0</td>\n",
              "      <td>442106.100</td>\n",
              "      <td>6.302331e+04</td>\n",
              "      <td>117064.0</td>\n",
              "    </tr>\n",
              "  </tbody>\n",
              "</table>\n",
              "<p>733 rows × 9 columns</p>\n",
              "</div>\n",
              "      <button class=\"colab-df-convert\" onclick=\"convertToInteractive('df-5e506ff5-6e83-4433-ab20-c15ef8896a16')\"\n",
              "              title=\"Convert this dataframe to an interactive table.\"\n",
              "              style=\"display:none;\">\n",
              "        \n",
              "  <svg xmlns=\"http://www.w3.org/2000/svg\" height=\"24px\"viewBox=\"0 0 24 24\"\n",
              "       width=\"24px\">\n",
              "    <path d=\"M0 0h24v24H0V0z\" fill=\"none\"/>\n",
              "    <path d=\"M18.56 5.44l.94 2.06.94-2.06 2.06-.94-2.06-.94-.94-2.06-.94 2.06-2.06.94zm-11 1L8.5 8.5l.94-2.06 2.06-.94-2.06-.94L8.5 2.5l-.94 2.06-2.06.94zm10 10l.94 2.06.94-2.06 2.06-.94-2.06-.94-.94-2.06-.94 2.06-2.06.94z\"/><path d=\"M17.41 7.96l-1.37-1.37c-.4-.4-.92-.59-1.43-.59-.52 0-1.04.2-1.43.59L10.3 9.45l-7.72 7.72c-.78.78-.78 2.05 0 2.83L4 21.41c.39.39.9.59 1.41.59.51 0 1.02-.2 1.41-.59l7.78-7.78 2.81-2.81c.8-.78.8-2.07 0-2.86zM5.41 20L4 18.59l7.72-7.72 1.47 1.35L5.41 20z\"/>\n",
              "  </svg>\n",
              "      </button>\n",
              "      \n",
              "  <style>\n",
              "    .colab-df-container {\n",
              "      display:flex;\n",
              "      flex-wrap:wrap;\n",
              "      gap: 12px;\n",
              "    }\n",
              "\n",
              "    .colab-df-convert {\n",
              "      background-color: #E8F0FE;\n",
              "      border: none;\n",
              "      border-radius: 50%;\n",
              "      cursor: pointer;\n",
              "      display: none;\n",
              "      fill: #1967D2;\n",
              "      height: 32px;\n",
              "      padding: 0 0 0 0;\n",
              "      width: 32px;\n",
              "    }\n",
              "\n",
              "    .colab-df-convert:hover {\n",
              "      background-color: #E2EBFA;\n",
              "      box-shadow: 0px 1px 2px rgba(60, 64, 67, 0.3), 0px 1px 3px 1px rgba(60, 64, 67, 0.15);\n",
              "      fill: #174EA6;\n",
              "    }\n",
              "\n",
              "    [theme=dark] .colab-df-convert {\n",
              "      background-color: #3B4455;\n",
              "      fill: #D2E3FC;\n",
              "    }\n",
              "\n",
              "    [theme=dark] .colab-df-convert:hover {\n",
              "      background-color: #434B5C;\n",
              "      box-shadow: 0px 1px 3px 1px rgba(0, 0, 0, 0.15);\n",
              "      filter: drop-shadow(0px 1px 2px rgba(0, 0, 0, 0.3));\n",
              "      fill: #FFFFFF;\n",
              "    }\n",
              "  </style>\n",
              "\n",
              "      <script>\n",
              "        const buttonEl =\n",
              "          document.querySelector('#df-5e506ff5-6e83-4433-ab20-c15ef8896a16 button.colab-df-convert');\n",
              "        buttonEl.style.display =\n",
              "          google.colab.kernel.accessAllowed ? 'block' : 'none';\n",
              "\n",
              "        async function convertToInteractive(key) {\n",
              "          const element = document.querySelector('#df-5e506ff5-6e83-4433-ab20-c15ef8896a16');\n",
              "          const dataTable =\n",
              "            await google.colab.kernel.invokeFunction('convertToInteractive',\n",
              "                                                     [key], {});\n",
              "          if (!dataTable) return;\n",
              "\n",
              "          const docLinkHtml = 'Like what you see? Visit the ' +\n",
              "            '<a target=\"_blank\" href=https://colab.research.google.com/notebooks/data_table.ipynb>data table notebook</a>'\n",
              "            + ' to learn more about interactive tables.';\n",
              "          element.innerHTML = '';\n",
              "          dataTable['output_type'] = 'display_data';\n",
              "          await google.colab.output.renderOutput(dataTable, element);\n",
              "          const docLink = document.createElement('div');\n",
              "          docLink.innerHTML = docLinkHtml;\n",
              "          element.appendChild(docLink);\n",
              "        }\n",
              "      </script>\n",
              "    </div>\n",
              "  </div>\n",
              "  "
            ]
          },
          "metadata": {},
          "execution_count": 15
        }
      ]
    },
    {
      "cell_type": "markdown",
      "source": [
        "Pembentukan Dummy Variabel"
      ],
      "metadata": {
        "id": "wGw--ZB5vosi"
      }
    },
    {
      "cell_type": "code",
      "source": [
        "dms = pd.get_dummies(data[['Sharia']])\n",
        "data= pd.concat([data,dms], axis=1 )\n",
        "data = data.drop(['Sharia'],axis=1)"
      ],
      "metadata": {
        "id": "LZ5uYru4vs8A"
      },
      "execution_count": null,
      "outputs": []
    },
    {
      "cell_type": "code",
      "source": [
        "data"
      ],
      "metadata": {
        "colab": {
          "base_uri": "https://localhost:8080/",
          "height": 502
        },
        "id": "HBIQgcowvw7m",
        "outputId": "5a3430cd-0e79-4499-9d8c-a98dccdd14be"
      },
      "execution_count": null,
      "outputs": [
        {
          "output_type": "execute_result",
          "data": {
            "text/plain": [
              "     Code  Market Cap., b.IDR  Regular Volume, th.shares  \\\n",
              "0    ADMR        64594.083770                  4256469.0   \n",
              "1    ADRO        91479.851320                  3407169.6   \n",
              "2    AIMS           55.440000                      651.4   \n",
              "3    AKRA        20675.678838                  1128236.6   \n",
              "4    APEX          962.100919                    18626.0   \n",
              "..    ...                 ...                        ...   \n",
              "785  SDMU          101.035025                  1141895.4   \n",
              "786  SMDR         9104.833600                   350648.3   \n",
              "787  TMAS        15346.853500                    86514.3   \n",
              "788  TNCA          179.618640                   262594.4   \n",
              "789  TRUK           56.550000                   442056.1   \n",
              "\n",
              "     Regular Value, m.IDR  Regular Freq, x  Total Volume, th.shares  \\\n",
              "0            8.374060e+06         513277.0              4534704.737   \n",
              "1            1.090450e+07         391563.0              3459957.797   \n",
              "2            1.670362e+02            698.0                  651.400   \n",
              "3            1.247602e+06         118168.0              1189868.116   \n",
              "4            7.577677e+03           8419.0                18626.000   \n",
              "..                    ...              ...                      ...   \n",
              "785          1.234956e+05          89712.0              1141895.400   \n",
              "786          1.185341e+06         166155.0               352337.500   \n",
              "787          2.378928e+05          68560.0                86985.376   \n",
              "788          1.324810e+05          68356.0               262594.400   \n",
              "789          6.301051e+04         117063.0               442106.100   \n",
              "\n",
              "     Total Value, m.IDR  Total Freq, x  Sharia_-  Sharia_S  \n",
              "0          8.992273e+06       513482.0         0         1  \n",
              "1          1.107518e+07       391867.0         0         1  \n",
              "2          1.670362e+02          698.0         0         1  \n",
              "3          1.314792e+06       118395.0         0         1  \n",
              "4          7.577677e+03         8419.0         0         1  \n",
              "..                  ...            ...       ...       ...  \n",
              "785        1.234956e+05        89712.0         1         0  \n",
              "786        1.189988e+06       166160.0         0         1  \n",
              "787        2.393491e+05        68567.0         0         1  \n",
              "788        1.324810e+05        68356.0         0         1  \n",
              "789        6.302331e+04       117064.0         0         1  \n",
              "\n",
              "[733 rows x 10 columns]"
            ],
            "text/html": [
              "\n",
              "  <div id=\"df-e613eb33-82fd-486d-9908-003a148a2caa\">\n",
              "    <div class=\"colab-df-container\">\n",
              "      <div>\n",
              "<style scoped>\n",
              "    .dataframe tbody tr th:only-of-type {\n",
              "        vertical-align: middle;\n",
              "    }\n",
              "\n",
              "    .dataframe tbody tr th {\n",
              "        vertical-align: top;\n",
              "    }\n",
              "\n",
              "    .dataframe thead th {\n",
              "        text-align: right;\n",
              "    }\n",
              "</style>\n",
              "<table border=\"1\" class=\"dataframe\">\n",
              "  <thead>\n",
              "    <tr style=\"text-align: right;\">\n",
              "      <th></th>\n",
              "      <th>Code</th>\n",
              "      <th>Market Cap., b.IDR</th>\n",
              "      <th>Regular Volume, th.shares</th>\n",
              "      <th>Regular Value, m.IDR</th>\n",
              "      <th>Regular Freq, x</th>\n",
              "      <th>Total Volume, th.shares</th>\n",
              "      <th>Total Value, m.IDR</th>\n",
              "      <th>Total Freq, x</th>\n",
              "      <th>Sharia_-</th>\n",
              "      <th>Sharia_S</th>\n",
              "    </tr>\n",
              "  </thead>\n",
              "  <tbody>\n",
              "    <tr>\n",
              "      <th>0</th>\n",
              "      <td>ADMR</td>\n",
              "      <td>64594.083770</td>\n",
              "      <td>4256469.0</td>\n",
              "      <td>8.374060e+06</td>\n",
              "      <td>513277.0</td>\n",
              "      <td>4534704.737</td>\n",
              "      <td>8.992273e+06</td>\n",
              "      <td>513482.0</td>\n",
              "      <td>0</td>\n",
              "      <td>1</td>\n",
              "    </tr>\n",
              "    <tr>\n",
              "      <th>1</th>\n",
              "      <td>ADRO</td>\n",
              "      <td>91479.851320</td>\n",
              "      <td>3407169.6</td>\n",
              "      <td>1.090450e+07</td>\n",
              "      <td>391563.0</td>\n",
              "      <td>3459957.797</td>\n",
              "      <td>1.107518e+07</td>\n",
              "      <td>391867.0</td>\n",
              "      <td>0</td>\n",
              "      <td>1</td>\n",
              "    </tr>\n",
              "    <tr>\n",
              "      <th>2</th>\n",
              "      <td>AIMS</td>\n",
              "      <td>55.440000</td>\n",
              "      <td>651.4</td>\n",
              "      <td>1.670362e+02</td>\n",
              "      <td>698.0</td>\n",
              "      <td>651.400</td>\n",
              "      <td>1.670362e+02</td>\n",
              "      <td>698.0</td>\n",
              "      <td>0</td>\n",
              "      <td>1</td>\n",
              "    </tr>\n",
              "    <tr>\n",
              "      <th>3</th>\n",
              "      <td>AKRA</td>\n",
              "      <td>20675.678838</td>\n",
              "      <td>1128236.6</td>\n",
              "      <td>1.247602e+06</td>\n",
              "      <td>118168.0</td>\n",
              "      <td>1189868.116</td>\n",
              "      <td>1.314792e+06</td>\n",
              "      <td>118395.0</td>\n",
              "      <td>0</td>\n",
              "      <td>1</td>\n",
              "    </tr>\n",
              "    <tr>\n",
              "      <th>4</th>\n",
              "      <td>APEX</td>\n",
              "      <td>962.100919</td>\n",
              "      <td>18626.0</td>\n",
              "      <td>7.577677e+03</td>\n",
              "      <td>8419.0</td>\n",
              "      <td>18626.000</td>\n",
              "      <td>7.577677e+03</td>\n",
              "      <td>8419.0</td>\n",
              "      <td>0</td>\n",
              "      <td>1</td>\n",
              "    </tr>\n",
              "    <tr>\n",
              "      <th>...</th>\n",
              "      <td>...</td>\n",
              "      <td>...</td>\n",
              "      <td>...</td>\n",
              "      <td>...</td>\n",
              "      <td>...</td>\n",
              "      <td>...</td>\n",
              "      <td>...</td>\n",
              "      <td>...</td>\n",
              "      <td>...</td>\n",
              "      <td>...</td>\n",
              "    </tr>\n",
              "    <tr>\n",
              "      <th>785</th>\n",
              "      <td>SDMU</td>\n",
              "      <td>101.035025</td>\n",
              "      <td>1141895.4</td>\n",
              "      <td>1.234956e+05</td>\n",
              "      <td>89712.0</td>\n",
              "      <td>1141895.400</td>\n",
              "      <td>1.234956e+05</td>\n",
              "      <td>89712.0</td>\n",
              "      <td>1</td>\n",
              "      <td>0</td>\n",
              "    </tr>\n",
              "    <tr>\n",
              "      <th>786</th>\n",
              "      <td>SMDR</td>\n",
              "      <td>9104.833600</td>\n",
              "      <td>350648.3</td>\n",
              "      <td>1.185341e+06</td>\n",
              "      <td>166155.0</td>\n",
              "      <td>352337.500</td>\n",
              "      <td>1.189988e+06</td>\n",
              "      <td>166160.0</td>\n",
              "      <td>0</td>\n",
              "      <td>1</td>\n",
              "    </tr>\n",
              "    <tr>\n",
              "      <th>787</th>\n",
              "      <td>TMAS</td>\n",
              "      <td>15346.853500</td>\n",
              "      <td>86514.3</td>\n",
              "      <td>2.378928e+05</td>\n",
              "      <td>68560.0</td>\n",
              "      <td>86985.376</td>\n",
              "      <td>2.393491e+05</td>\n",
              "      <td>68567.0</td>\n",
              "      <td>0</td>\n",
              "      <td>1</td>\n",
              "    </tr>\n",
              "    <tr>\n",
              "      <th>788</th>\n",
              "      <td>TNCA</td>\n",
              "      <td>179.618640</td>\n",
              "      <td>262594.4</td>\n",
              "      <td>1.324810e+05</td>\n",
              "      <td>68356.0</td>\n",
              "      <td>262594.400</td>\n",
              "      <td>1.324810e+05</td>\n",
              "      <td>68356.0</td>\n",
              "      <td>0</td>\n",
              "      <td>1</td>\n",
              "    </tr>\n",
              "    <tr>\n",
              "      <th>789</th>\n",
              "      <td>TRUK</td>\n",
              "      <td>56.550000</td>\n",
              "      <td>442056.1</td>\n",
              "      <td>6.301051e+04</td>\n",
              "      <td>117063.0</td>\n",
              "      <td>442106.100</td>\n",
              "      <td>6.302331e+04</td>\n",
              "      <td>117064.0</td>\n",
              "      <td>0</td>\n",
              "      <td>1</td>\n",
              "    </tr>\n",
              "  </tbody>\n",
              "</table>\n",
              "<p>733 rows × 10 columns</p>\n",
              "</div>\n",
              "      <button class=\"colab-df-convert\" onclick=\"convertToInteractive('df-e613eb33-82fd-486d-9908-003a148a2caa')\"\n",
              "              title=\"Convert this dataframe to an interactive table.\"\n",
              "              style=\"display:none;\">\n",
              "        \n",
              "  <svg xmlns=\"http://www.w3.org/2000/svg\" height=\"24px\"viewBox=\"0 0 24 24\"\n",
              "       width=\"24px\">\n",
              "    <path d=\"M0 0h24v24H0V0z\" fill=\"none\"/>\n",
              "    <path d=\"M18.56 5.44l.94 2.06.94-2.06 2.06-.94-2.06-.94-.94-2.06-.94 2.06-2.06.94zm-11 1L8.5 8.5l.94-2.06 2.06-.94-2.06-.94L8.5 2.5l-.94 2.06-2.06.94zm10 10l.94 2.06.94-2.06 2.06-.94-2.06-.94-.94-2.06-.94 2.06-2.06.94z\"/><path d=\"M17.41 7.96l-1.37-1.37c-.4-.4-.92-.59-1.43-.59-.52 0-1.04.2-1.43.59L10.3 9.45l-7.72 7.72c-.78.78-.78 2.05 0 2.83L4 21.41c.39.39.9.59 1.41.59.51 0 1.02-.2 1.41-.59l7.78-7.78 2.81-2.81c.8-.78.8-2.07 0-2.86zM5.41 20L4 18.59l7.72-7.72 1.47 1.35L5.41 20z\"/>\n",
              "  </svg>\n",
              "      </button>\n",
              "      \n",
              "  <style>\n",
              "    .colab-df-container {\n",
              "      display:flex;\n",
              "      flex-wrap:wrap;\n",
              "      gap: 12px;\n",
              "    }\n",
              "\n",
              "    .colab-df-convert {\n",
              "      background-color: #E8F0FE;\n",
              "      border: none;\n",
              "      border-radius: 50%;\n",
              "      cursor: pointer;\n",
              "      display: none;\n",
              "      fill: #1967D2;\n",
              "      height: 32px;\n",
              "      padding: 0 0 0 0;\n",
              "      width: 32px;\n",
              "    }\n",
              "\n",
              "    .colab-df-convert:hover {\n",
              "      background-color: #E2EBFA;\n",
              "      box-shadow: 0px 1px 2px rgba(60, 64, 67, 0.3), 0px 1px 3px 1px rgba(60, 64, 67, 0.15);\n",
              "      fill: #174EA6;\n",
              "    }\n",
              "\n",
              "    [theme=dark] .colab-df-convert {\n",
              "      background-color: #3B4455;\n",
              "      fill: #D2E3FC;\n",
              "    }\n",
              "\n",
              "    [theme=dark] .colab-df-convert:hover {\n",
              "      background-color: #434B5C;\n",
              "      box-shadow: 0px 1px 3px 1px rgba(0, 0, 0, 0.15);\n",
              "      filter: drop-shadow(0px 1px 2px rgba(0, 0, 0, 0.3));\n",
              "      fill: #FFFFFF;\n",
              "    }\n",
              "  </style>\n",
              "\n",
              "      <script>\n",
              "        const buttonEl =\n",
              "          document.querySelector('#df-e613eb33-82fd-486d-9908-003a148a2caa button.colab-df-convert');\n",
              "        buttonEl.style.display =\n",
              "          google.colab.kernel.accessAllowed ? 'block' : 'none';\n",
              "\n",
              "        async function convertToInteractive(key) {\n",
              "          const element = document.querySelector('#df-e613eb33-82fd-486d-9908-003a148a2caa');\n",
              "          const dataTable =\n",
              "            await google.colab.kernel.invokeFunction('convertToInteractive',\n",
              "                                                     [key], {});\n",
              "          if (!dataTable) return;\n",
              "\n",
              "          const docLinkHtml = 'Like what you see? Visit the ' +\n",
              "            '<a target=\"_blank\" href=https://colab.research.google.com/notebooks/data_table.ipynb>data table notebook</a>'\n",
              "            + ' to learn more about interactive tables.';\n",
              "          element.innerHTML = '';\n",
              "          dataTable['output_type'] = 'display_data';\n",
              "          await google.colab.output.renderOutput(dataTable, element);\n",
              "          const docLink = document.createElement('div');\n",
              "          docLink.innerHTML = docLinkHtml;\n",
              "          element.appendChild(docLink);\n",
              "        }\n",
              "      </script>\n",
              "    </div>\n",
              "  </div>\n",
              "  "
            ]
          },
          "metadata": {},
          "execution_count": 17
        }
      ]
    },
    {
      "cell_type": "code",
      "source": [
        "data.dtypes"
      ],
      "metadata": {
        "colab": {
          "base_uri": "https://localhost:8080/"
        },
        "id": "GyGA1UHev0f0",
        "outputId": "08e55684-dee3-4167-f1f2-fcbcb1637579"
      },
      "execution_count": null,
      "outputs": [
        {
          "output_type": "execute_result",
          "data": {
            "text/plain": [
              "Code                          object\n",
              "Market Cap., b.IDR           float64\n",
              "Regular Volume, th.shares    float64\n",
              "Regular Value, m.IDR         float64\n",
              "Regular Freq, x              float64\n",
              "Total Volume, th.shares      float64\n",
              "Total Value, m.IDR           float64\n",
              "Total Freq, x                float64\n",
              "Sharia_-                       uint8\n",
              "Sharia_S                       uint8\n",
              "dtype: object"
            ]
          },
          "metadata": {},
          "execution_count": 24
        }
      ]
    },
    {
      "cell_type": "code",
      "source": [
        "sns.heatmap(data.corr(),cmap=\"YlGnBu\",annot=True)"
      ],
      "metadata": {
        "colab": {
          "base_uri": "https://localhost:8080/",
          "height": 408
        },
        "id": "oVOYaf021rCx",
        "outputId": "20f91752-6d3a-41a2-dc6c-84596bd43a0c"
      },
      "execution_count": null,
      "outputs": [
        {
          "output_type": "execute_result",
          "data": {
            "text/plain": [
              "<matplotlib.axes._subplots.AxesSubplot at 0x7f3fb5bb3990>"
            ]
          },
          "metadata": {},
          "execution_count": 25
        },
        {
          "output_type": "display_data",
          "data": {
            "text/plain": [
              "<Figure size 432x288 with 2 Axes>"
            ],
            "image/png": "[encoded data removed]"
          },
          "metadata": {
            "needs_background": "light"
          }
        }
      ]
    },
    {
      "cell_type": "markdown",
      "source": [
        "Spilting Data"
      ],
      "metadata": {
        "id": "axTCB_UGwO5w"
      }
    },
    {
      "cell_type": "code",
      "source": [
        "X = data.drop(['Total Volume, th.shares'], axis = 1)\n",
        "y = data['Total Volume, th.shares']"
      ],
      "metadata": {
        "id": "MWsYsuccwT5b"
      },
      "execution_count": null,
      "outputs": []
    },
    {
      "cell_type": "code",
      "source": [
        "X_train, X_test, y_train, y_test = train_test_split(X, y, test_size = 0.3)"
      ],
      "metadata": {
        "id": "vU9rmAlowZXY"
      },
      "execution_count": null,
      "outputs": []
    },
    {
      "cell_type": "markdown",
      "source": [
        "#Linear Regression"
      ],
      "metadata": {
        "id": "6H7v7zto2bxS"
      }
    },
    {
      "cell_type": "code",
      "source": [
        "import sklearn\n",
        "from sklearn import linear_model\n",
        "import statsmodels.api as sm\n",
        "import numpy as np"
      ],
      "metadata": {
        "id": "aJHeUwMB2fau"
      },
      "execution_count": null,
      "outputs": []
    },
    {
      "cell_type": "code",
      "source": [
        "# load statmodels functions\n",
        "from statsmodels.stats.outliers_influence import variance_inflation_factor\n",
        "from statsmodels.tools.tools import add_constant\n",
        "\n",
        "# compute the vif for all given features\n",
        "def compute_vif(considered_features):\n",
        "\n",
        "    X = X_train[considered_features]\n",
        "    # the calculation of variance inflation requires a constant\n",
        "    X['intercept'] = 1\n",
        "\n",
        "    # create dataframe to store vif values\n",
        "    vif = pd.DataFrame()\n",
        "    vif[\"Variable\"] = X.columns\n",
        "    vif[\"VIF\"] = [variance_inflation_factor(X.values, i) for i in range(X.shape[1])]\n",
        "    vif = vif[vif['Variable']!='intercept']\n",
        "    return vif"
      ],
      "metadata": {
        "id": "kGaRyxKq2nPZ"
      },
      "execution_count": null,
      "outputs": []
    },
    {
      "cell_type": "code",
      "source": [
        "# features to consider removing\n",
        "considered_features = ['Market Cap., b.IDR','Regular Volume, th.shares','Regular Value, m.IDR',\n",
        "     'Regular Freq, x', 'Total Value, m.IDR', 'Total Freq, x']\n",
        "\n",
        "\n",
        "# compute vif\n",
        "compute_vif(considered_features).sort_values('VIF', ascending=False)"
      ],
      "metadata": {
        "colab": {
          "base_uri": "https://localhost:8080/",
          "height": 362
        },
        "id": "oYzwBdE33BjS",
        "outputId": "6d5a3b46-d8a0-4059-9a46-81ad3d518e7c"
      },
      "execution_count": null,
      "outputs": [
        {
          "output_type": "stream",
          "name": "stderr",
          "text": [
            "/usr/local/lib/python3.7/dist-packages/ipykernel_launcher.py:10: SettingWithCopyWarning: \n",
            "A value is trying to be set on a copy of a slice from a DataFrame.\n",
            "Try using .loc[row_indexer,col_indexer] = value instead\n",
            "\n",
            "See the caveats in the documentation: https://pandas.pydata.org/pandas-docs/stable/user_guide/indexing.html#returning-a-view-versus-a-copy\n",
            "  # Remove the CWD from sys.path while we load stuff.\n"
          ]
        },
        {
          "output_type": "execute_result",
          "data": {
            "text/plain": [
              "                    Variable            VIF\n",
              "5              Total Freq, x  191526.985193\n",
              "3            Regular Freq, x  191308.008080\n",
              "2       Regular Value, m.IDR      21.266765\n",
              "4         Total Value, m.IDR      16.886792\n",
              "0         Market Cap., b.IDR       3.983611\n",
              "1  Regular Volume, th.shares       2.507032"
            ],
            "text/html": [
              "\n",
              "  <div id=\"df-71941e40-52a7-40bd-b742-22c7745c53a8\">\n",
              "    <div class=\"colab-df-container\">\n",
              "      <div>\n",
              "<style scoped>\n",
              "    .dataframe tbody tr th:only-of-type {\n",
              "        vertical-align: middle;\n",
              "    }\n",
              "\n",
              "    .dataframe tbody tr th {\n",
              "        vertical-align: top;\n",
              "    }\n",
              "\n",
              "    .dataframe thead th {\n",
              "        text-align: right;\n",
              "    }\n",
              "</style>\n",
              "<table border=\"1\" class=\"dataframe\">\n",
              "  <thead>\n",
              "    <tr style=\"text-align: right;\">\n",
              "      <th></th>\n",
              "      <th>Variable</th>\n",
              "      <th>VIF</th>\n",
              "    </tr>\n",
              "  </thead>\n",
              "  <tbody>\n",
              "    <tr>\n",
              "      <th>5</th>\n",
              "      <td>Total Freq, x</td>\n",
              "      <td>191526.985193</td>\n",
              "    </tr>\n",
              "    <tr>\n",
              "      <th>3</th>\n",
              "      <td>Regular Freq, x</td>\n",
              "      <td>191308.008080</td>\n",
              "    </tr>\n",
              "    <tr>\n",
              "      <th>2</th>\n",
              "      <td>Regular Value, m.IDR</td>\n",
              "      <td>21.266765</td>\n",
              "    </tr>\n",
              "    <tr>\n",
              "      <th>4</th>\n",
              "      <td>Total Value, m.IDR</td>\n",
              "      <td>16.886792</td>\n",
              "    </tr>\n",
              "    <tr>\n",
              "      <th>0</th>\n",
              "      <td>Market Cap., b.IDR</td>\n",
              "      <td>3.983611</td>\n",
              "    </tr>\n",
              "    <tr>\n",
              "      <th>1</th>\n",
              "      <td>Regular Volume, th.shares</td>\n",
              "      <td>2.507032</td>\n",
              "    </tr>\n",
              "  </tbody>\n",
              "</table>\n",
              "</div>\n",
              "      <button class=\"colab-df-convert\" onclick=\"convertToInteractive('df-71941e40-52a7-40bd-b742-22c7745c53a8')\"\n",
              "              title=\"Convert this dataframe to an interactive table.\"\n",
              "              style=\"display:none;\">\n",
              "        \n",
              "  <svg xmlns=\"http://www.w3.org/2000/svg\" height=\"24px\"viewBox=\"0 0 24 24\"\n",
              "       width=\"24px\">\n",
              "    <path d=\"M0 0h24v24H0V0z\" fill=\"none\"/>\n",
              "    <path d=\"M18.56 5.44l.94 2.06.94-2.06 2.06-.94-2.06-.94-.94-2.06-.94 2.06-2.06.94zm-11 1L8.5 8.5l.94-2.06 2.06-.94-2.06-.94L8.5 2.5l-.94 2.06-2.06.94zm10 10l.94 2.06.94-2.06 2.06-.94-2.06-.94-.94-2.06-.94 2.06-2.06.94z\"/><path d=\"M17.41 7.96l-1.37-1.37c-.4-.4-.92-.59-1.43-.59-.52 0-1.04.2-1.43.59L10.3 9.45l-7.72 7.72c-.78.78-.78 2.05 0 2.83L4 21.41c.39.39.9.59 1.41.59.51 0 1.02-.2 1.41-.59l7.78-7.78 2.81-2.81c.8-.78.8-2.07 0-2.86zM5.41 20L4 18.59l7.72-7.72 1.47 1.35L5.41 20z\"/>\n",
              "  </svg>\n",
              "      </button>\n",
              "      \n",
              "  <style>\n",
              "    .colab-df-container {\n",
              "      display:flex;\n",
              "      flex-wrap:wrap;\n",
              "      gap: 12px;\n",
              "    }\n",
              "\n",
              "    .colab-df-convert {\n",
              "      background-color: #E8F0FE;\n",
              "      border: none;\n",
              "      border-radius: 50%;\n",
              "      cursor: pointer;\n",
              "      display: none;\n",
              "      fill: #1967D2;\n",
              "      height: 32px;\n",
              "      padding: 0 0 0 0;\n",
              "      width: 32px;\n",
              "    }\n",
              "\n",
              "    .colab-df-convert:hover {\n",
              "      background-color: #E2EBFA;\n",
              "      box-shadow: 0px 1px 2px rgba(60, 64, 67, 0.3), 0px 1px 3px 1px rgba(60, 64, 67, 0.15);\n",
              "      fill: #174EA6;\n",
              "    }\n",
              "\n",
              "    [theme=dark] .colab-df-convert {\n",
              "      background-color: #3B4455;\n",
              "      fill: #D2E3FC;\n",
              "    }\n",
              "\n",
              "    [theme=dark] .colab-df-convert:hover {\n",
              "      background-color: #434B5C;\n",
              "      box-shadow: 0px 1px 3px 1px rgba(0, 0, 0, 0.15);\n",
              "      filter: drop-shadow(0px 1px 2px rgba(0, 0, 0, 0.3));\n",
              "      fill: #FFFFFF;\n",
              "    }\n",
              "  </style>\n",
              "\n",
              "      <script>\n",
              "        const buttonEl =\n",
              "          document.querySelector('#df-71941e40-52a7-40bd-b742-22c7745c53a8 button.colab-df-convert');\n",
              "        buttonEl.style.display =\n",
              "          google.colab.kernel.accessAllowed ? 'block' : 'none';\n",
              "\n",
              "        async function convertToInteractive(key) {\n",
              "          const element = document.querySelector('#df-71941e40-52a7-40bd-b742-22c7745c53a8');\n",
              "          const dataTable =\n",
              "            await google.colab.kernel.invokeFunction('convertToInteractive',\n",
              "                                                     [key], {});\n",
              "          if (!dataTable) return;\n",
              "\n",
              "          const docLinkHtml = 'Like what you see? Visit the ' +\n",
              "            '<a target=\"_blank\" href=https://colab.research.google.com/notebooks/data_table.ipynb>data table notebook</a>'\n",
              "            + ' to learn more about interactive tables.';\n",
              "          element.innerHTML = '';\n",
              "          dataTable['output_type'] = 'display_data';\n",
              "          await google.colab.output.renderOutput(dataTable, element);\n",
              "          const docLink = document.createElement('div');\n",
              "          docLink.innerHTML = docLinkHtml;\n",
              "          element.appendChild(docLink);\n",
              "        }\n",
              "      </script>\n",
              "    </div>\n",
              "  </div>\n",
              "  "
            ]
          },
          "metadata": {},
          "execution_count": 23
        }
      ]
    },
    {
      "cell_type": "markdown",
      "source": [
        "Normalisasi"
      ],
      "metadata": {
        "id": "7kACGCHlwgao"
      }
    },
    {
      "cell_type": "code",
      "source": [
        "num=['Market Cap., b.IDR','Regular Volume, th.shares','Regular Value, m.IDR',\n",
        "     'Regular Freq, x', 'Total Value, m.IDR', 'Total Freq, x']"
      ],
      "metadata": {
        "id": "mZK4qa1KwcLA"
      },
      "execution_count": null,
      "outputs": []
    },
    {
      "cell_type": "code",
      "source": [
        "scaler = MinMaxScaler()\n",
        "X_train = scaler.fit_transform(X_train[num])\n",
        "X_test = scaler.transform(X_test[num])"
      ],
      "metadata": {
        "id": "ff4LL41_wnjc"
      },
      "execution_count": null,
      "outputs": []
    },
    {
      "cell_type": "markdown",
      "source": [
        "#Modelling"
      ],
      "metadata": {
        "id": "R7slJ59ywtHv"
      }
    },
    {
      "cell_type": "code",
      "source": [
        "from scipy.stats import kstest\n",
        "#perform Kolmogorov-Smirnov test\n",
        "kstest(y_train, 'norm')"
      ],
      "metadata": {
        "colab": {
          "base_uri": "https://localhost:8080/"
        },
        "id": "UmFSwXA_wvWA",
        "outputId": "39c5c6a5-eb73-4351-abd4-2873ef35406e"
      },
      "execution_count": null,
      "outputs": [
        {
          "output_type": "execute_result",
          "data": {
            "text/plain": [
              "KstestResult(statistic=0.9941486491105009, pvalue=0.0)"
            ]
          },
          "metadata": {},
          "execution_count": 33
        }
      ]
    },
    {
      "cell_type": "code",
      "source": [
        "# Creating plot\n",
        "plt.boxplot(y_train)\n",
        "\n",
        "# show plot\n",
        "plt.show()"
      ],
      "metadata": {
        "colab": {
          "base_uri": "https://localhost:8080/",
          "height": 276
        },
        "id": "QaTs1rEnw1ZJ",
        "outputId": "e60e87f7-375c-495d-8d19-c6cde7c9cc50"
      },
      "execution_count": null,
      "outputs": [
        {
          "output_type": "display_data",
          "data": {
            "text/plain": [
              "<Figure size 432x288 with 1 Axes>"
            ],
            "image/png": "[encoded data removed]"
          },
          "metadata": {
            "needs_background": "light"
          }
        }
      ]
    },
    {
      "cell_type": "code",
      "source": [
        "ridge_model= Ridge().fit(X_train, y_train)"
      ],
      "metadata": {
        "id": "Yp4__lWnxBDP"
      },
      "execution_count": null,
      "outputs": []
    },
    {
      "cell_type": "code",
      "source": [
        "y_pred= ridge_model.predict(X_test)"
      ],
      "metadata": {
        "id": "sEKM92cIxDr_"
      },
      "execution_count": null,
      "outputs": []
    },
    {
      "cell_type": "code",
      "source": [
        "rmse = (np.sqrt(mean_squared_error(y_test, y_pred)))\n",
        "mape = mean_absolute_percentage_error(y_test, y_pred)\n",
        "mae = mean_absolute_error(y_test, y_pred)\n",
        "r2 = r2_score(y_test, y_pred)\n",
        "print('Testing performance')\n",
        "print('MAPE: {:.4f}'.format(mape))\n",
        "print('MAE: {:.4f}'.format(mae))\n",
        "print('RMSE: {:.4f}'.format(rmse))\n",
        "print('R2: {:.4f}'.format(r2))"
      ],
      "metadata": {
        "colab": {
          "base_uri": "https://localhost:8080/"
        },
        "id": "1QfL-1AtxFeH",
        "outputId": "c53c952a-5fd1-4fb5-c6c5-4b98f3b0d139"
      },
      "execution_count": null,
      "outputs": [
        {
          "output_type": "stream",
          "name": "stdout",
          "text": [
            "Testing performance\n",
            "MAPE: 6216.2914\n",
            "MAE: 408895.2167\n",
            "RMSE: 1137211.1641\n",
            "R2: 0.6534\n"
          ]
        }
      ]
    }
  ],
  "metadata": {
    "colab": {
      "provenance": [],
      "toc_visible": true
    },
    "kernelspec": {
      "display_name": "Python 3",
      "name": "python3"
    },
    "language_info": {
      "name": "python"
    }
  },
  "nbformat": 4,
  "nbformat_minor": 0
}